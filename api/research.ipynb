{
 "cells": [
  {
   "cell_type": "markdown",
   "metadata": {},
   "source": [
    "### VaR Comparison"
   ]
  },
  {
   "cell_type": "code",
   "execution_count": 7,
   "metadata": {},
   "outputs": [],
   "source": [
    "import numpy as np\n",
    "import pandas as pd\n",
    "import yfinance as yf\n",
    "import datetime as dt\n",
    "from scipy.stats import norm"
   ]
  },
  {
   "cell_type": "markdown",
   "metadata": {},
   "source": [
    "#### Declaring classes"
   ]
  },
  {
   "cell_type": "code",
   "execution_count": 8,
   "metadata": {},
   "outputs": [],
   "source": [
    "\n",
    "class PortofolioData:\n",
    "    def __init__(self, stocks, weights, Time, initial_investment, forecast_start_date=dt.datetime.now()):\n",
    "        self.stocks = stocks\n",
    "        self.weights = np.array(weights)\n",
    "        self.Time = Time  # number of days over which the var is calculated\n",
    "        self.initial_investment = initial_investment\n",
    "        self.returns, self.mean_returns, self.cov_matrix = self.get_data(\n",
    "                start_date=forecast_start_date-dt.timedelta(days=800), end_date=forecast_start_date)\n",
    "\n",
    "    def get_data(\n",
    "        self,\n",
    "        start_date=dt.datetime.now() - dt.timedelta(days=800),\n",
    "        end_date=dt.datetime.now(),\n",
    "    ):\n",
    "        # Get historical data and calculate returns\n",
    "        stock_data = yf.download(self.stocks, start=start_date, end=end_date)\n",
    "\n",
    "        stock_data = stock_data[\"Close\"]\n",
    "        returns = stock_data.pct_change()\n",
    "        mean_returns = returns.mean()\n",
    "        cov_matrix = returns.cov()\n",
    "        returns = returns.dropna()\n",
    "        returns[\"portofolio\"] = returns.dot(self.weights)\n",
    "        return returns, mean_returns, cov_matrix\n",
    "\n",
    "    def get_expected_portofolio_performance(self):\n",
    "        expected_returns = np.sum(self.mean_returns * self.weights) * self.Time\n",
    "        expected_std = np.sqrt(\n",
    "            np.dot(self.weights.T, np.dot(self.cov_matrix, self.weights))\n",
    "        ) * np.sqrt(self.Time)\n",
    "        return expected_returns, expected_std\n",
    "\n",
    "    def __str__(self):\n",
    "        txt = \"\"\n",
    "        txt += f\"PORTOFOLIO: {self.initial_investment}\\n\"\n",
    "        for i in range(len(self.stocks)):\n",
    "            txt += f\"{self.stocks[i]}:{self.weights[i]*100}%\\n\"\n",
    "        txt += \"--------------------------\\n\"\n",
    "        txt += \"Returns:\\n\"\n",
    "        txt += f\"{self.returns}\\n\"\n",
    "        txt += \"--------------------------\\n\"\n",
    "        txt += \"Mean Returns:\\n\"\n",
    "        txt += f\"{self.mean_returns}\\n\"\n",
    "        txt += \"--------------------------\\n\"\n",
    "        txt += \"Covariance Matrix\\n\"\n",
    "        txt += f\"{self.cov_matrix}\\n\"\n",
    "        txt += \"--------------------------\\n\"\n",
    "        return txt\n"
   ]
  },
  {
   "cell_type": "code",
   "execution_count": 9,
   "metadata": {},
   "outputs": [],
   "source": [
    "\n",
    "class VaR:\n",
    "    def __init__(self, portofolio: PortofolioData, confidence_level=0.95):\n",
    "        self.portofolio = portofolio\n",
    "        self.confidence_level = confidence_level\n",
    "        self.alpha = 1 - confidence_level\n",
    "\n",
    "    def calculate_historical_var(self):\n",
    "        h_var = -np.percentile(\n",
    "            self.portofolio.returns[\"portofolio\"], self.alpha * 100\n",
    "        ) * np.sqrt(self.portofolio.Time)\n",
    "\n",
    "        return {\n",
    "            \"relative\": h_var,\n",
    "            \"absolute\": self.portofolio.initial_investment * h_var,\n",
    "        }\n",
    "\n",
    "    def calculate_parametric_var(self):\n",
    "\n",
    "        expected_portofolio_return, expected_portofolio_std = (\n",
    "            self.portofolio.get_expected_portofolio_performance()\n",
    "        )\n",
    "\n",
    "        p_var = (\n",
    "            norm.ppf(self.confidence_level) * expected_portofolio_std\n",
    "            - expected_portofolio_return\n",
    "        )\n",
    "\n",
    "        return {\n",
    "            \"relative\": p_var,\n",
    "            \"absolute\": self.portofolio.initial_investment * p_var,\n",
    "        }\n",
    "\n",
    "    def calculate_monte_carlo_var(self, simulations=1000):\n",
    "\n",
    "        mean_m = np.full(\n",
    "            shape=(self.portofolio.Time, len(self.portofolio.weights)),\n",
    "            fill_value=self.portofolio.mean_returns,\n",
    "        )\n",
    "        mean_m = mean_m.T\n",
    "\n",
    "        portfolio_sims = np.full(\n",
    "            shape=(self.portofolio.Time, simulations), fill_value=0.0\n",
    "        )\n",
    "\n",
    "        for m in range(0, simulations):\n",
    "            Z = np.random.normal(\n",
    "                size=(self.portofolio.Time, len(self.portofolio.weights))\n",
    "            )\n",
    "            L = np.linalg.cholesky(self.portofolio.cov_matrix)\n",
    "            daily_returns = mean_m + np.inner(L, Z)\n",
    "            portfolio_sims[:, m] = (\n",
    "                np.cumprod(np.inner(self.portofolio.weights, daily_returns.T) + 1)\n",
    "                * self.portofolio.initial_investment\n",
    "            )\n",
    "\n",
    "        portResults = pd.Series(portfolio_sims[-1, :])\n",
    "        kept = np.percentile(portResults, self.alpha * 100)\n",
    "\n",
    "        absolute_mc_var = self.portofolio.initial_investment - kept\n",
    "        relative_mc_var = absolute_mc_var / self.portofolio.initial_investment\n",
    "\n",
    "        return {\n",
    "            \"relative\": relative_mc_var,\n",
    "            \"absolute\": absolute_mc_var,\n",
    "        }\n",
    "\n",
    "    def __str__(self):\n",
    "        historical_var = self.calculate_historical_var()\n",
    "        parametric_var = self.calculate_parametric_var()\n",
    "        monte_carlo_var = self.calculate_monte_carlo_var()\n",
    "\n",
    "        txt = \"Value at Risk (VaR) Analysis:\\n\"\n",
    "        txt += f\"Confidence Level: {self.confidence_level * 100}%\\n\"\n",
    "        txt += f\"Historical VaR: {historical_var}\\n\"\n",
    "        txt += f\"Parametric VaR: {parametric_var}\\n\"\n",
    "        txt += f\"Monte Carlo VaR: {monte_carlo_var}\\n\"\n",
    "        return txt\n"
   ]
  },
  {
   "cell_type": "code",
   "execution_count": 1,
   "metadata": {},
   "outputs": [],
   "source": [
    "from generate_random_portfolios import read_portfolios_from_json\n",
    "\n",
    "test_portfolios = read_portfolios_from_json(\"random_portfolios.json\")"
   ]
  },
  {
   "cell_type": "code",
   "execution_count": 2,
   "metadata": {},
   "outputs": [
    {
     "data": {
      "text/plain": [
       "{'stocks_list': ['MU',\n",
       "  'ADBE',\n",
       "  'CRM',\n",
       "  'IBM',\n",
       "  'V',\n",
       "  'CMCSA',\n",
       "  'DIS',\n",
       "  'AAPL',\n",
       "  'INTC',\n",
       "  'AMD'],\n",
       " 'stocks_weights': [0.030000000000000002,\n",
       "  0.104,\n",
       "  0.022,\n",
       "  0.047,\n",
       "  0.148,\n",
       "  0.104,\n",
       "  0.104,\n",
       "  0.122,\n",
       "  0.187,\n",
       "  0.132],\n",
       " 'initial_investment': 43072.88,\n",
       " 'time': 38,\n",
       " 'time_horizon': 'medium_term',\n",
       " 'start_date': '2024-06-26'}"
      ]
     },
     "execution_count": 2,
     "metadata": {},
     "output_type": "execute_result"
    }
   ],
   "source": [
    "test_portfolios[0]"
   ]
  },
  {
   "cell_type": "markdown",
   "metadata": {},
   "source": [
    "#### Comparing the VaR methods"
   ]
  },
  {
   "cell_type": "code",
   "execution_count": null,
   "metadata": {},
   "outputs": [],
   "source": []
  },
  {
   "cell_type": "markdown",
   "metadata": {},
   "source": [
    "### Custom VaR Model"
   ]
  },
  {
   "cell_type": "code",
   "execution_count": 13,
   "metadata": {},
   "outputs": [],
   "source": [
    "import yfinance as yf\n",
    "import pandas as pd"
   ]
  },
  {
   "cell_type": "code",
   "execution_count": 14,
   "metadata": {},
   "outputs": [
    {
     "name": "stdout",
     "output_type": "stream",
     "text": []
    },
    {
     "name": "stdout",
     "output_type": "stream",
     "text": []
    }
   ],
   "source": [
    "stock_data = yf.download('spx')\n",
    "stock_data.head()"
   ]
  },
  {
   "cell_type": "code",
   "execution_count": 11,
   "metadata": {},
   "outputs": [
    {
     "name": "stdout",
     "output_type": "stream",
     "text": []
    },
    {
     "name": "stdout",
     "output_type": "stream",
     "text": []
    }
   ],
   "source": [
    "stocks = ['SPX']\n",
    "weights = [1]\n",
    "Time = 30\n",
    "initial_investment = 1000\n",
    "\n",
    "portofolio = PortofolioData(stocks, weights,Time, initial_investment )"
   ]
  }
 ],
 "metadata": {
  "kernelspec": {
   "display_name": "Python 3",
   "language": "python",
   "name": "python3"
  },
  "language_info": {
   "codemirror_mode": {
    "name": "ipython",
    "version": 3
   },
   "file_extension": ".py",
   "mimetype": "text/x-python",
   "name": "python",
   "nbconvert_exporter": "python",
   "pygments_lexer": "ipython3",
   "version": "3.13.2"
  }
 },
 "nbformat": 4,
 "nbformat_minor": 2
}
