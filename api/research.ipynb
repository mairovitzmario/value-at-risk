{
 "cells": [
  {
   "cell_type": "markdown",
   "metadata": {},
   "source": [
    "### VaR Comparison"
   ]
  },
  {
   "cell_type": "code",
   "execution_count": 87,
   "metadata": {},
   "outputs": [],
   "source": [
    "import numpy as np\n",
    "import pandas as pd\n",
    "import yfinance as yf\n",
    "import datetime as dt\n",
    "from scipy.stats import norm\n",
    "import matplotlib.pyplot as plt\n",
    "import seaborn as sns\n"
   ]
  },
  {
   "cell_type": "markdown",
   "metadata": {},
   "source": [
    "#### Declaring classes"
   ]
  },
  {
   "cell_type": "markdown",
   "metadata": {},
   "source": [
    "##### Portofolio Class"
   ]
  },
  {
   "cell_type": "code",
   "execution_count": 88,
   "metadata": {},
   "outputs": [],
   "source": [
    "\n",
    "class PortofolioData:\n",
    "    def __init__(self, stocks, weights, Time, initial_investment, forecast_start_date=dt.datetime.now()):\n",
    "        self.stocks = stocks\n",
    "        self.weights = np.array(weights)\n",
    "        self.Time = Time  # number of days over which the var is calculated\n",
    "        self.initial_investment = initial_investment\n",
    "        self.returns, self.mean_returns, self.cov_matrix = self.get_data(\n",
    "                start_date=forecast_start_date-dt.timedelta(days=800), end_date=forecast_start_date)\n",
    "\n",
    "    def get_data(\n",
    "        self,\n",
    "        start_date=dt.datetime.now() - dt.timedelta(days=800),\n",
    "        end_date=dt.datetime.now(),\n",
    "    ):\n",
    "        # Get historical data and calculate returns\n",
    "        stock_data = yf.download(self.stocks, start=start_date, end=end_date)\n",
    "\n",
    "        stock_data = stock_data[\"Close\"]\n",
    "        returns = stock_data.pct_change()\n",
    "        mean_returns = returns.mean()\n",
    "        cov_matrix = returns.cov()\n",
    "        returns = returns.dropna()\n",
    "        returns[\"portofolio\"] = returns.dot(self.weights)\n",
    "        return returns, mean_returns, cov_matrix\n",
    "\n",
    "    def get_expected_portofolio_performance(self):\n",
    "        expected_returns = np.sum(self.mean_returns * self.weights) * self.Time\n",
    "        expected_std = np.sqrt(\n",
    "            np.dot(self.weights.T, np.dot(self.cov_matrix, self.weights))\n",
    "        ) * np.sqrt(self.Time)\n",
    "        return expected_returns, expected_std\n",
    "\n",
    "    def __str__(self):\n",
    "        txt = \"\"\n",
    "        txt += f\"PORTOFOLIO: {self.initial_investment}\\n\"\n",
    "        for i in range(len(self.stocks)):\n",
    "            txt += f\"{self.stocks[i]}:{self.weights[i]*100}%\\n\"\n",
    "        txt += \"--------------------------\\n\"\n",
    "        txt += \"Returns:\\n\"\n",
    "        txt += f\"{self.returns}\\n\"\n",
    "        txt += \"--------------------------\\n\"\n",
    "        txt += \"Mean Returns:\\n\"\n",
    "        txt += f\"{self.mean_returns}\\n\"\n",
    "        txt += \"--------------------------\\n\"\n",
    "        txt += \"Covariance Matrix\\n\"\n",
    "        txt += f\"{self.cov_matrix}\\n\"\n",
    "        txt += \"--------------------------\\n\"\n",
    "        return txt\n"
   ]
  },
  {
   "cell_type": "markdown",
   "metadata": {},
   "source": [
    "##### VaR Class"
   ]
  },
  {
   "cell_type": "code",
   "execution_count": 89,
   "metadata": {},
   "outputs": [],
   "source": [
    "\n",
    "class VaR:\n",
    "    def __init__(self, portofolio: PortofolioData, confidence_level=0.95):\n",
    "        self.portofolio = portofolio\n",
    "        self.confidence_level = confidence_level\n",
    "        self.alpha = 1 - confidence_level\n",
    "\n",
    "    def calculate_historical_var(self):\n",
    "        h_var = -np.percentile(\n",
    "            self.portofolio.returns[\"portofolio\"], self.alpha * 100\n",
    "        ) * np.sqrt(self.portofolio.Time)\n",
    "\n",
    "        return {\n",
    "            \"relative\": h_var,\n",
    "            \"absolute\": self.portofolio.initial_investment * h_var,\n",
    "        }\n",
    "\n",
    "    def calculate_parametric_var(self):\n",
    "\n",
    "        expected_portofolio_return, expected_portofolio_std = (\n",
    "            self.portofolio.get_expected_portofolio_performance()\n",
    "        )\n",
    "\n",
    "        p_var = (\n",
    "            norm.ppf(self.confidence_level) * expected_portofolio_std\n",
    "            - expected_portofolio_return\n",
    "        )\n",
    "\n",
    "        return {\n",
    "            \"relative\": p_var,\n",
    "            \"absolute\": self.portofolio.initial_investment * p_var,\n",
    "        }\n",
    "\n",
    "    def calculate_monte_carlo_var(self, simulations=1000):\n",
    "\n",
    "        mean_m = np.full(\n",
    "            shape=(self.portofolio.Time, len(self.portofolio.weights)),\n",
    "            fill_value=self.portofolio.mean_returns,\n",
    "        )\n",
    "        mean_m = mean_m.T\n",
    "\n",
    "        portfolio_sims = np.full(\n",
    "            shape=(self.portofolio.Time, simulations), fill_value=0.0\n",
    "        )\n",
    "\n",
    "        for m in range(0, simulations):\n",
    "            Z = np.random.normal(\n",
    "                size=(self.portofolio.Time, len(self.portofolio.weights))\n",
    "            )\n",
    "            L = np.linalg.cholesky(self.portofolio.cov_matrix)\n",
    "            daily_returns = mean_m + np.inner(L, Z)\n",
    "            portfolio_sims[:, m] = (\n",
    "                np.cumprod(np.inner(self.portofolio.weights, daily_returns.T) + 1)\n",
    "                * self.portofolio.initial_investment\n",
    "            )\n",
    "\n",
    "        portResults = pd.Series(portfolio_sims[-1, :])\n",
    "        kept = np.percentile(portResults, self.alpha * 100)\n",
    "\n",
    "        absolute_mc_var = self.portofolio.initial_investment - kept\n",
    "        relative_mc_var = absolute_mc_var / self.portofolio.initial_investment\n",
    "\n",
    "        return {\n",
    "            \"relative\": relative_mc_var,\n",
    "            \"absolute\": absolute_mc_var,\n",
    "        }\n",
    "\n",
    "    def __str__(self):\n",
    "        historical_var = self.calculate_historical_var()\n",
    "        parametric_var = self.calculate_parametric_var()\n",
    "        monte_carlo_var = self.calculate_monte_carlo_var()\n",
    "\n",
    "        txt = \"Value at Risk (VaR) Analysis:\\n\"\n",
    "        txt += f\"Confidence Level: {self.confidence_level * 100}%\\n\"\n",
    "        txt += f\"Historical VaR: {historical_var}\\n\"\n",
    "        txt += f\"Parametric VaR: {parametric_var}\\n\"\n",
    "        txt += f\"Monte Carlo VaR: {monte_carlo_var}\\n\"\n",
    "        return txt\n"
   ]
  },
  {
   "cell_type": "markdown",
   "metadata": {},
   "source": [
    "##### Fetching test portofolios"
   ]
  },
  {
   "cell_type": "code",
   "execution_count": 90,
   "metadata": {},
   "outputs": [],
   "source": [
    "from generate_random_portfolios import read_portfolios_from_json\n",
    "\n",
    "test_portfolios = read_portfolios_from_json(\"random_portfolios.json\")"
   ]
  },
  {
   "cell_type": "markdown",
   "metadata": {},
   "source": [
    "#### Comparing the VaR methods"
   ]
  },
  {
   "cell_type": "code",
   "execution_count": 91,
   "metadata": {},
   "outputs": [
    {
     "name": "stderr",
     "output_type": "stream",
     "text": [
      "[*********************100%***********************]  5 of 5 completed\n",
      "[*********************100%***********************]  5 of 5 completed\n",
      "[*********************100%***********************]  8 of 8 completed\n",
      "[*********************100%***********************]  8 of 8 completed\n",
      "[*********************100%***********************]  6 of 6 completed\n",
      "[*********************100%***********************]  6 of 6 completed\n",
      "[*********************100%***********************]  5 of 5 completed\n",
      "[*********************100%***********************]  5 of 5 completed\n",
      "[*********************100%***********************]  5 of 5 completed\n",
      "[*********************100%***********************]  5 of 5 completed\n",
      "[*********************100%***********************]  6 of 6 completed\n",
      "[*********************100%***********************]  6 of 6 completed\n",
      "[*********************100%***********************]  3 of 3 completed\n",
      "[*********************100%***********************]  3 of 3 completed\n",
      "[*********************100%***********************]  10 of 10 completed\n",
      "[*********************100%***********************]  10 of 10 completed\n",
      "[*********************100%***********************]  4 of 4 completed\n",
      "[*********************100%***********************]  4 of 4 completed\n",
      "[*********************100%***********************]  7 of 7 completed\n",
      "[*********************100%***********************]  7 of 7 completed\n",
      "[*********************100%***********************]  8 of 8 completed\n",
      "[*********************100%***********************]  8 of 8 completed\n",
      "[*********************100%***********************]  3 of 3 completed\n",
      "[*********************100%***********************]  3 of 3 completed\n",
      "[*********************100%***********************]  8 of 8 completed\n",
      "[*********************100%***********************]  8 of 8 completed\n",
      "[*********************100%***********************]  3 of 3 completed\n",
      "[*********************100%***********************]  3 of 3 completed\n",
      "[*********************100%***********************]  9 of 9 completed\n",
      "[*********************100%***********************]  9 of 9 completed\n",
      "[*********************100%***********************]  5 of 5 completed\n",
      "[*********************100%***********************]  5 of 5 completed\n",
      "[*********************100%***********************]  8 of 8 completed\n",
      "[*********************100%***********************]  8 of 8 completed\n",
      "[*********************100%***********************]  4 of 4 completed\n",
      "[*********************100%***********************]  4 of 4 completed\n",
      "[*********************100%***********************]  10 of 10 completed\n",
      "[*********************100%***********************]  10 of 10 completed\n",
      "[*********************100%***********************]  8 of 8 completed\n",
      "[*********************100%***********************]  8 of 8 completed\n"
     ]
    }
   ],
   "source": [
    "# Get returns for each portofolio\n",
    "returns = []\n",
    "portofolios = []\n",
    "\n",
    "for test_portfolio in test_portfolios:\n",
    "    portofolio = PortofolioData(\n",
    "        stocks=test_portfolio[\"stocks_list\"],\n",
    "        weights=test_portfolio[\"stocks_weights\"],\n",
    "        Time=1,\n",
    "        initial_investment=1000,\n",
    "    )\n",
    "    portofolios.append(portofolio)\n",
    "    test_portfolio[\"start_date\"] = dt.datetime.strptime(test_portfolio[\"start_date\"], \"%Y-%m-%d\")\n",
    "\n",
    "    ret, mean_ret, cov_matrix = portofolio.get_data(\n",
    "        test_portfolio[\"start_date\"], \n",
    "        test_portfolio[\"start_date\"] + dt.timedelta(days=test_portfolio[\"time\"])\n",
    "    )\n",
    "\n",
    "    returns.append(ret)\n"
   ]
  },
  {
   "cell_type": "code",
   "execution_count": 92,
   "metadata": {},
   "outputs": [],
   "source": [
    "\n",
    "def show_portfolio_distribution(returns, quantile = 0.05):\n",
    "    sns.histplot(returns, bins=50, kde=True)\n",
    "\n",
    "    quantile_mark = returns.quantile(quantile)  \n",
    "    plt.axvline(quantile_mark, color='red', linestyle='dashed', label=f'95% Quantile: {quantile_mark:.4f}')\n",
    "\n",
    "    plt.xlabel('Returns')\n",
    "    plt.ylabel('Frequency')\n",
    "    plt.title('Portfolio Return Distribution')\n",
    "    plt.legend()\n",
    "    plt.show()"
   ]
  },
  {
   "cell_type": "code",
   "execution_count": 93,
   "metadata": {},
   "outputs": [
    {
     "data": {
      "image/png": "[encoded data removed]",
      "text/plain": [
       "<Figure size 640x480 with 1 Axes>"
      ]
     },
     "metadata": {},
     "output_type": "display_data"
    }
   ],
   "source": [
    "show_portfolio_distribution(returns[1]['portofolio'])"
   ]
  },
  {
   "cell_type": "code",
   "execution_count": 99,
   "metadata": {},
   "outputs": [],
   "source": [
    "values_at_risk = []\n",
    "for portofolio in portofolios:\n",
    "    var = VaR(portofolio, confidence_level=0.95)\n",
    "    values_at_risk.append(\n",
    "        {\n",
    "            \"historical\": -var.calculate_historical_var()['relative'],\n",
    "            \"parametric\": -var.calculate_parametric_var()['relative'],\n",
    "            \"monte_carlo\": -var.calculate_monte_carlo_var()['relative'],\n",
    "        }\n",
    "    )\n"
   ]
  },
  {
   "cell_type": "code",
   "execution_count": 100,
   "metadata": {},
   "outputs": [
    {
     "data": {
      "text/plain": [
       "[{'historical': np.float64(-0.017079031631913027),\n",
       "  'parametric': np.float64(-0.017756048223234372),\n",
       "  'monte_carlo': np.float64(-0.018123736554101696)},\n",
       " {'historical': np.float64(-0.014939111282880857),\n",
       "  'parametric': np.float64(-0.016392458865387816),\n",
       "  'monte_carlo': np.float64(-0.016983588175029922)},\n",
       " {'historical': np.float64(-0.018750701301868854),\n",
       "  'parametric': np.float64(-0.01852992311103773),\n",
       "  'monte_carlo': np.float64(-0.01942775644435676)},\n",
       " {'historical': np.float64(-0.018933332911496462),\n",
       "  'parametric': np.float64(-0.018881965458472726),\n",
       "  'monte_carlo': np.float64(-0.019004930839254825)},\n",
       " {'historical': np.float64(-0.014565457999233077),\n",
       "  'parametric': np.float64(-0.014550780245217746),\n",
       "  'monte_carlo': np.float64(-0.01421544549971611)},\n",
       " {'historical': np.float64(-0.015993895519835523),\n",
       "  'parametric': np.float64(-0.01668966397220728),\n",
       "  'monte_carlo': np.float64(-0.015803402398069353)},\n",
       " {'historical': np.float64(-0.011887489375961124),\n",
       "  'parametric': np.float64(-0.0121387277376435),\n",
       "  'monte_carlo': np.float64(-0.01264089779934011)},\n",
       " {'historical': np.float64(-0.015423003815582698),\n",
       "  'parametric': np.float64(-0.01361696649973601),\n",
       "  'monte_carlo': np.float64(-0.013626500907368154)},\n",
       " {'historical': np.float64(-0.014404513398167073),\n",
       "  'parametric': np.float64(-0.01626112262590888),\n",
       "  'monte_carlo': np.float64(-0.016040401754214145)},\n",
       " {'historical': np.float64(-0.022162722888206175),\n",
       "  'parametric': np.float64(-0.021663397244458798),\n",
       "  'monte_carlo': np.float64(-0.02258363282010771)},\n",
       " {'historical': np.float64(-0.013031122326312188),\n",
       "  'parametric': np.float64(-0.013077261251405391),\n",
       "  'monte_carlo': np.float64(-0.012580837270612733)},\n",
       " {'historical': np.float64(-0.024711368761075707),\n",
       "  'parametric': np.float64(-0.023366105669764548),\n",
       "  'monte_carlo': np.float64(-0.02348743218765094)},\n",
       " {'historical': np.float64(-0.011550572261757572),\n",
       "  'parametric': np.float64(-0.011728874260349633),\n",
       "  'monte_carlo': np.float64(-0.011040006828233572)},\n",
       " {'historical': np.float64(-0.017418956709825573),\n",
       "  'parametric': np.float64(-0.01720163012539971),\n",
       "  'monte_carlo': np.float64(-0.016605634472881093)},\n",
       " {'historical': np.float64(-0.016424728904898787),\n",
       "  'parametric': np.float64(-0.015629625380138155),\n",
       "  'monte_carlo': np.float64(-0.015545812230644742)},\n",
       " {'historical': np.float64(-0.015996580085518408),\n",
       "  'parametric': np.float64(-0.016486679750254248),\n",
       "  'monte_carlo': np.float64(-0.016549004841546547)},\n",
       " {'historical': np.float64(-0.015891989421590494),\n",
       "  'parametric': np.float64(-0.015149868694506853),\n",
       "  'monte_carlo': np.float64(-0.015015847848387694)},\n",
       " {'historical': np.float64(-0.017163079831583914),\n",
       "  'parametric': np.float64(-0.01659356295499364),\n",
       "  'monte_carlo': np.float64(-0.016526680711915334)},\n",
       " {'historical': np.float64(-0.01590707797562302),\n",
       "  'parametric': np.float64(-0.014720613707135512),\n",
       "  'monte_carlo': np.float64(-0.014492075043369142)},\n",
       " {'historical': np.float64(-0.019961395618431663),\n",
       "  'parametric': np.float64(-0.019070809513175937),\n",
       "  'monte_carlo': np.float64(-0.02010586021363588)}]"
      ]
     },
     "execution_count": 100,
     "metadata": {},
     "output_type": "execute_result"
    }
   ],
   "source": [
    "values_at_risk"
   ]
  },
  {
   "cell_type": "code",
   "execution_count": 108,
   "metadata": {},
   "outputs": [
    {
     "data": {
      "image/png": "[encoded data removed]",
      "text/plain": [
       "<Figure size 640x480 with 1 Axes>"
      ]
     },
     "metadata": {},
     "output_type": "display_data"
    }
   ],
   "source": [
    "\n",
    "\n",
    "def show_portfolio_distribution_with_vars(returns, var_dict, quantile=0.05):\n",
    "    # Plot the distribution with histogram and KDE\n",
    "    sns.histplot(returns, bins=50, kde=True)\n",
    "    \n",
    "    # Plot the base quantile (for reference)\n",
    "    base_quantile = returns.quantile(quantile)\n",
    "    plt.axvline(base_quantile, color='black', linestyle='dotted', \n",
    "                label=f'{quantile*100:.0f}% Quantile of Returns: {base_quantile:.4f}')\n",
    "    \n",
    "    # Define a unique color for each VaR method\n",
    "    colors = {\n",
    "        \"historical\": \"red\",\n",
    "        \"parametric\": \"blue\",\n",
    "        \"monte_carlo\": \"green\"\n",
    "    }\n",
    "    \n",
    "    # Plot a vertical line for each VaR method\n",
    "    for method, var_value in var_dict.items():\n",
    "        plt.axvline(var_value, color=colors.get(method, \"gray\"), linestyle='dashed', \n",
    "                    label=f'{method.capitalize()} VaR: {var_value:.4f}')\n",
    "    \n",
    "    # Determine the range to zoom in on the vertical lines\n",
    "    # Get minimum and maximum of base quantile and all VaR values\n",
    "    values = [base_quantile] + list(var_dict.values())\n",
    "    min_val, max_val = min(values), max(values)\n",
    "    \n",
    "    # Calculate margin: you can adjust this multiplier to zoom in/out as desired\n",
    "    margin = (max_val - min_val) * 0.5  \n",
    "    plt.xlim(min_val - margin, max_val + margin)\n",
    "    \n",
    "    plt.xlabel('Returns')\n",
    "    plt.ylabel('Frequency')\n",
    "    plt.title('Portfolio Return Distribution with VaR Estimates')\n",
    "    plt.legend()\n",
    "    plt.show()\n",
    "\n",
    "# Example usage (ensure returns is a Series and values_at_risk is defined appropriately):\n",
    "index = 5\n",
    "show_portfolio_distribution_with_vars(returns[index]['portofolio'], values_at_risk[index], quantile=0.05)\n"
   ]
  },
  {
   "cell_type": "markdown",
   "metadata": {},
   "source": [
    "### Custom VaR Model"
   ]
  },
  {
   "cell_type": "code",
   "execution_count": 94,
   "metadata": {},
   "outputs": [],
   "source": [
    "import yfinance as yf\n",
    "import pandas as pd"
   ]
  },
  {
   "cell_type": "code",
   "execution_count": 95,
   "metadata": {},
   "outputs": [
    {
     "name": "stderr",
     "output_type": "stream",
     "text": [
      "[*********************100%***********************]  1 of 1 completed\n"
     ]
    },
    {
     "data": {
      "text/html": [
       "<div>\n",
       "<style scoped>\n",
       "    .dataframe tbody tr th:only-of-type {\n",
       "        vertical-align: middle;\n",
       "    }\n",
       "\n",
       "    .dataframe tbody tr th {\n",
       "        vertical-align: top;\n",
       "    }\n",
       "\n",
       "    .dataframe thead tr th {\n",
       "        text-align: left;\n",
       "    }\n",
       "\n",
       "    .dataframe thead tr:last-of-type th {\n",
       "        text-align: right;\n",
       "    }\n",
       "</style>\n",
       "<table border=\"1\" class=\"dataframe\">\n",
       "  <thead>\n",
       "    <tr>\n",
       "      <th>Price</th>\n",
       "      <th>Close</th>\n",
       "      <th>High</th>\n",
       "      <th>Low</th>\n",
       "      <th>Open</th>\n",
       "      <th>Volume</th>\n",
       "    </tr>\n",
       "    <tr>\n",
       "      <th>Ticker</th>\n",
       "      <th>SPX</th>\n",
       "      <th>SPX</th>\n",
       "      <th>SPX</th>\n",
       "      <th>SPX</th>\n",
       "      <th>SPX</th>\n",
       "    </tr>\n",
       "    <tr>\n",
       "      <th>Date</th>\n",
       "      <th></th>\n",
       "      <th></th>\n",
       "      <th></th>\n",
       "      <th></th>\n",
       "      <th></th>\n",
       "    </tr>\n",
       "  </thead>\n",
       "  <tbody>\n",
       "    <tr>\n",
       "      <th>2000-03-02</th>\n",
       "      <td>2.49834</td>\n",
       "      <td>2.49834</td>\n",
       "      <td>1.74884</td>\n",
       "      <td>1.74884</td>\n",
       "      <td>2562</td>\n",
       "    </tr>\n",
       "    <tr>\n",
       "      <th>2000-03-03</th>\n",
       "      <td>1.87375</td>\n",
       "      <td>1.87375</td>\n",
       "      <td>1.87375</td>\n",
       "      <td>1.87375</td>\n",
       "      <td>80</td>\n",
       "    </tr>\n",
       "    <tr>\n",
       "      <th>2000-03-06</th>\n",
       "      <td>2.49834</td>\n",
       "      <td>2.49834</td>\n",
       "      <td>2.49834</td>\n",
       "      <td>2.49834</td>\n",
       "      <td>240</td>\n",
       "    </tr>\n",
       "    <tr>\n",
       "      <th>2000-03-07</th>\n",
       "      <td>4.37209</td>\n",
       "      <td>4.37209</td>\n",
       "      <td>4.37209</td>\n",
       "      <td>4.37209</td>\n",
       "      <td>0</td>\n",
       "    </tr>\n",
       "    <tr>\n",
       "      <th>2000-03-08</th>\n",
       "      <td>4.37209</td>\n",
       "      <td>4.37209</td>\n",
       "      <td>4.37209</td>\n",
       "      <td>4.37209</td>\n",
       "      <td>0</td>\n",
       "    </tr>\n",
       "  </tbody>\n",
       "</table>\n",
       "</div>"
      ],
      "text/plain": [
       "Price         Close     High      Low     Open Volume\n",
       "Ticker          SPX      SPX      SPX      SPX    SPX\n",
       "Date                                                 \n",
       "2000-03-02  2.49834  2.49834  1.74884  1.74884   2562\n",
       "2000-03-03  1.87375  1.87375  1.87375  1.87375     80\n",
       "2000-03-06  2.49834  2.49834  2.49834  2.49834    240\n",
       "2000-03-07  4.37209  4.37209  4.37209  4.37209      0\n",
       "2000-03-08  4.37209  4.37209  4.37209  4.37209      0"
      ]
     },
     "execution_count": 95,
     "metadata": {},
     "output_type": "execute_result"
    }
   ],
   "source": [
    "stock_data = yf.download('spx')\n",
    "stock_data.head()"
   ]
  },
  {
   "cell_type": "code",
   "execution_count": 96,
   "metadata": {},
   "outputs": [
    {
     "name": "stderr",
     "output_type": "stream",
     "text": [
      "[*********************100%***********************]  1 of 1 completed\n",
      "\n",
      "1 Failed download:\n",
      "['SPX']: YFPricesMissingError('possibly delisted; no price data found  (1d 2023-01-23 01:08:26.347071 -> 2025-04-02 01:08:26.347071)')\n",
      "C:\\Users\\mario\\AppData\\Roaming\\Python\\Python313\\site-packages\\numpy\\lib\\_function_base_impl.py:552: RuntimeWarning: Mean of empty slice.\n",
      "  avg = a.mean(axis, **keepdims_kw)\n",
      "C:\\Users\\mario\\AppData\\Roaming\\Python\\Python313\\site-packages\\numpy\\_core\\_methods.py:137: RuntimeWarning: invalid value encountered in divide\n",
      "  ret = um.true_divide(\n",
      "C:\\Users\\mario\\AppData\\Roaming\\Python\\Python313\\site-packages\\pandas\\core\\frame.py:11211: RuntimeWarning: Degrees of freedom <= 0 for slice\n",
      "  base_cov = np.cov(mat.T, ddof=ddof)\n",
      "C:\\Users\\mario\\AppData\\Roaming\\Python\\Python313\\site-packages\\numpy\\lib\\_function_base_impl.py:2894: RuntimeWarning: divide by zero encountered in divide\n",
      "  c *= np.true_divide(1, fact)\n",
      "C:\\Users\\mario\\AppData\\Roaming\\Python\\Python313\\site-packages\\numpy\\lib\\_function_base_impl.py:2894: RuntimeWarning: invalid value encountered in multiply\n",
      "  c *= np.true_divide(1, fact)\n"
     ]
    }
   ],
   "source": [
    "stocks = ['SPX']\n",
    "weights = [1]\n",
    "Time = 30\n",
    "initial_investment = 1000\n",
    "\n",
    "portofolio = PortofolioData(stocks, weights,Time, initial_investment )"
   ]
  }
 ],
 "metadata": {
  "kernelspec": {
   "display_name": "Python 3",
   "language": "python",
   "name": "python3"
  },
  "language_info": {
   "codemirror_mode": {
    "name": "ipython",
    "version": 3
   },
   "file_extension": ".py",
   "mimetype": "text/x-python",
   "name": "python",
   "nbconvert_exporter": "python",
   "pygments_lexer": "ipython3",
   "version": "3.13.2"
  }
 },
 "nbformat": 4,
 "nbformat_minor": 2
}
