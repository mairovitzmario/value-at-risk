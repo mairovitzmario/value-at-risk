{
 "cells": [
  {
   "cell_type": "markdown",
   "metadata": {},
   "source": [
    "### Value at Risk"
   ]
  },
  {
   "cell_type": "markdown",
   "metadata": {},
   "source": [
    "##### Imports & Config"
   ]
  },
  {
   "cell_type": "code",
   "execution_count": 153,
   "metadata": {},
   "outputs": [],
   "source": [
    "import numpy as np\n",
    "import pandas as pd\n",
    "import yfinance as yf\n",
    "import datetime as dt\n",
    "from scipy.stats import norm\n",
    "from sklearn.metrics import mean_squared_error\n",
    "import matplotlib.pyplot as plt\n",
    "\n",
    "import seaborn as sns\n"
   ]
  },
  {
   "cell_type": "code",
   "execution_count": 154,
   "metadata": {},
   "outputs": [],
   "source": [
    "import warnings\n",
    "warnings.filterwarnings(\"ignore\")"
   ]
  },
  {
   "cell_type": "markdown",
   "metadata": {},
   "source": [
    "#### Fetching stock data"
   ]
  },
  {
   "cell_type": "code",
   "execution_count": 155,
   "metadata": {},
   "outputs": [],
   "source": [
    "stock_df = pd.read_csv('data/stock_data.csv')"
   ]
  },
  {
   "cell_type": "code",
   "execution_count": 156,
   "metadata": {},
   "outputs": [],
   "source": [
    "stock_df['Date'] = pd.to_datetime(stock_df['Date'], utc=True)\n",
    "stock_df['Date'] = stock_df['Date'].dt.date\n",
    "stock_df['Date'] = stock_df['Date'].apply(lambda x: dt.datetime.combine(x, dt.time(0, 0)))"
   ]
  },
  {
   "cell_type": "code",
   "execution_count": 157,
   "metadata": {},
   "outputs": [],
   "source": [
    "def convert_csv_df_to_yf_df(csv_df):\n",
    "    \"\"\"Convert a CSV DataFrame to a format similar to Yahoo Finance DataFrame.\n",
    "    The CSV DataFrame should have 'Date', 'Ticker', 'Open', 'High', 'Low', 'Close', and 'Volume' columns.\n",
    "    \"\"\"    \n",
    "\n",
    "    # Ensure the Date column is of datetime type.\n",
    "    csv_df['Date'] = pd.to_datetime(csv_df['Date'])\n",
    "\n",
    "    # Define the price columns that you want to keep.\n",
    "    price_cols = ['Open', 'High', 'Low', 'Close', 'Volume']\n",
    "\n",
    "    # Pivot the DataFrame.\n",
    "    # With a list for values, pivot_table creates a MultiIndex on the columns where the first level is the price fields\n",
    "    # and the second level is the ticker symbol.\n",
    "    multi_df = csv_df.pivot_table(index='Date', columns='Ticker', values=price_cols)\n",
    "\n",
    "    # Optionally, sort the MultiIndex columns.\n",
    "    multi_df = multi_df.sort_index(axis=1)\n",
    "\n",
    "    # Set the MultiIndex column names so that the first level is 'Price' and the second is 'Ticker'.\n",
    "    multi_df.columns.names = ['Price', 'Ticker']\n",
    "\n",
    "    return multi_df\n"
   ]
  },
  {
   "cell_type": "markdown",
   "metadata": {},
   "source": [
    "#### Declaring classes"
   ]
  },
  {
   "cell_type": "markdown",
   "metadata": {},
   "source": [
    "##### Portofolio Class"
   ]
  },
  {
   "cell_type": "code",
   "execution_count": 158,
   "metadata": {},
   "outputs": [],
   "source": [
    "\n",
    "class PortofolioData:\n",
    "    def __init__(self, stocks, weights, Time, initial_investment, forecast_start_date=dt.datetime.now(), yahoo_finance=False):\n",
    "        self.stocks = stocks\n",
    "        self.weights = np.array(weights)\n",
    "        self.Time = Time  # number of days over which the var is calculated\n",
    "        self.initial_investment = initial_investment\n",
    "        self.forecast_start_date = forecast_start_date\n",
    "        self.yahoo_finance = yahoo_finance\n",
    "        self.returns, self.mean_returns, self.cov_matrix = self.get_data(\n",
    "                start_date=forecast_start_date-dt.timedelta(days=800), end_date=forecast_start_date, yahoo_finance=yahoo_finance)\n",
    "\n",
    "    def get_data(\n",
    "        self,\n",
    "        start_date=dt.datetime.now() - dt.timedelta(days=800),\n",
    "        end_date=dt.datetime.now(),\n",
    "        yahoo_finance=False,\n",
    "    ):\n",
    "        # Get historical data and calculate returns\n",
    "        if yahoo_finance:\n",
    "            stock_data = yf.download(self.stocks, start=start_date, end=end_date)\n",
    "        else:\n",
    "            stock_data = stock_df[(stock_df['Ticker'].isin(self.stocks)) & (stock_df['Date'] >= start_date) & (stock_df['Date'] < end_date)]\n",
    "            stock_data = convert_csv_df_to_yf_df(stock_data)\n",
    "        stock_data = stock_data[\"Close\"]\n",
    "        returns = stock_data.pct_change()\n",
    "        mean_returns = returns.mean()\n",
    "        cov_matrix = returns.cov()\n",
    "        returns = returns.dropna()\n",
    "        returns[\"portofolio\"] = returns.dot(self.weights)\n",
    "\n",
    "        if stock_data.empty:\n",
    "            raise ValueError(\"No data found for the selected date range and tickers.\")\n",
    "\n",
    "\n",
    "        return returns, mean_returns, cov_matrix\n",
    "\n",
    "    def get_expected_portofolio_performance(self):\n",
    "        expected_returns = np.sum(self.mean_returns * self.weights) * self.Time\n",
    "        expected_std = np.sqrt(\n",
    "            np.dot(self.weights.T, np.dot(self.cov_matrix, self.weights))\n",
    "        ) * np.sqrt(self.Time)\n",
    "        return expected_returns, expected_std\n",
    "\n",
    "    def __str__(self):\n",
    "        txt = \"\"\n",
    "        txt += f\"PORTOFOLIO: {self.initial_investment}\\n\"\n",
    "        for i in range(len(self.stocks)):\n",
    "            txt += f\"{self.stocks[i]}:{self.weights[i]*100}%\\n\"\n",
    "        txt += \"--------------------------\\n\"\n",
    "        txt += \"Returns:\\n\"\n",
    "        txt += f\"{self.returns}\\n\"\n",
    "        txt += \"--------------------------\\n\"\n",
    "        txt += \"Mean Returns:\\n\"\n",
    "        txt += f\"{self.mean_returns}\\n\"\n",
    "        txt += \"--------------------------\\n\"\n",
    "        txt += \"Covariance Matrix\\n\"\n",
    "        txt += f\"{self.cov_matrix}\\n\"\n",
    "        txt += \"--------------------------\\n\"\n",
    "        return txt\n"
   ]
  },
  {
   "cell_type": "markdown",
   "metadata": {},
   "source": [
    "##### VaR Class"
   ]
  },
  {
   "cell_type": "code",
   "execution_count": 159,
   "metadata": {},
   "outputs": [],
   "source": [
    "class VaR:\n",
    "    def __init__(self, portofolio: PortofolioData, confidence_level=0.95):\n",
    "        self.portofolio = portofolio\n",
    "        self.confidence_level = confidence_level\n",
    "        self.alpha = 1 - confidence_level\n",
    "\n",
    "    def calculate_historical_var(self):\n",
    "        h_var = -np.percentile(\n",
    "            self.portofolio.returns[\"portofolio\"], self.alpha * 100\n",
    "        ) * np.sqrt(self.portofolio.Time)\n",
    "\n",
    "        return {\n",
    "            \"relative\": h_var,\n",
    "            \"absolute\": self.portofolio.initial_investment * h_var,\n",
    "        }\n",
    "\n",
    "    def calculate_parametric_var(self):\n",
    "\n",
    "        expected_portofolio_return, expected_portofolio_std = (\n",
    "            self.portofolio.get_expected_portofolio_performance()\n",
    "        )\n",
    "\n",
    "        p_var = (\n",
    "            norm.ppf(self.confidence_level) * expected_portofolio_std\n",
    "            - expected_portofolio_return\n",
    "        )\n",
    "\n",
    "        return {\n",
    "            \"relative\": p_var,\n",
    "            \"absolute\": self.portofolio.initial_investment * p_var,\n",
    "        }\n",
    "\n",
    "    def calculate_monte_carlo_var(self, simulations=1000):\n",
    "        mean_m = np.full(\n",
    "            shape=(self.portofolio.Time, len(self.portofolio.weights)),\n",
    "            fill_value=self.portofolio.mean_returns,\n",
    "        )\n",
    "        mean_m = mean_m.T\n",
    "\n",
    "        portfolio_sims = np.full(\n",
    "            shape=(self.portofolio.Time, simulations), fill_value=0.0\n",
    "        )\n",
    "\n",
    "        for m in range(0, simulations):\n",
    "            Z = np.random.normal(\n",
    "                size=(self.portofolio.Time, len(self.portofolio.weights))\n",
    "            )\n",
    "            L = np.linalg.cholesky(self.portofolio.cov_matrix)\n",
    "            daily_returns = mean_m + np.inner(L, Z)\n",
    "            portfolio_sims[:, m] = (\n",
    "                np.cumprod(np.inner(self.portofolio.weights, daily_returns.T) + 1)\n",
    "                * self.portofolio.initial_investment\n",
    "            )\n",
    "\n",
    "        portResults = pd.Series(portfolio_sims[-1, :])\n",
    "        kept = np.percentile(portResults, self.alpha * 100)\n",
    "\n",
    "        absolute_mc_var = self.portofolio.initial_investment - kept\n",
    "        relative_mc_var = absolute_mc_var / self.portofolio.initial_investment\n",
    "\n",
    "        return {\n",
    "            \"relative\": relative_mc_var,\n",
    "            \"absolute\": absolute_mc_var,\n",
    "        }\n",
    "    \n",
    "    def calculate_all_vars(self, version='relative', multiplier=1):\n",
    "        historical_var = self.calculate_historical_var()\n",
    "        parametric_var = self.calculate_parametric_var()\n",
    "        monte_carlo_var = self.calculate_monte_carlo_var()\n",
    "\n",
    "        return {\n",
    "            \"historical\": multiplier*historical_var[version],\n",
    "            \"parametric\": multiplier*parametric_var[version],\n",
    "            \"monte_carlo\": multiplier*monte_carlo_var[version],\n",
    "        }\n",
    "\n",
    "    def __str__(self):\n",
    "        historical_var = self.calculate_historical_var()\n",
    "        parametric_var = self.calculate_parametric_var()\n",
    "        monte_carlo_var = self.calculate_monte_carlo_var()\n",
    "\n",
    "        txt = \"Value at Risk (VaR) Analysis:\\n\"\n",
    "        txt += f\"Confidence Level: {self.confidence_level * 100}%\\n\"\n",
    "        txt += f\"Historical VaR: {historical_var}\\n\"\n",
    "        txt += f\"Parametric VaR: {parametric_var}\\n\"\n",
    "        txt += f\"Monte Carlo VaR: {monte_carlo_var}\\n\"\n",
    "        return txt"
   ]
  },
  {
   "cell_type": "markdown",
   "metadata": {},
   "source": [
    "##### Fetching test portofolios"
   ]
  },
  {
   "cell_type": "code",
   "execution_count": 160,
   "metadata": {},
   "outputs": [],
   "source": [
    "from generate_random_portfolios import read_portfolios_from_json\n",
    "\n",
    "test_portfolios = read_portfolios_from_json(\"data/random_portfolios.json\")"
   ]
  },
  {
   "cell_type": "code",
   "execution_count": 161,
   "metadata": {},
   "outputs": [],
   "source": [
    "tp = test_portfolios[1]\n",
    "stocks = tp[\"stocks_list\"]\n",
    "weights = tp[\"stocks_weights\"]\n",
    "initial_investment = tp['initial_investment']\n",
    "end_date = dt.datetime.strptime(tp[\"start_date\"], \"%Y-%m-%d\")\n",
    "start_date = end_date - dt.timedelta(days=800)\n",
    "\n",
    "\n",
    "stock_data = stock_df[(stock_df['Ticker'].isin(stocks)) & (stock_df['Date'] >= start_date) & (stock_df['Date'] <= end_date)]\n",
    "stock_data = convert_csv_df_to_yf_df(stock_data)"
   ]
  },
  {
   "cell_type": "code",
   "execution_count": 162,
   "metadata": {},
   "outputs": [
    {
     "data": {
      "application/vnd.microsoft.datawrangler.viewer.v0+json": {
       "columns": [
        {
         "name": "Date",
         "rawType": "datetime64[ns]",
         "type": "datetime"
        },
        {
         "name": "('Close', 'CL')",
         "rawType": "float64",
         "type": "float"
        },
        {
         "name": "('Close', 'JPM')",
         "rawType": "float64",
         "type": "float"
        },
        {
         "name": "('Close', 'MSFT')",
         "rawType": "float64",
         "type": "float"
        },
        {
         "name": "('Close', 'PHG')",
         "rawType": "float64",
         "type": "float"
        },
        {
         "name": "('Close', 'SHOP')",
         "rawType": "float64",
         "type": "float"
        },
        {
         "name": "('High', 'CL')",
         "rawType": "float64",
         "type": "float"
        },
        {
         "name": "('High', 'JPM')",
         "rawType": "float64",
         "type": "float"
        },
        {
         "name": "('High', 'MSFT')",
         "rawType": "float64",
         "type": "float"
        },
        {
         "name": "('High', 'PHG')",
         "rawType": "float64",
         "type": "float"
        },
        {
         "name": "('High', 'SHOP')",
         "rawType": "float64",
         "type": "float"
        },
        {
         "name": "('Low', 'CL')",
         "rawType": "float64",
         "type": "float"
        },
        {
         "name": "('Low', 'JPM')",
         "rawType": "float64",
         "type": "float"
        },
        {
         "name": "('Low', 'MSFT')",
         "rawType": "float64",
         "type": "float"
        },
        {
         "name": "('Low', 'PHG')",
         "rawType": "float64",
         "type": "float"
        },
        {
         "name": "('Low', 'SHOP')",
         "rawType": "float64",
         "type": "float"
        },
        {
         "name": "('Open', 'CL')",
         "rawType": "float64",
         "type": "float"
        },
        {
         "name": "('Open', 'JPM')",
         "rawType": "float64",
         "type": "float"
        },
        {
         "name": "('Open', 'MSFT')",
         "rawType": "float64",
         "type": "float"
        },
        {
         "name": "('Open', 'PHG')",
         "rawType": "float64",
         "type": "float"
        },
        {
         "name": "('Open', 'SHOP')",
         "rawType": "float64",
         "type": "float"
        },
        {
         "name": "('Volume', 'CL')",
         "rawType": "float64",
         "type": "float"
        },
        {
         "name": "('Volume', 'JPM')",
         "rawType": "float64",
         "type": "float"
        },
        {
         "name": "('Volume', 'MSFT')",
         "rawType": "float64",
         "type": "float"
        },
        {
         "name": "('Volume', 'PHG')",
         "rawType": "float64",
         "type": "float"
        },
        {
         "name": "('Volume', 'SHOP')",
         "rawType": "float64",
         "type": "float"
        }
       ],
       "conversionMethod": "pd.DataFrame",
       "ref": "13c4d9e1-28fb-412c-bd75-abb86374b617",
       "rows": [
        [
         "2021-06-03 00:00:00",
         "79.515625",
         "155.73583984375",
         "240.87661743164065",
         "53.595977783203125",
         "119.9000015258789",
         "79.52509880753558",
         "156.74802612313533",
         "241.49421445864533",
         "53.60557946400544",
         "122.82150268554688",
         "78.36007340458177",
         "154.320661019216",
         "238.2199195657961",
         "53.09660612407798",
         "119.5500030517578",
         "78.54950619690663",
         "155.02356696595652",
         "240.3962508918532",
         "53.24065331630524",
         "122.3010025024414",
         "3967000.0",
         "13354400.0",
         "25307700.0",
         "394800.0",
         "8098000.0"
        ],
        [
         "2021-06-04 00:00:00",
         "79.5345687866211",
         "155.98890686035156",
         "245.856674194336",
         "54.0953483581543",
         "120.5739974975586",
         "80.05551255363743",
         "156.20446070314847",
         "246.6997576327764",
         "54.210586842299605",
         "122.43699645996094",
         "79.27882658025524",
         "154.66744010539304",
         "242.6411966520588",
         "53.63438709484237",
         "120.2239990234375",
         "79.94185577427257",
         "155.77335301755468",
         "242.88627887301664",
         "53.80724665274301",
         "120.99700164794922",
         "3660200.0",
         "8510800.0",
         "25281100.0",
         "353100.0",
         "6260000.0"
        ],
        [
         "2021-06-07 00:00:00",
         "79.46827697753906",
         "155.25787353515625",
         "248.8172912597656",
         "54.00891876220703",
         "123.05500030517578",
         "79.64823597718922",
         "156.6074552808755",
         "249.0917821722231",
         "54.143364271393",
         "123.12000274658205",
         "78.96627353266511",
         "154.7705213935002",
         "244.89597541479267",
         "53.749629424477504",
         "118.25",
         "79.64823597718922",
         "156.51372876494446",
         "245.06262954316807",
         "53.81685217907049",
         "120.91200256347656",
         "3211600.0",
         "7267200.0",
         "23079200.0",
         "491400.0",
         "6860000.0"
        ],
        [
         "2021-06-08 00:00:00",
         "78.54949188232422",
         "154.63931274414062",
         "247.6016540527344",
         "53.85526657104492",
         "123.0739974975586",
         "79.78082648723527",
         "155.35158564248263",
         "250.973987543402",
         "54.49868541577614",
         "125.2239990234375",
         "78.49266350026252",
         "152.91485353721248",
         "247.54282175904373",
         "53.84566122697602",
         "121.0",
         "79.6198006940663",
         "154.1613418348049",
         "250.14070207370165",
         "54.49868541577614",
         "124.4000015258789",
         "3233100.0",
         "10370700.0",
         "22455000.0",
         "391000.0",
         "7119000.0"
        ],
        [
         "2021-06-09 00:00:00",
         "78.19904327392578",
         "152.7086639404297",
         "248.60159301757807",
         "54.37384033203125",
         "121.55599975585938",
         "79.44931842302411",
         "153.90828895886",
         "250.5034334070112",
         "54.5755122558062",
         "124.27899932861328",
         "78.17062907928222",
         "152.09010326824142",
         "248.22907822114857",
         "54.28741055423207",
         "121.4988021850586",
         "79.04203143820585",
         "153.83331060762583",
         "248.8172665643364",
         "54.28741055423207",
         "122.75",
         "6530200.0",
         "12377400.0",
         "17937600.0",
         "338300.0",
         "5163000.0"
        ]
       ],
       "shape": {
        "columns": 25,
        "rows": 5
       }
      },
      "text/html": [
       "<div>\n",
       "<style scoped>\n",
       "    .dataframe tbody tr th:only-of-type {\n",
       "        vertical-align: middle;\n",
       "    }\n",
       "\n",
       "    .dataframe tbody tr th {\n",
       "        vertical-align: top;\n",
       "    }\n",
       "\n",
       "    .dataframe thead tr th {\n",
       "        text-align: left;\n",
       "    }\n",
       "\n",
       "    .dataframe thead tr:last-of-type th {\n",
       "        text-align: right;\n",
       "    }\n",
       "</style>\n",
       "<table border=\"1\" class=\"dataframe\">\n",
       "  <thead>\n",
       "    <tr>\n",
       "      <th>Price</th>\n",
       "      <th colspan=\"5\" halign=\"left\">Close</th>\n",
       "      <th colspan=\"5\" halign=\"left\">High</th>\n",
       "      <th>...</th>\n",
       "      <th colspan=\"5\" halign=\"left\">Open</th>\n",
       "      <th colspan=\"5\" halign=\"left\">Volume</th>\n",
       "    </tr>\n",
       "    <tr>\n",
       "      <th>Ticker</th>\n",
       "      <th>CL</th>\n",
       "      <th>JPM</th>\n",
       "      <th>MSFT</th>\n",
       "      <th>PHG</th>\n",
       "      <th>SHOP</th>\n",
       "      <th>CL</th>\n",
       "      <th>JPM</th>\n",
       "      <th>MSFT</th>\n",
       "      <th>PHG</th>\n",
       "      <th>SHOP</th>\n",
       "      <th>...</th>\n",
       "      <th>CL</th>\n",
       "      <th>JPM</th>\n",
       "      <th>MSFT</th>\n",
       "      <th>PHG</th>\n",
       "      <th>SHOP</th>\n",
       "      <th>CL</th>\n",
       "      <th>JPM</th>\n",
       "      <th>MSFT</th>\n",
       "      <th>PHG</th>\n",
       "      <th>SHOP</th>\n",
       "    </tr>\n",
       "    <tr>\n",
       "      <th>Date</th>\n",
       "      <th></th>\n",
       "      <th></th>\n",
       "      <th></th>\n",
       "      <th></th>\n",
       "      <th></th>\n",
       "      <th></th>\n",
       "      <th></th>\n",
       "      <th></th>\n",
       "      <th></th>\n",
       "      <th></th>\n",
       "      <th></th>\n",
       "      <th></th>\n",
       "      <th></th>\n",
       "      <th></th>\n",
       "      <th></th>\n",
       "      <th></th>\n",
       "      <th></th>\n",
       "      <th></th>\n",
       "      <th></th>\n",
       "      <th></th>\n",
       "      <th></th>\n",
       "    </tr>\n",
       "  </thead>\n",
       "  <tbody>\n",
       "    <tr>\n",
       "      <th>2021-06-03</th>\n",
       "      <td>79.515625</td>\n",
       "      <td>155.735840</td>\n",
       "      <td>240.876617</td>\n",
       "      <td>53.595978</td>\n",
       "      <td>119.900002</td>\n",
       "      <td>79.525099</td>\n",
       "      <td>156.748026</td>\n",
       "      <td>241.494214</td>\n",
       "      <td>53.605579</td>\n",
       "      <td>122.821503</td>\n",
       "      <td>...</td>\n",
       "      <td>78.549506</td>\n",
       "      <td>155.023567</td>\n",
       "      <td>240.396251</td>\n",
       "      <td>53.240653</td>\n",
       "      <td>122.301003</td>\n",
       "      <td>3967000.0</td>\n",
       "      <td>13354400.0</td>\n",
       "      <td>25307700.0</td>\n",
       "      <td>394800.0</td>\n",
       "      <td>8098000.0</td>\n",
       "    </tr>\n",
       "    <tr>\n",
       "      <th>2021-06-04</th>\n",
       "      <td>79.534569</td>\n",
       "      <td>155.988907</td>\n",
       "      <td>245.856674</td>\n",
       "      <td>54.095348</td>\n",
       "      <td>120.573997</td>\n",
       "      <td>80.055513</td>\n",
       "      <td>156.204461</td>\n",
       "      <td>246.699758</td>\n",
       "      <td>54.210587</td>\n",
       "      <td>122.436996</td>\n",
       "      <td>...</td>\n",
       "      <td>79.941856</td>\n",
       "      <td>155.773353</td>\n",
       "      <td>242.886279</td>\n",
       "      <td>53.807247</td>\n",
       "      <td>120.997002</td>\n",
       "      <td>3660200.0</td>\n",
       "      <td>8510800.0</td>\n",
       "      <td>25281100.0</td>\n",
       "      <td>353100.0</td>\n",
       "      <td>6260000.0</td>\n",
       "    </tr>\n",
       "    <tr>\n",
       "      <th>2021-06-07</th>\n",
       "      <td>79.468277</td>\n",
       "      <td>155.257874</td>\n",
       "      <td>248.817291</td>\n",
       "      <td>54.008919</td>\n",
       "      <td>123.055000</td>\n",
       "      <td>79.648236</td>\n",
       "      <td>156.607455</td>\n",
       "      <td>249.091782</td>\n",
       "      <td>54.143364</td>\n",
       "      <td>123.120003</td>\n",
       "      <td>...</td>\n",
       "      <td>79.648236</td>\n",
       "      <td>156.513729</td>\n",
       "      <td>245.062630</td>\n",
       "      <td>53.816852</td>\n",
       "      <td>120.912003</td>\n",
       "      <td>3211600.0</td>\n",
       "      <td>7267200.0</td>\n",
       "      <td>23079200.0</td>\n",
       "      <td>491400.0</td>\n",
       "      <td>6860000.0</td>\n",
       "    </tr>\n",
       "    <tr>\n",
       "      <th>2021-06-08</th>\n",
       "      <td>78.549492</td>\n",
       "      <td>154.639313</td>\n",
       "      <td>247.601654</td>\n",
       "      <td>53.855267</td>\n",
       "      <td>123.073997</td>\n",
       "      <td>79.780826</td>\n",
       "      <td>155.351586</td>\n",
       "      <td>250.973988</td>\n",
       "      <td>54.498685</td>\n",
       "      <td>125.223999</td>\n",
       "      <td>...</td>\n",
       "      <td>79.619801</td>\n",
       "      <td>154.161342</td>\n",
       "      <td>250.140702</td>\n",
       "      <td>54.498685</td>\n",
       "      <td>124.400002</td>\n",
       "      <td>3233100.0</td>\n",
       "      <td>10370700.0</td>\n",
       "      <td>22455000.0</td>\n",
       "      <td>391000.0</td>\n",
       "      <td>7119000.0</td>\n",
       "    </tr>\n",
       "    <tr>\n",
       "      <th>2021-06-09</th>\n",
       "      <td>78.199043</td>\n",
       "      <td>152.708664</td>\n",
       "      <td>248.601593</td>\n",
       "      <td>54.373840</td>\n",
       "      <td>121.556000</td>\n",
       "      <td>79.449318</td>\n",
       "      <td>153.908289</td>\n",
       "      <td>250.503433</td>\n",
       "      <td>54.575512</td>\n",
       "      <td>124.278999</td>\n",
       "      <td>...</td>\n",
       "      <td>79.042031</td>\n",
       "      <td>153.833311</td>\n",
       "      <td>248.817267</td>\n",
       "      <td>54.287411</td>\n",
       "      <td>122.750000</td>\n",
       "      <td>6530200.0</td>\n",
       "      <td>12377400.0</td>\n",
       "      <td>17937600.0</td>\n",
       "      <td>338300.0</td>\n",
       "      <td>5163000.0</td>\n",
       "    </tr>\n",
       "  </tbody>\n",
       "</table>\n",
       "<p>5 rows × 25 columns</p>\n",
       "</div>"
      ],
      "text/plain": [
       "Price           Close                                                 \\\n",
       "Ticker             CL         JPM        MSFT        PHG        SHOP   \n",
       "Date                                                                   \n",
       "2021-06-03  79.515625  155.735840  240.876617  53.595978  119.900002   \n",
       "2021-06-04  79.534569  155.988907  245.856674  54.095348  120.573997   \n",
       "2021-06-07  79.468277  155.257874  248.817291  54.008919  123.055000   \n",
       "2021-06-08  78.549492  154.639313  247.601654  53.855267  123.073997   \n",
       "2021-06-09  78.199043  152.708664  248.601593  54.373840  121.556000   \n",
       "\n",
       "Price            High                                                 ...  \\\n",
       "Ticker             CL         JPM        MSFT        PHG        SHOP  ...   \n",
       "Date                                                                  ...   \n",
       "2021-06-03  79.525099  156.748026  241.494214  53.605579  122.821503  ...   \n",
       "2021-06-04  80.055513  156.204461  246.699758  54.210587  122.436996  ...   \n",
       "2021-06-07  79.648236  156.607455  249.091782  54.143364  123.120003  ...   \n",
       "2021-06-08  79.780826  155.351586  250.973988  54.498685  125.223999  ...   \n",
       "2021-06-09  79.449318  153.908289  250.503433  54.575512  124.278999  ...   \n",
       "\n",
       "Price            Open                                                 \\\n",
       "Ticker             CL         JPM        MSFT        PHG        SHOP   \n",
       "Date                                                                   \n",
       "2021-06-03  78.549506  155.023567  240.396251  53.240653  122.301003   \n",
       "2021-06-04  79.941856  155.773353  242.886279  53.807247  120.997002   \n",
       "2021-06-07  79.648236  156.513729  245.062630  53.816852  120.912003   \n",
       "2021-06-08  79.619801  154.161342  250.140702  54.498685  124.400002   \n",
       "2021-06-09  79.042031  153.833311  248.817267  54.287411  122.750000   \n",
       "\n",
       "Price          Volume                                               \n",
       "Ticker             CL         JPM        MSFT       PHG       SHOP  \n",
       "Date                                                                \n",
       "2021-06-03  3967000.0  13354400.0  25307700.0  394800.0  8098000.0  \n",
       "2021-06-04  3660200.0   8510800.0  25281100.0  353100.0  6260000.0  \n",
       "2021-06-07  3211600.0   7267200.0  23079200.0  491400.0  6860000.0  \n",
       "2021-06-08  3233100.0  10370700.0  22455000.0  391000.0  7119000.0  \n",
       "2021-06-09  6530200.0  12377400.0  17937600.0  338300.0  5163000.0  \n",
       "\n",
       "[5 rows x 25 columns]"
      ]
     },
     "execution_count": 162,
     "metadata": {},
     "output_type": "execute_result"
    }
   ],
   "source": [
    "stock_data.head()"
   ]
  },
  {
   "cell_type": "markdown",
   "metadata": {},
   "source": [
    "##### Getting daily returns"
   ]
  },
  {
   "cell_type": "code",
   "execution_count": 163,
   "metadata": {},
   "outputs": [],
   "source": [
    "# Get returns for each portofolio\n",
    "returns = []\n",
    "portofolios = []\n",
    "cnt = 1\n",
    "for test_portfolio in test_portfolios:\n",
    "    test_portfolio[\"start_date\"] = dt.datetime.strptime(test_portfolio[\"start_date\"], \"%Y-%m-%d\")\n",
    "\n",
    "    portofolio = PortofolioData(\n",
    "        stocks=test_portfolio[\"stocks_list\"],\n",
    "        weights=test_portfolio[\"stocks_weights\"],\n",
    "        Time=test_portfolio[\"time\"],\n",
    "        initial_investment=test_portfolio[\"initial_investment\"],\n",
    "        forecast_start_date=  test_portfolio[\"start_date\"],\n",
    "        yahoo_finance=False,\n",
    "    )\n",
    "    portofolios.append(portofolio)\n",
    "\n",
    "    ret, mean_ret, cov_matrix = portofolio.get_data(\n",
    "        test_portfolio[\"start_date\"], \n",
    "        test_portfolio[\"start_date\"] + dt.timedelta(days=test_portfolio[\"time\"])\n",
    "    )\n",
    "\n",
    "    returns.append(ret)\n"
   ]
  },
  {
   "cell_type": "code",
   "execution_count": 164,
   "metadata": {},
   "outputs": [],
   "source": [
    "\n",
    "def show_portfolio_distribution(returns, quantile = 0.05):\n",
    "    sns.histplot(returns, bins=30, kde=True)\n",
    "\n",
    "    quantile_mark = returns.quantile(quantile)  \n",
    "    plt.axvline(quantile_mark, color='red', linestyle='dashed', label=f'95% Quantile: {quantile_mark:.4f}')\n",
    "\n",
    "    plt.xlabel('Returns')\n",
    "    plt.ylabel('Frequency')\n",
    "    plt.title('Portfolio Return Distribution')\n",
    "    plt.legend()\n",
    "    plt.show()"
   ]
  },
  {
   "cell_type": "code",
   "execution_count": 165,
   "metadata": {},
   "outputs": [],
   "source": [
    "def compare_portfolio_distributions(forecast_returns, historic_returns, label1=\"Returns to Forecast\", label2=\"Past historical Returns\", quantile=0.05):\n",
    "    plt.figure(figsize=(10, 6))\n",
    "    \n",
    "    # Plot both distributions\n",
    "    sns.histplot(forecast_returns, bins=30, kde=True, color='blue', label=label1, stat=\"density\", alpha=0.6)\n",
    "    sns.histplot(historic_returns, bins=30, kde=True, color='orange', label=label2, stat=\"density\", alpha=0.6)\n",
    "\n",
    "    # Calculate quantiles\n",
    "    q1 = forecast_returns.quantile(quantile)\n",
    "    q2 = historic_returns.quantile(quantile)\n",
    "\n",
    "    # Add vertical lines at quantiles\n",
    "    plt.axvline(q1, color='blue', linestyle='dashed', label=f'{label1} {int(quantile*100)}% Quantile: {q1:.4f}')\n",
    "    plt.axvline(q2, color='orange', linestyle='dashed', label=f'{label2} {int(quantile*100)}% Quantile: {q2:.4f}')\n",
    "    \n",
    "    plt.xlabel('Returns')\n",
    "    plt.ylabel('Density')\n",
    "    plt.title('Comparison of Portfolio Return Distributions')\n",
    "    plt.legend()\n",
    "    plt.grid(True)\n",
    "    plt.tight_layout()\n",
    "    plt.show()"
   ]
  },
  {
   "cell_type": "code",
   "execution_count": 166,
   "metadata": {},
   "outputs": [],
   "source": [
    "\n",
    "\n",
    "def show_portfolio_distribution_with_vars(returns, var_dict, time_horizon=1, quantile=0.05, ):\n",
    "    # Plot the distribution with histogram and KDE\n",
    "    returns = returns * np.sqrt(time_horizon)  # Scale returns for the time horizon\n",
    "    sns.histplot(returns, bins=50, kde=True)\n",
    "    \n",
    "    # Plot the base quantile (for reference)\n",
    "    base_quantile = returns.quantile(quantile)\n",
    "    plt.axvline(base_quantile, color='black', \n",
    "                label=f'{quantile*100:.0f}% Quantile of Returns: {base_quantile:.4f}')\n",
    "    \n",
    "    # Define a unique color for each VaR method\n",
    "    colors = {\n",
    "        \"historical\": \"red\",\n",
    "        \"parametric\": \"blue\",\n",
    "        \"monte_carlo\": \"green\"\n",
    "    }\n",
    "    \n",
    "    # Plot a vertical line for each VaR method\n",
    "    for method, var_value in var_dict.items():\n",
    "        plt.axvline(var_value, color=colors.get(method, \"gray\"), linestyle='dashed', \n",
    "                    label=f'{method.capitalize()} VaR: {var_value:.4f}')\n",
    "    \n",
    "    # Determine the range to zoom in on the vertical lines\n",
    "    # Get minimum and maximum of base quantile and all VaR values\n",
    "    values = [base_quantile] + list(var_dict.values())\n",
    "    min_val, max_val = min(values), max(values)\n",
    "    \n",
    "    # Calculate margin: you can adjust this multiplier to zoom in/out as desired\n",
    "    margin = (max_val - min_val) * 0.5  \n",
    "    plt.xlim(min_val - margin, max_val + margin)\n",
    "    \n",
    "    plt.xlabel('Returns')\n",
    "    plt.ylabel('Frequency')\n",
    "    plt.title('Portfolio Return Distribution with VaR Estimates')\n",
    "    plt.legend()\n",
    "    plt.show()\n",
    "\n"
   ]
  },
  {
   "cell_type": "markdown",
   "metadata": {},
   "source": [
    "### Custom VaR Model"
   ]
  },
  {
   "cell_type": "markdown",
   "metadata": {},
   "source": [
    "#### LSTM"
   ]
  },
  {
   "cell_type": "code",
   "execution_count": 167,
   "metadata": {},
   "outputs": [],
   "source": [
    "import torch\n",
    "import torch.nn as nn\n",
    "from model_class import LSTMModel"
   ]
  },
  {
   "cell_type": "code",
   "execution_count": 168,
   "metadata": {},
   "outputs": [
    {
     "data": {
      "text/plain": [
       "<All keys matched successfully>"
      ]
     },
     "execution_count": 168,
     "metadata": {},
     "output_type": "execute_result"
    }
   ],
   "source": [
    "model = LSTMModel()\n",
    "model.load_state_dict(torch.load('model/lstm_model.pth'))\n"
   ]
  },
  {
   "cell_type": "markdown",
   "metadata": {},
   "source": [
    "##### Data processing  "
   ]
  },
  {
   "cell_type": "code",
   "execution_count": 169,
   "metadata": {},
   "outputs": [],
   "source": [
    "def prepare_input_data(returns, forecast_start_date, lookback_period=30):\n",
    "    returns_array = returns.loc[forecast_start_date- dt.timedelta(days=(lookback_period*2)) :forecast_start_date].tail(lookback_period).values\n",
    "    return torch.tensor(returns_array, dtype=torch.float32).reshape(1, lookback_period, 1)"
   ]
  },
  {
   "cell_type": "markdown",
   "metadata": {},
   "source": [
    "##### Model config"
   ]
  },
  {
   "cell_type": "code",
   "execution_count": 170,
   "metadata": {},
   "outputs": [],
   "source": [
    "def enable_dropout(model):\n",
    "    for m in model.modules():\n",
    "        if isinstance(m, nn.Dropout):\n",
    "            m.train()\n",
    "\n"
   ]
  },
  {
   "cell_type": "code",
   "execution_count": null,
   "metadata": {},
   "outputs": [
    {
     "data": {
      "text/plain": [
       "LSTMModel(\n",
       "  (lstm): LSTM(1, 50, batch_first=True)\n",
       "  (dropout): Dropout(p=0.2, inplace=False)\n",
       "  (fc1): Linear(in_features=50, out_features=10, bias=True)\n",
       "  (relu): LeakyReLU(negative_slope=0.01)\n",
       "  (fc2): Linear(in_features=10, out_features=1, bias=True)\n",
       ")"
      ]
     },
     "execution_count": 149,
     "metadata": {},
     "output_type": "execute_result"
    }
   ],
   "source": [
    "model.eval()\n",
    "enable_dropout(model) "
   ]
  },
  {
   "cell_type": "markdown",
   "metadata": {},
   "source": [
    "##### Testing"
   ]
  },
  {
   "cell_type": "code",
   "execution_count": 180,
   "metadata": {},
   "outputs": [],
   "source": [
    "\n",
    "input_data = prepare_input_data(portofolios[1].returns['portofolio'], portofolios[1].forecast_start_date)\n",
    "with torch.no_grad():\n",
    "    predictions = torch.stack([\n",
    "        model(input_data) for _ in range(100)\n",
    "    ])"
   ]
  },
  {
   "cell_type": "code",
   "execution_count": 179,
   "metadata": {},
   "outputs": [
    {
     "data": {
      "image/png": "[encoded data removed]",
      "text/plain": [
       "<Figure size 640x480 with 1 Axes>"
      ]
     },
     "metadata": {},
     "output_type": "display_data"
    }
   ],
   "source": [
    "show_portfolio_distribution(predictions.reshape(-1), quantile=0.05)"
   ]
  },
  {
   "cell_type": "code",
   "execution_count": 130,
   "metadata": {},
   "outputs": [
    {
     "data": {
      "image/png": "[encoded data removed]",
      "text/plain": [
       "<Figure size 640x480 with 1 Axes>"
      ]
     },
     "metadata": {},
     "output_type": "display_data"
    }
   ],
   "source": [
    "show_portfolio_distribution(predictions.reshape(-1), quantile=0.05)"
   ]
  },
  {
   "cell_type": "markdown",
   "metadata": {},
   "source": [
    "##### VaR Prediction"
   ]
  },
  {
   "cell_type": "code",
   "execution_count": 92,
   "metadata": {},
   "outputs": [],
   "source": [
    "def predict_var_lstm(portofolio, forecast_start_date=None, confidence_level=0.95):\n",
    "    if forecast_start_date is None:\n",
    "        forecast_start_date = portofolio.forecast_start_date\n",
    "\n",
    "    actual_data, _, _ = portofolio.get_data(\n",
    "        start_date=forecast_start_date - dt.timedelta(days=200),\n",
    "        end_date=forecast_start_date + dt.timedelta(days=20),\n",
    "        yahoo_finance=False\n",
    "    )\n",
    "    returns = actual_data['portofolio']\n",
    "\n",
    "    base_input = prepare_input_data(returns, forecast_start_date)\n",
    "    device = next(model.parameters()).device\n",
    "    base_input = base_input.to(device)\n",
    "\n",
    "    model.eval()\n",
    "    enable_dropout(model)\n",
    "\n",
    "    base_std = base_input.std().item()\n",
    "    noise_std = base_std * np.log(1 / (1 - confidence_level))\n",
    "\n",
    "\n",
    "    with torch.no_grad():\n",
    "        predictions = torch.stack([\n",
    "            model(base_input + torch.randn_like(base_input) * noise_std)\n",
    "            for _ in range(100)\n",
    "        ])\n",
    "\n",
    "    predictions = predictions.squeeze().cpu().numpy()\n",
    "    var = np.percentile(predictions, 100 * (1 - confidence_level))\n",
    "    return var\n"
   ]
  },
  {
   "cell_type": "markdown",
   "metadata": {},
   "source": [
    "##### Multiple Returns Prediction"
   ]
  },
  {
   "cell_type": "code",
   "execution_count": 182,
   "metadata": {},
   "outputs": [],
   "source": [
    "def predict_returns_lstm(portofolio, forecast_start_date=None):\n",
    "    if forecast_start_date is None:\n",
    "        forecast_start_date = portofolio.forecast_start_date\n",
    "\n",
    "    actual_data, _, _ = portofolio.get_data(\n",
    "        start_date=forecast_start_date - dt.timedelta(days=200),\n",
    "        end_date=forecast_start_date + dt.timedelta(days=1), \n",
    "        yahoo_finance=False\n",
    "    )\n",
    "    returns = actual_data['portofolio']\n",
    "\n",
    "    base_input = prepare_input_data(returns, forecast_start_date)\n",
    "    \n",
    "    if base_input.shape[1] != 30:\n",
    "        raise ValueError(\"Input data must have a shape of (1, 30, 1) for the LSTM model.\")\n",
    "\n",
    "    device = next(model.parameters()).device\n",
    "    base_input = base_input.to(device)\n",
    "\n",
    "    model.eval()\n",
    "\n",
    "    num_predictions = portofolio.Time\n",
    "    predictions = []\n",
    "\n",
    "    input_sequence = base_input.clone()\n",
    "\n",
    "    with torch.no_grad():\n",
    "        for _ in range(num_predictions):\n",
    "            pred = model(input_sequence).squeeze()\n",
    "            predictions.append(pred.item())\n",
    "\n",
    "            # Remove the first time step and append the new prediction\n",
    "            input_sequence = torch.cat([\n",
    "                input_sequence[:, 1:], \n",
    "                pred.view(1, 1, 1)\n",
    "            ], dim=1)\n",
    "\n",
    "    return np.array(predictions)\n"
   ]
  },
  {
   "cell_type": "code",
   "execution_count": 93,
   "metadata": {},
   "outputs": [],
   "source": [
    "new_dt = (portofolios[1].forecast_start_date + dt.timedelta(days=4))"
   ]
  },
  {
   "cell_type": "code",
   "execution_count": 94,
   "metadata": {},
   "outputs": [
    {
     "data": {
      "text/plain": [
       "datetime.datetime(2023, 8, 16, 0, 0)"
      ]
     },
     "execution_count": 94,
     "metadata": {},
     "output_type": "execute_result"
    }
   ],
   "source": [
    "new_dt"
   ]
  },
  {
   "cell_type": "code",
   "execution_count": 95,
   "metadata": {},
   "outputs": [
    {
     "data": {
      "text/plain": [
       "np.float32(-0.023951702)"
      ]
     },
     "execution_count": 95,
     "metadata": {},
     "output_type": "execute_result"
    }
   ],
   "source": [
    "predict_var_lstm(portofolios[1], new_dt, confidence_level=0.95)"
   ]
  },
  {
   "cell_type": "markdown",
   "metadata": {},
   "source": [
    "### VaR Comparison"
   ]
  },
  {
   "cell_type": "code",
   "execution_count": 96,
   "metadata": {},
   "outputs": [],
   "source": [
    "values_at_risk = []\n",
    "for portofolio in portofolios:\n",
    "    try:\n",
    "        var = VaR(portofolio, confidence_level=0.95)\n",
    "\n",
    "        values_at_risk.append(\n",
    "            {\n",
    "                \"historical\": -var.calculate_historical_var()['relative'],\n",
    "                \"parametric\": -var.calculate_parametric_var()['relative'],\n",
    "                \"monte_carlo\": -var.calculate_monte_carlo_var()['relative'],\n",
    "            }\n",
    "        )\n",
    "    except:\n",
    "        print('VaR could not be calculated')"
   ]
  },
  {
   "cell_type": "code",
   "execution_count": 97,
   "metadata": {},
   "outputs": [
    {
     "data": {
      "application/vnd.microsoft.datawrangler.viewer.v0+json": {
       "columns": [
        {
         "name": "Date",
         "rawType": "datetime64[ns]",
         "type": "datetime"
        },
        {
         "name": "FDX",
         "rawType": "float64",
         "type": "float"
        },
        {
         "name": "MAR",
         "rawType": "float64",
         "type": "float"
        },
        {
         "name": "NKE",
         "rawType": "float64",
         "type": "float"
        },
        {
         "name": "PHG",
         "rawType": "float64",
         "type": "float"
        },
        {
         "name": "UL",
         "rawType": "float64",
         "type": "float"
        },
        {
         "name": "portofolio",
         "rawType": "float64",
         "type": "float"
        }
       ],
       "conversionMethod": "pd.DataFrame",
       "ref": "23a686fe-3500-4ba3-a9bc-27d64f5c86d4",
       "rows": [
        [
         "2024-03-11 00:00:00",
         "0.02026810570457438",
         "-0.007231917364047269",
         "0.019362597185480057",
         "0.027351232756753996",
         "0.003660026690481155",
         "0.010611520585262393"
        ],
        [
         "2024-03-12 00:00:00",
         "0.00601505457387197",
         "0.008934692668665534",
         "-0.008903868514383628",
         "-0.0028024038472673762",
         "0.005875245224034931",
         "0.004325749241658607"
        ],
        [
         "2024-03-13 00:00:00",
         "0.003933600799300718",
         "0.0028720704393279117",
         "0.011778805886596855",
         "0.009836022516183096",
         "0.002215471107216427",
         "0.00456570791239091"
        ],
        [
         "2024-03-14 00:00:00",
         "0.0012146287795276045",
         "-0.013563465756662452",
         "-0.010852410452009686",
         "-0.005101980785142901",
         "-0.009646308216771926",
         "-0.006719655781825629"
        ],
        [
         "2024-03-15 00:00:00",
         "-0.008766115539720953",
         "-0.015846748812784694",
         "-0.006183898639921082",
         "-0.018181878001184093",
         "-0.00689935495796834",
         "-0.010742958109182882"
        ],
        [
         "2024-03-18 00:00:00",
         "-0.0004342872330819203",
         "0.018232459930612288",
         "-0.009032547488019516",
         "-0.018518490006570687",
         "-0.008581863858081462",
         "-0.0019560031327830476"
        ],
        [
         "2024-03-19 00:00:00",
         "0.013587181218586597",
         "0.0052309349201120625",
         "0.01235573048332772",
         "0.0062892675513677165",
         "0.02761741337170509",
         "0.014887015283613058"
        ],
        [
         "2024-03-20 00:00:00",
         "0.013132239035577031",
         "0.016932206013916318",
         "0.003101152130158047",
         "-0.00913454969606231",
         "-0.008423591240218187",
         "0.003974600133164876"
        ],
        [
         "2024-03-21 00:00:00",
         "0.018693088394516444",
         "0.004802226509282859",
         "0.005485268262158449",
         "-0.011644821155299634",
         "0.00040453099614690124",
         "0.005526934851109698"
        ],
        [
         "2024-03-22 00:00:00",
         "0.07351331233533509",
         "-0.0004309325157881849",
         "-0.06903392090654903",
         "-0.0181640070687068",
         "0.010715775439272157",
         "0.017425416226407184"
        ],
        [
         "2024-03-25 00:00:00",
         "-0.006155036419946414",
         "-0.011953309468527129",
         "-0.0011719748674141606",
         "-0.00550003051757797",
         "-0.00700144279756687",
         "-0.007151358924442686"
        ],
        [
         "2024-03-26 00:00:00",
         "0.02271997290494454",
         "0.0002776394637642454",
         "-0.01247997678463042",
         "0.007541555077018813",
         "-0.0002014118201382198",
         "0.006831139446995967"
        ],
        [
         "2024-03-27 00:00:00",
         "-0.0038409127965376433",
         "0.005472317169798124",
         "0.016742213592489952",
         "0.01447100773104304",
         "0.010276009934184316",
         "0.0061146920571736145"
        ],
        [
         "2024-03-28 00:00:00",
         "0.006460974433843081",
         "-0.0049298318666788354",
         "-0.0015934377995374671",
         "-0.016232165516205987",
         "0.0009971700686326468",
         "-0.0010703561070844493"
        ],
        [
         "2024-04-01 00:00:00",
         "-0.03316761812474989",
         "-0.003884114007665973",
         "-0.015109700357704092",
         "-0.008500003814697399",
         "-0.0067742622336892655",
         "-0.014851113122293603"
        ],
        [
         "2024-04-02 00:00:00",
         "-0.017277679125859313",
         "-0.014283972403613343",
         "-0.01739408470046422",
         "0.004538585624516367",
         "-0.010030096849951486",
         "-0.011677686051961787"
        ],
        [
         "2024-04-03 00:00:00",
         "0.011624038614285404",
         "0.011503974938640305",
         "-0.0068169067506644865",
         "0.025100401510290693",
         "-0.00911843014831637",
         "0.005995817914141108"
        ],
        [
         "2024-04-04 00:00:00",
         "-0.010700493997080729",
         "-0.00678399028601262",
         "-0.013948867042473556",
         "-0.0029382696238107187",
         "-0.0036809836221363135",
         "-0.00705961782482284"
        ],
        [
         "2024-04-05 00:00:00",
         "-0.007223043379244287",
         "0.020249890857624964",
         "-0.0025823066163631614",
         "-0.013752489108627475",
         "-0.005747208572576601",
         "-0.001629791116060314"
        ],
        [
         "2024-04-08 00:00:00",
         "0.0074949487894444555",
         "0.0029535772441093844",
         "0.013057210951048948",
         "0.0184263366852202",
         "-0.005367388899433556",
         "0.00466093295213612"
        ],
        [
         "2024-04-09 00:00:00",
         "0.0029030292546587955",
         "0.0010208947000043267",
         "0.011111130022739335",
         "0.009290886045017377",
         "0.004566212597761243",
         "0.004439802207085345"
        ],
        [
         "2024-04-10 00:00:00",
         "-0.021963336944898493",
         "-0.002314264560713708",
         "-0.0219779748074298",
         "-0.010174374548575837",
         "-0.013636371223216814",
         "-0.013917757464013069"
        ],
        [
         "2024-04-11 00:00:00",
         "0.0069552533026839836",
         "0.016512623992352538",
         "0.033707834226147426",
         "0.008321100036933204",
         "-0.0018852529160742204",
         "0.008494271902120465"
        ],
        [
         "2024-04-12 00:00:00",
         "-0.016092310238357332",
         "-0.028969183620695227",
         "0.0",
         "-0.02621363619066186",
         "-0.01867791106686978",
         "-0.01967150924790251"
        ],
        [
         "2024-04-15 00:00:00",
         "-0.0039581688084810995",
         "-0.010555239209105616",
         "0.01195652499682831",
         "0.0174476765098599",
         "-0.0010692495607249608",
         "-0.0004957426505047392"
        ]
       ],
       "shape": {
        "columns": 6,
        "rows": 25
       }
      },
      "text/html": [
       "<div>\n",
       "<style scoped>\n",
       "    .dataframe tbody tr th:only-of-type {\n",
       "        vertical-align: middle;\n",
       "    }\n",
       "\n",
       "    .dataframe tbody tr th {\n",
       "        vertical-align: top;\n",
       "    }\n",
       "\n",
       "    .dataframe thead th {\n",
       "        text-align: right;\n",
       "    }\n",
       "</style>\n",
       "<table border=\"1\" class=\"dataframe\">\n",
       "  <thead>\n",
       "    <tr style=\"text-align: right;\">\n",
       "      <th>Ticker</th>\n",
       "      <th>FDX</th>\n",
       "      <th>MAR</th>\n",
       "      <th>NKE</th>\n",
       "      <th>PHG</th>\n",
       "      <th>UL</th>\n",
       "      <th>portofolio</th>\n",
       "    </tr>\n",
       "    <tr>\n",
       "      <th>Date</th>\n",
       "      <th></th>\n",
       "      <th></th>\n",
       "      <th></th>\n",
       "      <th></th>\n",
       "      <th></th>\n",
       "      <th></th>\n",
       "    </tr>\n",
       "  </thead>\n",
       "  <tbody>\n",
       "    <tr>\n",
       "      <th>2024-03-11</th>\n",
       "      <td>0.020268</td>\n",
       "      <td>-0.007232</td>\n",
       "      <td>0.019363</td>\n",
       "      <td>0.027351</td>\n",
       "      <td>0.003660</td>\n",
       "      <td>0.010612</td>\n",
       "    </tr>\n",
       "    <tr>\n",
       "      <th>2024-03-12</th>\n",
       "      <td>0.006015</td>\n",
       "      <td>0.008935</td>\n",
       "      <td>-0.008904</td>\n",
       "      <td>-0.002802</td>\n",
       "      <td>0.005875</td>\n",
       "      <td>0.004326</td>\n",
       "    </tr>\n",
       "    <tr>\n",
       "      <th>2024-03-13</th>\n",
       "      <td>0.003934</td>\n",
       "      <td>0.002872</td>\n",
       "      <td>0.011779</td>\n",
       "      <td>0.009836</td>\n",
       "      <td>0.002215</td>\n",
       "      <td>0.004566</td>\n",
       "    </tr>\n",
       "    <tr>\n",
       "      <th>2024-03-14</th>\n",
       "      <td>0.001215</td>\n",
       "      <td>-0.013563</td>\n",
       "      <td>-0.010852</td>\n",
       "      <td>-0.005102</td>\n",
       "      <td>-0.009646</td>\n",
       "      <td>-0.006720</td>\n",
       "    </tr>\n",
       "    <tr>\n",
       "      <th>2024-03-15</th>\n",
       "      <td>-0.008766</td>\n",
       "      <td>-0.015847</td>\n",
       "      <td>-0.006184</td>\n",
       "      <td>-0.018182</td>\n",
       "      <td>-0.006899</td>\n",
       "      <td>-0.010743</td>\n",
       "    </tr>\n",
       "    <tr>\n",
       "      <th>2024-03-18</th>\n",
       "      <td>-0.000434</td>\n",
       "      <td>0.018232</td>\n",
       "      <td>-0.009033</td>\n",
       "      <td>-0.018518</td>\n",
       "      <td>-0.008582</td>\n",
       "      <td>-0.001956</td>\n",
       "    </tr>\n",
       "    <tr>\n",
       "      <th>2024-03-19</th>\n",
       "      <td>0.013587</td>\n",
       "      <td>0.005231</td>\n",
       "      <td>0.012356</td>\n",
       "      <td>0.006289</td>\n",
       "      <td>0.027617</td>\n",
       "      <td>0.014887</td>\n",
       "    </tr>\n",
       "    <tr>\n",
       "      <th>2024-03-20</th>\n",
       "      <td>0.013132</td>\n",
       "      <td>0.016932</td>\n",
       "      <td>0.003101</td>\n",
       "      <td>-0.009135</td>\n",
       "      <td>-0.008424</td>\n",
       "      <td>0.003975</td>\n",
       "    </tr>\n",
       "    <tr>\n",
       "      <th>2024-03-21</th>\n",
       "      <td>0.018693</td>\n",
       "      <td>0.004802</td>\n",
       "      <td>0.005485</td>\n",
       "      <td>-0.011645</td>\n",
       "      <td>0.000405</td>\n",
       "      <td>0.005527</td>\n",
       "    </tr>\n",
       "    <tr>\n",
       "      <th>2024-03-22</th>\n",
       "      <td>0.073513</td>\n",
       "      <td>-0.000431</td>\n",
       "      <td>-0.069034</td>\n",
       "      <td>-0.018164</td>\n",
       "      <td>0.010716</td>\n",
       "      <td>0.017425</td>\n",
       "    </tr>\n",
       "    <tr>\n",
       "      <th>2024-03-25</th>\n",
       "      <td>-0.006155</td>\n",
       "      <td>-0.011953</td>\n",
       "      <td>-0.001172</td>\n",
       "      <td>-0.005500</td>\n",
       "      <td>-0.007001</td>\n",
       "      <td>-0.007151</td>\n",
       "    </tr>\n",
       "    <tr>\n",
       "      <th>2024-03-26</th>\n",
       "      <td>0.022720</td>\n",
       "      <td>0.000278</td>\n",
       "      <td>-0.012480</td>\n",
       "      <td>0.007542</td>\n",
       "      <td>-0.000201</td>\n",
       "      <td>0.006831</td>\n",
       "    </tr>\n",
       "    <tr>\n",
       "      <th>2024-03-27</th>\n",
       "      <td>-0.003841</td>\n",
       "      <td>0.005472</td>\n",
       "      <td>0.016742</td>\n",
       "      <td>0.014471</td>\n",
       "      <td>0.010276</td>\n",
       "      <td>0.006115</td>\n",
       "    </tr>\n",
       "    <tr>\n",
       "      <th>2024-03-28</th>\n",
       "      <td>0.006461</td>\n",
       "      <td>-0.004930</td>\n",
       "      <td>-0.001593</td>\n",
       "      <td>-0.016232</td>\n",
       "      <td>0.000997</td>\n",
       "      <td>-0.001070</td>\n",
       "    </tr>\n",
       "    <tr>\n",
       "      <th>2024-04-01</th>\n",
       "      <td>-0.033168</td>\n",
       "      <td>-0.003884</td>\n",
       "      <td>-0.015110</td>\n",
       "      <td>-0.008500</td>\n",
       "      <td>-0.006774</td>\n",
       "      <td>-0.014851</td>\n",
       "    </tr>\n",
       "    <tr>\n",
       "      <th>2024-04-02</th>\n",
       "      <td>-0.017278</td>\n",
       "      <td>-0.014284</td>\n",
       "      <td>-0.017394</td>\n",
       "      <td>0.004539</td>\n",
       "      <td>-0.010030</td>\n",
       "      <td>-0.011678</td>\n",
       "    </tr>\n",
       "    <tr>\n",
       "      <th>2024-04-03</th>\n",
       "      <td>0.011624</td>\n",
       "      <td>0.011504</td>\n",
       "      <td>-0.006817</td>\n",
       "      <td>0.025100</td>\n",
       "      <td>-0.009118</td>\n",
       "      <td>0.005996</td>\n",
       "    </tr>\n",
       "    <tr>\n",
       "      <th>2024-04-04</th>\n",
       "      <td>-0.010700</td>\n",
       "      <td>-0.006784</td>\n",
       "      <td>-0.013949</td>\n",
       "      <td>-0.002938</td>\n",
       "      <td>-0.003681</td>\n",
       "      <td>-0.007060</td>\n",
       "    </tr>\n",
       "    <tr>\n",
       "      <th>2024-04-05</th>\n",
       "      <td>-0.007223</td>\n",
       "      <td>0.020250</td>\n",
       "      <td>-0.002582</td>\n",
       "      <td>-0.013752</td>\n",
       "      <td>-0.005747</td>\n",
       "      <td>-0.001630</td>\n",
       "    </tr>\n",
       "    <tr>\n",
       "      <th>2024-04-08</th>\n",
       "      <td>0.007495</td>\n",
       "      <td>0.002954</td>\n",
       "      <td>0.013057</td>\n",
       "      <td>0.018426</td>\n",
       "      <td>-0.005367</td>\n",
       "      <td>0.004661</td>\n",
       "    </tr>\n",
       "    <tr>\n",
       "      <th>2024-04-09</th>\n",
       "      <td>0.002903</td>\n",
       "      <td>0.001021</td>\n",
       "      <td>0.011111</td>\n",
       "      <td>0.009291</td>\n",
       "      <td>0.004566</td>\n",
       "      <td>0.004440</td>\n",
       "    </tr>\n",
       "    <tr>\n",
       "      <th>2024-04-10</th>\n",
       "      <td>-0.021963</td>\n",
       "      <td>-0.002314</td>\n",
       "      <td>-0.021978</td>\n",
       "      <td>-0.010174</td>\n",
       "      <td>-0.013636</td>\n",
       "      <td>-0.013918</td>\n",
       "    </tr>\n",
       "    <tr>\n",
       "      <th>2024-04-11</th>\n",
       "      <td>0.006955</td>\n",
       "      <td>0.016513</td>\n",
       "      <td>0.033708</td>\n",
       "      <td>0.008321</td>\n",
       "      <td>-0.001885</td>\n",
       "      <td>0.008494</td>\n",
       "    </tr>\n",
       "    <tr>\n",
       "      <th>2024-04-12</th>\n",
       "      <td>-0.016092</td>\n",
       "      <td>-0.028969</td>\n",
       "      <td>0.000000</td>\n",
       "      <td>-0.026214</td>\n",
       "      <td>-0.018678</td>\n",
       "      <td>-0.019672</td>\n",
       "    </tr>\n",
       "    <tr>\n",
       "      <th>2024-04-15</th>\n",
       "      <td>-0.003958</td>\n",
       "      <td>-0.010555</td>\n",
       "      <td>0.011957</td>\n",
       "      <td>0.017448</td>\n",
       "      <td>-0.001069</td>\n",
       "      <td>-0.000496</td>\n",
       "    </tr>\n",
       "  </tbody>\n",
       "</table>\n",
       "</div>"
      ],
      "text/plain": [
       "Ticker           FDX       MAR       NKE       PHG        UL  portofolio\n",
       "Date                                                                    \n",
       "2024-03-11  0.020268 -0.007232  0.019363  0.027351  0.003660    0.010612\n",
       "2024-03-12  0.006015  0.008935 -0.008904 -0.002802  0.005875    0.004326\n",
       "2024-03-13  0.003934  0.002872  0.011779  0.009836  0.002215    0.004566\n",
       "2024-03-14  0.001215 -0.013563 -0.010852 -0.005102 -0.009646   -0.006720\n",
       "2024-03-15 -0.008766 -0.015847 -0.006184 -0.018182 -0.006899   -0.010743\n",
       "2024-03-18 -0.000434  0.018232 -0.009033 -0.018518 -0.008582   -0.001956\n",
       "2024-03-19  0.013587  0.005231  0.012356  0.006289  0.027617    0.014887\n",
       "2024-03-20  0.013132  0.016932  0.003101 -0.009135 -0.008424    0.003975\n",
       "2024-03-21  0.018693  0.004802  0.005485 -0.011645  0.000405    0.005527\n",
       "2024-03-22  0.073513 -0.000431 -0.069034 -0.018164  0.010716    0.017425\n",
       "2024-03-25 -0.006155 -0.011953 -0.001172 -0.005500 -0.007001   -0.007151\n",
       "2024-03-26  0.022720  0.000278 -0.012480  0.007542 -0.000201    0.006831\n",
       "2024-03-27 -0.003841  0.005472  0.016742  0.014471  0.010276    0.006115\n",
       "2024-03-28  0.006461 -0.004930 -0.001593 -0.016232  0.000997   -0.001070\n",
       "2024-04-01 -0.033168 -0.003884 -0.015110 -0.008500 -0.006774   -0.014851\n",
       "2024-04-02 -0.017278 -0.014284 -0.017394  0.004539 -0.010030   -0.011678\n",
       "2024-04-03  0.011624  0.011504 -0.006817  0.025100 -0.009118    0.005996\n",
       "2024-04-04 -0.010700 -0.006784 -0.013949 -0.002938 -0.003681   -0.007060\n",
       "2024-04-05 -0.007223  0.020250 -0.002582 -0.013752 -0.005747   -0.001630\n",
       "2024-04-08  0.007495  0.002954  0.013057  0.018426 -0.005367    0.004661\n",
       "2024-04-09  0.002903  0.001021  0.011111  0.009291  0.004566    0.004440\n",
       "2024-04-10 -0.021963 -0.002314 -0.021978 -0.010174 -0.013636   -0.013918\n",
       "2024-04-11  0.006955  0.016513  0.033708  0.008321 -0.001885    0.008494\n",
       "2024-04-12 -0.016092 -0.028969  0.000000 -0.026214 -0.018678   -0.019672\n",
       "2024-04-15 -0.003958 -0.010555  0.011957  0.017448 -0.001069   -0.000496"
      ]
     },
     "execution_count": 97,
     "metadata": {},
     "output_type": "execute_result"
    }
   ],
   "source": [
    "returns[2]"
   ]
  },
  {
   "cell_type": "code",
   "execution_count": 98,
   "metadata": {},
   "outputs": [
    {
     "data": {
      "image/png": "[encoded data removed]",
      "text/plain": [
       "<Figure size 640x480 with 1 Axes>"
      ]
     },
     "metadata": {},
     "output_type": "display_data"
    }
   ],
   "source": [
    "show_portfolio_distribution(returns[2]['portofolio'])"
   ]
  },
  {
   "cell_type": "code",
   "execution_count": 99,
   "metadata": {},
   "outputs": [
    {
     "data": {
      "image/png": "[encoded data removed]",
      "text/plain": [
       "<Figure size 1000x600 with 1 Axes>"
      ]
     },
     "metadata": {},
     "output_type": "display_data"
    }
   ],
   "source": [
    "index = 2\n",
    "\n",
    "compare_portfolio_distributions(returns[2]['portofolio'],portofolios[index].returns['portofolio'])"
   ]
  },
  {
   "cell_type": "code",
   "execution_count": 100,
   "metadata": {},
   "outputs": [
    {
     "data": {
      "image/png": "[encoded data removed]",
      "text/plain": [
       "<Figure size 640x480 with 1 Axes>"
      ]
     },
     "metadata": {},
     "output_type": "display_data"
    }
   ],
   "source": [
    "min_index = 4\n",
    "show_portfolio_distribution_with_vars(returns[min_index]['portofolio'][:], values_at_risk[min_index], time_horizon=portofolios[min_index].Time, quantile=0.05)"
   ]
  },
  {
   "cell_type": "markdown",
   "metadata": {},
   "source": [
    "#### RMSE"
   ]
  },
  {
   "cell_type": "markdown",
   "metadata": {},
   "source": [
    "For our chosen way of comparing the models, we will pick the root mean square error (RMSE)."
   ]
  },
  {
   "cell_type": "code",
   "execution_count": 101,
   "metadata": {},
   "outputs": [],
   "source": [
    "def root_mean_squared_error(prediction, truth):\n",
    "    return np.sqrt(np.mean((prediction - truth) ** 2))"
   ]
  },
  {
   "cell_type": "markdown",
   "metadata": {},
   "source": [
    "##### Calculating RMSE for traditional VaR methods at different confidence levels"
   ]
  },
  {
   "cell_type": "code",
   "execution_count": 196,
   "metadata": {},
   "outputs": [],
   "source": [
    "worst_losses = []\n",
    "values_at_risk = {\n",
    "    0.99:[],\n",
    "    0.95:[],\n",
    "    0.90:[],\n",
    "    0.85:[],\n",
    "    0.8:[],\n",
    "    0.75:[],\n",
    "    0.7:[],\n",
    "\n",
    "}\n",
    "\n",
    "for portofolio in portofolios[:]:\n",
    "    forecast_start_date = portofolio.forecast_start_date\n",
    "    returns_array, _, _ = portofolio.get_data(start_date=forecast_start_date - dt.timedelta(days=1),\n",
    "                                               end_date=forecast_start_date + dt.timedelta(days=(portofolio.Time + 1)),\n",
    "                                               yahoo_finance=False)\n",
    "\n",
    "    returns_array = returns_array['portofolio']\n",
    "    # print(returns_array)\n",
    "    # 1. Start with an initial value of +0% (Day 0)\n",
    "    cumulative_returns = (1 + returns_array).cumprod() - 1\n",
    "\n",
    "    # 2. Calculate the maximum cumulative return up to each point in time\n",
    "    max_cumulative_returns = cumulative_returns.cummax()\n",
    "\n",
    "    # 3. Calculate the drawdown (difference from the peak at each point in time)\n",
    "    drawdowns = cumulative_returns - max_cumulative_returns\n",
    "\n",
    "    # 4. Find the worst loss (maximum drawdown)\n",
    "    worst_loss = drawdowns.min()\n",
    "    worst_losses.append(worst_loss)\n",
    "\n",
    "\n",
    "\n",
    "    for conf_level in values_at_risk.keys():\n",
    "        var_obj = VaR(portofolio, confidence_level=conf_level)\n",
    "        values_at_risk[conf_level].append(var_obj.calculate_all_vars('relative',-1))\n",
    " \n",
    "\n",
    "\n",
    "\n"
   ]
  },
  {
   "cell_type": "markdown",
   "metadata": {},
   "source": [
    "##### Creating a flattened dictionary with all the RMSEs"
   ]
  },
  {
   "cell_type": "code",
   "execution_count": 184,
   "metadata": {},
   "outputs": [],
   "source": [
    "for conf_level in values_at_risk.keys():\n",
    "    new_dict = {\n",
    "        'historical':[],\n",
    "        'parametric':[],\n",
    "        'monte_carlo':[],\n",
    "    }\n",
    "    for element in values_at_risk[conf_level]:\n",
    "        for method in element.keys():\n",
    "            new_dict[method].append(element[method])\n",
    "    values_at_risk[conf_level] = new_dict"
   ]
  },
  {
   "cell_type": "code",
   "execution_count": 185,
   "metadata": {},
   "outputs": [],
   "source": [
    "flattened_dict = {}\n",
    "\n",
    "for confidence_level, methods in values_at_risk.items():\n",
    "    for method, values in methods.items():\n",
    "        key = f\"{confidence_level}_{method}\"  # Create new key like '90_historical'\n",
    "        flattened_dict[key] = values\n",
    "\n",
    "values_at_risk = flattened_dict"
   ]
  },
  {
   "cell_type": "code",
   "execution_count": 186,
   "metadata": {},
   "outputs": [],
   "source": [
    "rmse_dict = {}\n",
    "\n",
    "for key, predictions in flattened_dict.items():\n",
    "    # Extract the confidence level from the key to match with the worst_losses (assuming they are aligned)\n",
    "    rmse_dict[key] = root_mean_squared_error(np.array(predictions), np.array(worst_losses))"
   ]
  },
  {
   "cell_type": "markdown",
   "metadata": {},
   "source": [
    "##### Adding LSTM predictions to RSME dictionary"
   ]
  },
  {
   "cell_type": "code",
   "execution_count": 203,
   "metadata": {},
   "outputs": [],
   "source": [
    "lstms = []\n",
    "for portofolio in portofolios[:]:\n",
    "    predicted_returns = predict_returns_lstm(portofolio, portofolio.forecast_start_date)\n",
    "    predicted_returns = pd.Series(predicted_returns)\n",
    "\n",
    "    cumulative_returns = (1 + predicted_returns).cumprod() - 1\n",
    "\n",
    "    # 2. Calculate the maximum cumulative return up to each point in time\n",
    "    max_cumulative_returns = cumulative_returns.cummax()\n",
    "\n",
    "    # 3. Calculate the drawdown (difference from the peak at each point in time)\n",
    "    drawdowns = cumulative_returns - max_cumulative_returns\n",
    "\n",
    "    # 4. Find the worst loss (maximum drawdown)\n",
    "    worst_loss = drawdowns.min()\n",
    "\n",
    "    lstms.append(worst_loss)"
   ]
  },
  {
   "cell_type": "code",
   "execution_count": 204,
   "metadata": {},
   "outputs": [],
   "source": [
    "rmse_dict['lstm'] = root_mean_squared_error(np.array(lstms), np.array(worst_losses))"
   ]
  },
  {
   "cell_type": "markdown",
   "metadata": {},
   "source": [
    "##### Visualizing the errors"
   ]
  },
  {
   "cell_type": "code",
   "execution_count": 207,
   "metadata": {},
   "outputs": [
    {
     "data": {
      "image/png": "[encoded data removed]",
      "text/plain": [
       "<Figure size 1600x800 with 1 Axes>"
      ]
     },
     "metadata": {},
     "output_type": "display_data"
    }
   ],
   "source": [
    "# Sort rmse_dict by RMSE values in ascending order\n",
    "sorted_rmse_dict = dict(sorted(rmse_dict.items(), key=lambda item: item[1]))\n",
    "\n",
    "# Extract values and labels from sorted_rmse_dict\n",
    "methods = list(sorted_rmse_dict.keys())\n",
    "rmse_values = list(sorted_rmse_dict.values())\n",
    "\n",
    "# Create bar chart\n",
    "plt.figure(figsize=(16, 8))\n",
    "bars = plt.bar(methods, rmse_values, color=['#3498db', '#2ecc71', '#e74c3c'] * (len(methods) // 3 + 1))\n",
    "\n",
    "# Add value labels on top of each bar\n",
    "for i, bar in enumerate(bars):\n",
    "    plt.text(bar.get_x() + bar.get_width()/2, bar.get_height() + 0.001, \n",
    "             f'{rmse_values[i]:.4f}', ha='center', fontsize=10)\n",
    "\n",
    "# Add title and labels\n",
    "plt.title('Root Mean Squared Error (RMSE) by VaR Method', fontsize=14)\n",
    "plt.ylabel('RMSE', fontsize=12)\n",
    "plt.xlabel('VaR Method', fontsize=12)\n",
    "\n",
    "# Add grid for better readability\n",
    "plt.grid(axis='y', linestyle='--', alpha=0.3)\n",
    "\n",
    "# Rotate x-axis labels\n",
    "plt.xticks(rotation=90, fontsize=11)\n",
    "plt.yticks(fontsize=10)\n",
    "plt.tight_layout()\n",
    "\n",
    "plt.show()\n"
   ]
  },
  {
   "cell_type": "markdown",
   "metadata": {},
   "source": [
    "#### Backtesting"
   ]
  },
  {
   "cell_type": "code",
   "execution_count": 107,
   "metadata": {},
   "outputs": [],
   "source": [
    "from copy import deepcopy"
   ]
  },
  {
   "cell_type": "code",
   "execution_count": 108,
   "metadata": {},
   "outputs": [],
   "source": [
    "def backtest_portofolio(portofolio, conf_level=0.95,start_date = dt.datetime.strptime(\"2018-10-01\", \"%Y-%m-%d\"), days=1000, ):\n",
    "    columns = ['historical', 'parametric', 'monte_carlo','lstm', 'actual']\n",
    "    backtesting_returns = pd.DataFrame(columns=columns)\n",
    "    backtesting_returns.index.name = 'Date'\n",
    "    test_portofolio_template = deepcopy(portofolio)\n",
    "\n",
    "    \n",
    "    for i in range(0,days):\n",
    "        forecast_start_date = start_date + dt.timedelta(days=i)\n",
    "        test_portofolio = PortofolioData(\n",
    "            stocks=test_portofolio_template.stocks,\n",
    "            weights=test_portofolio_template.weights,\n",
    "            Time=1,\n",
    "            initial_investment=test_portofolio_template.initial_investment,\n",
    "            forecast_start_date=  forecast_start_date,\n",
    "            yahoo_finance=False,\n",
    "        )\n",
    "        try:\n",
    "            ret, _, _ = test_portofolio.get_data(\n",
    "                forecast_start_date - dt.timedelta(days=10),\n",
    "                forecast_start_date + dt.timedelta(days=10),\n",
    "            )\n",
    "            _ = ret['portofolio'].loc[forecast_start_date]\n",
    "\n",
    "            actual = ret['portofolio'].loc[forecast_start_date]\n",
    "\n",
    "            var_obj = VaR(test_portofolio, confidence_level=conf_level)\n",
    "            rez = var_obj.calculate_all_vars('relative',-1)\n",
    "            rez['actual'] = actual\n",
    "            rez['lstm'] = predict_var_lstm(test_portofolio, forecast_start_date=forecast_start_date, confidence_level=conf_level)\n",
    "            backtesting_returns.loc[forecast_start_date] = rez\n",
    "        except Exception as e:\n",
    "            continue\n",
    "\n",
    "    return backtesting_returns"
   ]
  },
  {
   "cell_type": "code",
   "execution_count": 109,
   "metadata": {},
   "outputs": [],
   "source": [
    "def get_breaches_count(backtesting_returns):\n",
    "    historical_breaches = (backtesting_returns['actual'] < backtesting_returns['historical']).sum()\n",
    "    parametric_breaches = (backtesting_returns['actual'] < backtesting_returns['parametric']).sum()\n",
    "    monte_carlo_breaches = (backtesting_returns['actual'] < backtesting_returns['monte_carlo']).sum()\n",
    "    lstm_breaches = (backtesting_returns['actual'] < backtesting_returns['lstm']).sum()\n",
    "\n",
    "    return {\n",
    "        'historical': historical_breaches,\n",
    "        'parametric': parametric_breaches,\n",
    "        'monte_carlo': monte_carlo_breaches,\n",
    "        'lstm': lstm_breaches,\n",
    "    }\n",
    "def get_breaches_percentage(backtesting_returns):\n",
    "    historical_breaches = (backtesting_returns['actual'] < backtesting_returns['historical']).sum()\n",
    "    parametric_breaches = (backtesting_returns['actual'] < backtesting_returns['parametric']).sum()\n",
    "    monte_carlo_breaches = (backtesting_returns['actual'] < backtesting_returns['monte_carlo']).sum()\n",
    "    lstm_breaches = (backtesting_returns['actual'] < backtesting_returns['lstm']).sum()\n",
    "\n",
    "    total_days = len(backtesting_returns)\n",
    "\n",
    "    return {\n",
    "        'historical': (historical_breaches / total_days) * 100,\n",
    "        'parametric': (parametric_breaches / total_days) * 100,\n",
    "        'monte_carlo': (monte_carlo_breaches / total_days) * 100,\n",
    "        'lstm': (lstm_breaches / total_days) * 100,\n",
    "    }\n",
    "\n",
    "def print_breaches_count(breaches_count):\n",
    "    print(\"Breaches Count:\")\n",
    "    for method, count in breaches_count.items():\n",
    "        print(f\"{method.capitalize()}: {count}\")\n",
    "\n",
    "def print_breaches_percentage(breaches_percentage):\n",
    "    print(\"\\nBreaches Percentage:\")\n",
    "    for method, percentage in breaches_percentage.items():\n",
    "        print(f\"{method.capitalize()}: {percentage:.2f}%\")\n",
    "\n"
   ]
  },
  {
   "cell_type": "code",
   "execution_count": 110,
   "metadata": {},
   "outputs": [],
   "source": [
    "backtest_1_95_df = backtest_portofolio(portofolios[1],conf_level=0.95,days=1000)\n",
    "backtest_1_99_df = backtest_portofolio(portofolios[1],conf_level=0.99, days=1000)\n"
   ]
  },
  {
   "cell_type": "code",
   "execution_count": 111,
   "metadata": {},
   "outputs": [
    {
     "name": "stdout",
     "output_type": "stream",
     "text": [
      "Backtest - Portofolio 1 (95% confidence level):\n",
      "Expected breach %: 5%\n",
      "\n",
      "Breaches Percentage:\n",
      "Historical: 6.68%\n",
      "Parametric: 6.53%\n",
      "Monte_carlo: 6.53%\n",
      "Lstm: 4.50%\n",
      "\n",
      "\n",
      "Backtest - Portofolio 1 (99% confidence level):\n",
      "Expected breach %: 1%\n",
      "\n",
      "Breaches Percentage:\n",
      "Historical: 2.90%\n",
      "Parametric: 4.21%\n",
      "Monte_carlo: 4.06%\n",
      "Lstm: 1.02%\n"
     ]
    }
   ],
   "source": [
    "print(\"Backtest - Portofolio 1 (95% confidence level):\")\n",
    "print('Expected breach %: 5%')\n",
    "print_breaches_percentage(get_breaches_percentage(backtest_1_95_df))\n",
    "print('\\n')\n",
    "print(\"Backtest - Portofolio 1 (99% confidence level):\")\n",
    "print('Expected breach %: 1%')\n",
    "print_breaches_percentage(get_breaches_percentage(backtest_1_99_df))"
   ]
  },
  {
   "cell_type": "code",
   "execution_count": 112,
   "metadata": {},
   "outputs": [],
   "source": [
    "backtest_2_95_df = backtest_portofolio(portofolios[2],conf_level=0.95,days=1000)\n",
    "backtest_2_99_df = backtest_portofolio(portofolios[2],conf_level=0.99, days=1000)\n"
   ]
  },
  {
   "cell_type": "code",
   "execution_count": 113,
   "metadata": {},
   "outputs": [
    {
     "name": "stdout",
     "output_type": "stream",
     "text": [
      "Backtest - Portofolio 2 (95% confidence level):\n",
      "Expected breach %: 5%\n",
      "\n",
      "Breaches Percentage:\n",
      "Historical: 7.26%\n",
      "Parametric: 7.26%\n",
      "Monte_carlo: 7.40%\n",
      "Lstm: 5.08%\n",
      "\n",
      "\n",
      "Backtest - Portofolio 2 (99% confidence level):\n",
      "Expected breach %: 1%\n",
      "\n",
      "Breaches Percentage:\n",
      "Historical: 2.47%\n",
      "Parametric: 4.35%\n",
      "Monte_carlo: 4.50%\n",
      "Lstm: 1.02%\n"
     ]
    }
   ],
   "source": [
    "print(\"Backtest - Portofolio 2 (95% confidence level):\")\n",
    "print('Expected breach %: 5%')\n",
    "print_breaches_percentage(get_breaches_percentage(backtest_2_95_df))\n",
    "print('\\n')\n",
    "print(\"Backtest - Portofolio 2 (99% confidence level):\")\n",
    "print('Expected breach %: 1%')\n",
    "print_breaches_percentage(get_breaches_percentage(backtest_2_99_df))"
   ]
  },
  {
   "cell_type": "markdown",
   "metadata": {},
   "source": [
    "No noise  \n",
    "\n",
    "Backtest - Portofolio 1 (95% confidence level):\n",
    "Expected breach %: 5%\n",
    "\n",
    "Breaches Percentage:\n",
    "Historical: 6.68%\n",
    "Parametric: 6.53%\n",
    "Monte_carlo: 6.53%\n",
    "Lstm: 34.98%\n",
    "\n",
    "\n",
    "Backtest - Portofolio 1 (99% confidence level):\n",
    "Expected breach %: 1%\n",
    "\n",
    "Breaches Percentage:\n",
    "Historical: 2.90%\n",
    "Parametric: 4.21%\n",
    "Monte_carlo: 4.50%\n",
    "Lstm: 32.66%"
   ]
  },
  {
   "cell_type": "markdown",
   "metadata": {},
   "source": [
    "Noise 0.01\n",
    "\n",
    "Backtest - Portofolio 1 (95% confidence level):\n",
    "Expected breach %: 5%\n",
    "\n",
    "Breaches Percentage:\n",
    "Historical: 6.68%\n",
    "Parametric: 6.53%\n",
    "Monte_carlo: 6.53%\n",
    "Lstm: 17.85%\n",
    "\n",
    "\n",
    "Backtest - Portofolio 1 (99% confidence level):\n",
    "Expected breach %: 1%\n",
    "\n",
    "Breaches Percentage:\n",
    "Historical: 2.90%\n",
    "Parametric: 4.21%\n",
    "Monte_carlo: 4.06%\n",
    "Lstm: 11.47%"
   ]
  },
  {
   "cell_type": "markdown",
   "metadata": {},
   "source": [
    "Noise 0.05  \n",
    "\n",
    "Backtest - Portofolio 1 (95% confidence level):\n",
    "Expected breach %: 5%\n",
    "\n",
    "Breaches Percentage:\n",
    "Historical: 6.68%\n",
    "Parametric: 6.53%\n",
    "Monte_carlo: 6.53%\n",
    "Lstm: 3.05%\n",
    "\n",
    "\n",
    "Backtest - Portofolio 1 (99% confidence level):\n",
    "Expected breach %: 1%\n",
    "\n",
    "Breaches Percentage:\n",
    "Historical: 2.90%\n",
    "Parametric: 4.21%\n",
    "Monte_carlo: 4.21%\n",
    "Lstm: 1.31%"
   ]
  },
  {
   "cell_type": "markdown",
   "metadata": {},
   "source": [
    "___"
   ]
  },
  {
   "cell_type": "markdown",
   "metadata": {},
   "source": [
    "Noise  lookback_returns_std * np.log(1 / (1 - confidence_level))\n",
    "\n",
    "Backtest - Portofolio 1 (95% confidence level):\n",
    "Expected breach %: 5%\n",
    "\n",
    "Breaches Percentage:\n",
    "Historical: 6.68%\n",
    "Parametric: 6.53%\n",
    "Monte_carlo: 6.53%\n",
    "Lstm: 4.79%\n",
    "\n",
    "\n",
    "Backtest - Portofolio 1 (99% confidence level):\n",
    "Expected breach %: 1%\n",
    "\n",
    "Breaches Percentage:\n",
    "Historical: 2.90%\n",
    "Parametric: 4.21%\n",
    "Monte_carlo: 4.35%\n",
    "Lstm: 0.87%"
   ]
  },
  {
   "cell_type": "markdown",
   "metadata": {},
   "source": [
    "Backtest - Portofolio 2 (95% confidence level):\n",
    "Expected breach %: 5%\n",
    "\n",
    "Breaches Percentage:\n",
    "Historical: 7.26%\n",
    "Parametric: 7.26%\n",
    "Monte_carlo: 6.97%\n",
    "Lstm: 4.79%\n",
    "\n",
    "\n",
    "Backtest - Portofolio 2 (99% confidence level):\n",
    "Expected breach %: 1%\n",
    "\n",
    "Breaches Percentage:\n",
    "Historical: 2.47%\n",
    "Parametric: 4.35%\n",
    "Monte_carlo: 4.06%\n",
    "Lstm: 0.73%"
   ]
  },
  {
   "cell_type": "markdown",
   "metadata": {},
   "source": [
    "___"
   ]
  },
  {
   "cell_type": "markdown",
   "metadata": {},
   "source": [
    "Noise lookback_returns_std * np.log(1 / (1 - confidence_level))  \n",
    "No dropout  "
   ]
  },
  {
   "cell_type": "markdown",
   "metadata": {},
   "source": [
    "Backtest - Portofolio 1 (95% confidence level):\n",
    "Expected breach %: 5%\n",
    "\n",
    "Breaches Percentage:\n",
    "Historical: 6.68%\n",
    "Parametric: 6.53%\n",
    "Monte_carlo: 6.53%\n",
    "Lstm: 4.50%\n",
    "\n",
    "\n",
    "Backtest - Portofolio 1 (99% confidence level):\n",
    "Expected breach %: 1%\n",
    "\n",
    "Breaches Percentage:\n",
    "Historical: 2.90%\n",
    "Parametric: 4.21%\n",
    "Monte_carlo: 4.06%\n",
    "Lstm: 1.02%"
   ]
  },
  {
   "cell_type": "markdown",
   "metadata": {},
   "source": [
    "Backtest - Portofolio 2 (95% confidence level):\n",
    "Expected breach %: 5%\n",
    "\n",
    "Breaches Percentage:\n",
    "Historical: 7.26%\n",
    "Parametric: 7.26%\n",
    "Monte_carlo: 7.40%\n",
    "Lstm: 5.08%\n",
    "\n",
    "\n",
    "Backtest - Portofolio 2 (99% confidence level):\n",
    "Expected breach %: 1%\n",
    "\n",
    "Breaches Percentage:\n",
    "Historical: 2.47%\n",
    "Parametric: 4.35%\n",
    "Monte_carlo: 4.50%\n",
    "Lstm: 1.02%"
   ]
  },
  {
   "cell_type": "markdown",
   "metadata": {},
   "source": [
    "___"
   ]
  }
 ],
 "metadata": {
  "kernelspec": {
   "display_name": "Python 3",
   "language": "python",
   "name": "python3"
  },
  "language_info": {
   "codemirror_mode": {
    "name": "ipython",
    "version": 3
   },
   "file_extension": ".py",
   "mimetype": "text/x-python",
   "name": "python",
   "nbconvert_exporter": "python",
   "pygments_lexer": "ipython3",
   "version": "3.13.2"
  }
 },
 "nbformat": 4,
 "nbformat_minor": 2
}
