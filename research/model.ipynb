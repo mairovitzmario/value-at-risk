{
 "cells": [
  {
   "cell_type": "markdown",
   "id": "3d7b11c8",
   "metadata": {},
   "source": [
    "### Imports"
   ]
  },
  {
   "cell_type": "code",
   "execution_count": 60,
   "id": "7741178c",
   "metadata": {},
   "outputs": [],
   "source": [
    "import pandas as pd\n",
    "import datetime as dt\n",
    "import random\n",
    "import numpy as np\n",
    "from model_class import LSTMModel\n",
    "import torch.optim as optim\n",
    "import torch\n",
    "import torch.nn as nn\n",
    "from sklearn.model_selection import train_test_split\n"
   ]
  },
  {
   "cell_type": "markdown",
   "id": "c2bed2de",
   "metadata": {},
   "source": [
    "### Reading and converting the dataframe"
   ]
  },
  {
   "cell_type": "code",
   "execution_count": 61,
   "id": "20704c11",
   "metadata": {},
   "outputs": [],
   "source": [
    "df = pd.read_csv('data/stock_data.csv')"
   ]
  },
  {
   "cell_type": "markdown",
   "id": "6f9f316f",
   "metadata": {},
   "source": [
    "Converting dataframe to a multi-column yfinance-like df"
   ]
  },
  {
   "cell_type": "code",
   "execution_count": 62,
   "id": "ef5551a2",
   "metadata": {},
   "outputs": [],
   "source": [
    "def convert_csv_df_to_yf_df(csv_df):\n",
    "    \"\"\"Convert a CSV DataFrame to a format similar to Yahoo Finance DataFrame.\n",
    "    The CSV DataFrame should have 'Date', 'Ticker', 'Open', 'High', 'Low', 'Close', and 'Volume' columns.\n",
    "    \"\"\"    \n",
    "\n",
    "    # Ensure the Date column is of datetime type.\n",
    "    csv_df['Date'] = pd.to_datetime(csv_df['Date'])\n",
    "\n",
    "    # Define the price columns that you want to keep.\n",
    "    price_cols = ['Open', 'High', 'Low', 'Close', 'Volume']\n",
    "\n",
    "    # Pivot the DataFrame.\n",
    "    # With a list for values, pivot_table creates a MultiIndex on the columns where the first level is the price fields\n",
    "    # and the second level is the ticker symbol.\n",
    "    multi_df = csv_df.pivot_table(index='Date', columns='Ticker', values=price_cols)\n",
    "\n",
    "    # Optionally, sort the MultiIndex columns.\n",
    "    multi_df = multi_df.sort_index(axis=1)\n",
    "\n",
    "    # Set the MultiIndex column names so that the first level is 'Price' and the second is 'Ticker'.\n",
    "    multi_df.columns.names = ['Price', 'Ticker']\n",
    "\n",
    "    return multi_df\n"
   ]
  },
  {
   "cell_type": "code",
   "execution_count": 63,
   "id": "d0cb6246",
   "metadata": {},
   "outputs": [
    {
     "name": "stderr",
     "output_type": "stream",
     "text": [
      "C:\\Users\\mario\\AppData\\Local\\Temp\\ipykernel_18660\\132587994.py:7: FutureWarning: In a future version of pandas, parsing datetimes with mixed time zones will raise an error unless `utc=True`. Please specify `utc=True` to opt in to the new behaviour and silence this warning. To create a `Series` with mixed offsets and `object` dtype, please use `apply` and `datetime.datetime.strptime`\n",
      "  csv_df['Date'] = pd.to_datetime(csv_df['Date'])\n"
     ]
    }
   ],
   "source": [
    "df = convert_csv_df_to_yf_df(df)\n",
    "df = df['Close']"
   ]
  },
  {
   "cell_type": "markdown",
   "id": "a29592bc",
   "metadata": {},
   "source": [
    "Only keeping certain stocks"
   ]
  },
  {
   "cell_type": "code",
   "execution_count": 64,
   "id": "d4d4f43f",
   "metadata": {},
   "outputs": [],
   "source": [
    "with open('data/stock_tickers.txt', 'r') as f:\n",
    "    tickers = f.read().splitlines()\n",
    "tickers = [ticker.replace('\\n', '') for ticker in tickers]\n",
    "\n",
    "df = df[[col for col in tickers if col in df.columns]]"
   ]
  },
  {
   "cell_type": "code",
   "execution_count": 65,
   "id": "6963e5a5",
   "metadata": {},
   "outputs": [
    {
     "data": {
      "application/vnd.microsoft.datawrangler.viewer.v0+json": {
       "columns": [
        {
         "name": "Date",
         "rawType": "object",
         "type": "unknown"
        },
        {
         "name": "COST",
         "rawType": "float64",
         "type": "float"
        },
        {
         "name": "NVDA",
         "rawType": "float64",
         "type": "float"
        },
        {
         "name": "CRM",
         "rawType": "float64",
         "type": "float"
        },
        {
         "name": "CL",
         "rawType": "float64",
         "type": "float"
        },
        {
         "name": "AXP",
         "rawType": "float64",
         "type": "float"
        },
        {
         "name": "PHG",
         "rawType": "float64",
         "type": "float"
        },
        {
         "name": "MSFT",
         "rawType": "float64",
         "type": "float"
        },
        {
         "name": "AMD",
         "rawType": "float64",
         "type": "float"
        },
        {
         "name": "JPM",
         "rawType": "float64",
         "type": "float"
        },
        {
         "name": "PG",
         "rawType": "float64",
         "type": "float"
        },
        {
         "name": "GOOGL",
         "rawType": "float64",
         "type": "float"
        },
        {
         "name": "LOGI",
         "rawType": "float64",
         "type": "float"
        },
        {
         "name": "DAL",
         "rawType": "float64",
         "type": "float"
        },
        {
         "name": "UBSFY",
         "rawType": "float64",
         "type": "float"
        },
        {
         "name": "AMZN",
         "rawType": "float64",
         "type": "float"
        },
        {
         "name": "UL",
         "rawType": "float64",
         "type": "float"
        },
        {
         "name": "JNJ",
         "rawType": "float64",
         "type": "float"
        },
        {
         "name": "HSY",
         "rawType": "float64",
         "type": "float"
        },
        {
         "name": "FDX",
         "rawType": "float64",
         "type": "float"
        },
        {
         "name": "AEO",
         "rawType": "float64",
         "type": "float"
        },
        {
         "name": "SBUX",
         "rawType": "float64",
         "type": "float"
        },
        {
         "name": "V",
         "rawType": "float64",
         "type": "float"
        },
        {
         "name": "MAR",
         "rawType": "float64",
         "type": "float"
        },
        {
         "name": "FL",
         "rawType": "float64",
         "type": "float"
        },
        {
         "name": "CSCO",
         "rawType": "float64",
         "type": "float"
        },
        {
         "name": "TSLA",
         "rawType": "float64",
         "type": "float"
        },
        {
         "name": "NFLX",
         "rawType": "float64",
         "type": "float"
        },
        {
         "name": "HMC",
         "rawType": "float64",
         "type": "float"
        },
        {
         "name": "LUV",
         "rawType": "float64",
         "type": "float"
        },
        {
         "name": "POAHY",
         "rawType": "float64",
         "type": "float"
        },
        {
         "name": "AAPL",
         "rawType": "float64",
         "type": "float"
        },
        {
         "name": "HD",
         "rawType": "float64",
         "type": "float"
        },
        {
         "name": "CMG",
         "rawType": "float64",
         "type": "float"
        },
        {
         "name": "TGT",
         "rawType": "float64",
         "type": "float"
        },
        {
         "name": "NTDOY",
         "rawType": "float64",
         "type": "float"
        },
        {
         "name": "LVMUY",
         "rawType": "float64",
         "type": "float"
        },
        {
         "name": "MMM",
         "rawType": "float64",
         "type": "float"
        },
        {
         "name": "ADDYY",
         "rawType": "float64",
         "type": "float"
        },
        {
         "name": "SHOP",
         "rawType": "float64",
         "type": "float"
        },
        {
         "name": "MCD",
         "rawType": "float64",
         "type": "float"
        },
        {
         "name": "NKE",
         "rawType": "float64",
         "type": "float"
        },
        {
         "name": "CROX",
         "rawType": "float64",
         "type": "float"
        },
        {
         "name": "ADBE",
         "rawType": "float64",
         "type": "float"
        },
        {
         "name": "KO",
         "rawType": "float64",
         "type": "float"
        },
        {
         "name": "JWN",
         "rawType": "float64",
         "type": "float"
        },
        {
         "name": "TM",
         "rawType": "float64",
         "type": "float"
        },
        {
         "name": "MA",
         "rawType": "float64",
         "type": "float"
        },
        {
         "name": "HLT",
         "rawType": "float64",
         "type": "float"
        },
        {
         "name": "DIS",
         "rawType": "float64",
         "type": "float"
        }
       ],
       "conversionMethod": "pd.DataFrame",
       "ref": "a5e25492-0d69-43f7-957a-b13acf54d231",
       "rows": [
        [
         "2000-01-03 00:00:00-05:00",
         "30.799129486083984",
         "0.8947288393974304",
         null,
         "18.733959197998047",
         "33.198848724365234",
         "19.158504486083984",
         "36.205604553222656",
         "15.5",
         "24.23975944519043",
         "28.6081771850586",
         null,
         "2.632929563522339",
         null,
         null,
         "4.46875",
         "7.472337245941162",
         "25.085430145263672",
         "13.58238410949707",
         "36.263858795166016",
         "5.482471466064453",
         "2.4377646446228027",
         null,
         "11.42856788635254",
         "3.957437038421631",
         "37.49692535400391",
         null,
         null,
         "13.720699310302734",
         "9.467610359191896",
         null,
         "0.8483229875564575",
         "40.083255767822266",
         null,
         "23.075401306152344",
         "3.990652322769165",
         null,
         "24.772855758666992",
         null,
         null,
         "22.18610000610352",
         "4.670586585998535",
         null,
         "16.274675369262695",
         "14.781797409057615",
         "7.168196201324463",
         "72.03495788574219",
         null,
         null,
         "23.115253448486328"
        ],
        [
         "2000-01-04 00:00:00-05:00",
         "29.11210060119629",
         "0.8708379864692688",
         null,
         "18.24492073059082",
         "31.9453182220459",
         "17.986570358276367",
         "34.98255157470703",
         "14.625",
         "23.70790100097656",
         "28.05769920349121",
         null,
         "2.785693883895874",
         null,
         null,
         "4.096875190734863",
         "7.363589763641357",
         "24.16706657409668",
         "13.069842338562012",
         "35.0498046875",
         "4.999640941619873",
         "2.360522747039795",
         null,
         "11.358309745788574",
         "3.886767864227295",
         "35.393280029296875",
         null,
         null,
         "13.448785781860352",
         "9.206693649291992",
         null,
         "0.7768008708953857",
         "37.96956634521485",
         null,
         "22.0747299194336",
         "3.753113031387329",
         null,
         "23.78849029541016",
         null,
         null,
         "21.731176376342773",
         "4.415827751159668",
         null,
         "14.909399032592772",
         "14.798185348510742",
         "6.889822959899902",
         "68.69741821289062",
         null,
         null,
         "24.469282150268555"
        ],
        [
         "2000-01-05 00:00:00-05:00",
         "29.60956764221192",
         "0.8421685695648193",
         null,
         "17.62421226501465",
         "31.133947372436523",
         "18.572540283203125",
         "35.351417541503906",
         "15.0",
         "23.561561584472656",
         "27.523902893066406",
         null,
         "2.89951753616333",
         null,
         null,
         "3.487499952316284",
         "7.674290180206299",
         "24.42217063903809",
         "13.124749183654783",
         "35.84158706665039",
         "5.377338409423828",
         "2.391420602798462",
         null,
         "11.545666694641112",
         "3.851433992385864",
         "35.284847259521484",
         null,
         null,
         "13.176864624023438",
         "9.16941738128662",
         null,
         "0.7881678938865662",
         "38.73818206787109",
         null,
         "21.574392318725582",
         "3.681851625442505",
         null,
         "24.477537155151367",
         null,
         null,
         "22.08111953735352",
         "4.670586585998535",
         null,
         "15.204172134399414",
         "14.92928981781006",
         "6.768032550811768",
         "68.97554779052734",
         null,
         null,
         "25.48481178283692"
        ],
        [
         "2000-01-06 00:00:00-05:00",
         "30.204360961914062",
         "0.7872183322906494",
         null,
         "17.586589813232422",
         "31.768239974975582",
         "17.39211654663086",
         "34.167198181152344",
         "16.0",
         "23.89606094360352",
         "28.79167556762696",
         null,
         "2.995369434356689",
         null,
         null,
         "3.278125047683716",
         "7.829638481140137",
         "25.187484741210938",
         "13.472546577453612",
         "39.906097412109375",
         "4.995747089385986",
         "2.47793197631836",
         null,
         "11.709595680236816",
         "3.922102451324463",
         "34.69929885864258",
         null,
         null,
         "12.497057914733888",
         "9.132144927978516",
         null,
         "0.7199613451957703",
         "36.893516540527344",
         null,
         "20.553714752197266",
         "3.6105902194976807",
         null,
         "26.44623565673828",
         null,
         null,
         "21.76616859436035",
         "4.64632511138916",
         null,
         "15.328289985656738",
         "14.945670127868652",
         "7.098604202270508",
         "62.85675048828125",
         null,
         null,
         "24.469282150268555"
        ],
        [
         "2000-01-07 00:00:00-05:00",
         "32.20500564575195",
         "0.8003586530685425",
         null,
         "18.639911651611328",
         "32.23074722290039",
         "18.51309585571289",
         "34.61371994018555",
         "16.25",
         "24.33509826660156",
         "31.093673706054688",
         null,
         "3.0912210941314697",
         null,
         null,
         "3.478125095367432",
         "8.264616966247559",
         "26.258930206298828",
         "13.509161949157717",
         "40.11724472045898",
         "5.108668327331543",
         "2.46557354927063",
         null,
         "12.03746509552002",
         "3.74543023109436",
         "36.73788070678711",
         null,
         null,
         "12.961588859558104",
         "9.467610359191896",
         null,
         "0.7540648579597473",
         "39.04565048217773",
         null,
         "21.614425659179688",
         "3.658097505569458",
         null,
         "26.9712142944336",
         null,
         null,
         "22.326080322265625",
         "4.64632511138916",
         null,
         "16.072986602783203",
         "15.928942680358888",
         "7.098604202270508",
         "63.78382873535156",
         null,
         null,
         "24.082416534423828"
        ]
       ],
       "shape": {
        "columns": 49,
        "rows": 5
       }
      },
      "text/html": [
       "<div>\n",
       "<style scoped>\n",
       "    .dataframe tbody tr th:only-of-type {\n",
       "        vertical-align: middle;\n",
       "    }\n",
       "\n",
       "    .dataframe tbody tr th {\n",
       "        vertical-align: top;\n",
       "    }\n",
       "\n",
       "    .dataframe thead th {\n",
       "        text-align: right;\n",
       "    }\n",
       "</style>\n",
       "<table border=\"1\" class=\"dataframe\">\n",
       "  <thead>\n",
       "    <tr style=\"text-align: right;\">\n",
       "      <th>Ticker</th>\n",
       "      <th>COST</th>\n",
       "      <th>NVDA</th>\n",
       "      <th>CRM</th>\n",
       "      <th>CL</th>\n",
       "      <th>AXP</th>\n",
       "      <th>PHG</th>\n",
       "      <th>MSFT</th>\n",
       "      <th>AMD</th>\n",
       "      <th>JPM</th>\n",
       "      <th>PG</th>\n",
       "      <th>...</th>\n",
       "      <th>MCD</th>\n",
       "      <th>NKE</th>\n",
       "      <th>CROX</th>\n",
       "      <th>ADBE</th>\n",
       "      <th>KO</th>\n",
       "      <th>JWN</th>\n",
       "      <th>TM</th>\n",
       "      <th>MA</th>\n",
       "      <th>HLT</th>\n",
       "      <th>DIS</th>\n",
       "    </tr>\n",
       "    <tr>\n",
       "      <th>Date</th>\n",
       "      <th></th>\n",
       "      <th></th>\n",
       "      <th></th>\n",
       "      <th></th>\n",
       "      <th></th>\n",
       "      <th></th>\n",
       "      <th></th>\n",
       "      <th></th>\n",
       "      <th></th>\n",
       "      <th></th>\n",
       "      <th></th>\n",
       "      <th></th>\n",
       "      <th></th>\n",
       "      <th></th>\n",
       "      <th></th>\n",
       "      <th></th>\n",
       "      <th></th>\n",
       "      <th></th>\n",
       "      <th></th>\n",
       "      <th></th>\n",
       "      <th></th>\n",
       "    </tr>\n",
       "  </thead>\n",
       "  <tbody>\n",
       "    <tr>\n",
       "      <th>2000-01-03 00:00:00-05:00</th>\n",
       "      <td>30.799129</td>\n",
       "      <td>0.894729</td>\n",
       "      <td>NaN</td>\n",
       "      <td>18.733959</td>\n",
       "      <td>33.198849</td>\n",
       "      <td>19.158504</td>\n",
       "      <td>36.205605</td>\n",
       "      <td>15.500</td>\n",
       "      <td>24.239759</td>\n",
       "      <td>28.608177</td>\n",
       "      <td>...</td>\n",
       "      <td>22.186100</td>\n",
       "      <td>4.670587</td>\n",
       "      <td>NaN</td>\n",
       "      <td>16.274675</td>\n",
       "      <td>14.781797</td>\n",
       "      <td>7.168196</td>\n",
       "      <td>72.034958</td>\n",
       "      <td>NaN</td>\n",
       "      <td>NaN</td>\n",
       "      <td>23.115253</td>\n",
       "    </tr>\n",
       "    <tr>\n",
       "      <th>2000-01-04 00:00:00-05:00</th>\n",
       "      <td>29.112101</td>\n",
       "      <td>0.870838</td>\n",
       "      <td>NaN</td>\n",
       "      <td>18.244921</td>\n",
       "      <td>31.945318</td>\n",
       "      <td>17.986570</td>\n",
       "      <td>34.982552</td>\n",
       "      <td>14.625</td>\n",
       "      <td>23.707901</td>\n",
       "      <td>28.057699</td>\n",
       "      <td>...</td>\n",
       "      <td>21.731176</td>\n",
       "      <td>4.415828</td>\n",
       "      <td>NaN</td>\n",
       "      <td>14.909399</td>\n",
       "      <td>14.798185</td>\n",
       "      <td>6.889823</td>\n",
       "      <td>68.697418</td>\n",
       "      <td>NaN</td>\n",
       "      <td>NaN</td>\n",
       "      <td>24.469282</td>\n",
       "    </tr>\n",
       "    <tr>\n",
       "      <th>2000-01-05 00:00:00-05:00</th>\n",
       "      <td>29.609568</td>\n",
       "      <td>0.842169</td>\n",
       "      <td>NaN</td>\n",
       "      <td>17.624212</td>\n",
       "      <td>31.133947</td>\n",
       "      <td>18.572540</td>\n",
       "      <td>35.351418</td>\n",
       "      <td>15.000</td>\n",
       "      <td>23.561562</td>\n",
       "      <td>27.523903</td>\n",
       "      <td>...</td>\n",
       "      <td>22.081120</td>\n",
       "      <td>4.670587</td>\n",
       "      <td>NaN</td>\n",
       "      <td>15.204172</td>\n",
       "      <td>14.929290</td>\n",
       "      <td>6.768033</td>\n",
       "      <td>68.975548</td>\n",
       "      <td>NaN</td>\n",
       "      <td>NaN</td>\n",
       "      <td>25.484812</td>\n",
       "    </tr>\n",
       "    <tr>\n",
       "      <th>2000-01-06 00:00:00-05:00</th>\n",
       "      <td>30.204361</td>\n",
       "      <td>0.787218</td>\n",
       "      <td>NaN</td>\n",
       "      <td>17.586590</td>\n",
       "      <td>31.768240</td>\n",
       "      <td>17.392117</td>\n",
       "      <td>34.167198</td>\n",
       "      <td>16.000</td>\n",
       "      <td>23.896061</td>\n",
       "      <td>28.791676</td>\n",
       "      <td>...</td>\n",
       "      <td>21.766169</td>\n",
       "      <td>4.646325</td>\n",
       "      <td>NaN</td>\n",
       "      <td>15.328290</td>\n",
       "      <td>14.945670</td>\n",
       "      <td>7.098604</td>\n",
       "      <td>62.856750</td>\n",
       "      <td>NaN</td>\n",
       "      <td>NaN</td>\n",
       "      <td>24.469282</td>\n",
       "    </tr>\n",
       "    <tr>\n",
       "      <th>2000-01-07 00:00:00-05:00</th>\n",
       "      <td>32.205006</td>\n",
       "      <td>0.800359</td>\n",
       "      <td>NaN</td>\n",
       "      <td>18.639912</td>\n",
       "      <td>32.230747</td>\n",
       "      <td>18.513096</td>\n",
       "      <td>34.613720</td>\n",
       "      <td>16.250</td>\n",
       "      <td>24.335098</td>\n",
       "      <td>31.093674</td>\n",
       "      <td>...</td>\n",
       "      <td>22.326080</td>\n",
       "      <td>4.646325</td>\n",
       "      <td>NaN</td>\n",
       "      <td>16.072987</td>\n",
       "      <td>15.928943</td>\n",
       "      <td>7.098604</td>\n",
       "      <td>63.783829</td>\n",
       "      <td>NaN</td>\n",
       "      <td>NaN</td>\n",
       "      <td>24.082417</td>\n",
       "    </tr>\n",
       "  </tbody>\n",
       "</table>\n",
       "<p>5 rows × 49 columns</p>\n",
       "</div>"
      ],
      "text/plain": [
       "Ticker                          COST      NVDA  CRM         CL        AXP  \\\n",
       "Date                                                                        \n",
       "2000-01-03 00:00:00-05:00  30.799129  0.894729  NaN  18.733959  33.198849   \n",
       "2000-01-04 00:00:00-05:00  29.112101  0.870838  NaN  18.244921  31.945318   \n",
       "2000-01-05 00:00:00-05:00  29.609568  0.842169  NaN  17.624212  31.133947   \n",
       "2000-01-06 00:00:00-05:00  30.204361  0.787218  NaN  17.586590  31.768240   \n",
       "2000-01-07 00:00:00-05:00  32.205006  0.800359  NaN  18.639912  32.230747   \n",
       "\n",
       "Ticker                           PHG       MSFT     AMD        JPM         PG  \\\n",
       "Date                                                                            \n",
       "2000-01-03 00:00:00-05:00  19.158504  36.205605  15.500  24.239759  28.608177   \n",
       "2000-01-04 00:00:00-05:00  17.986570  34.982552  14.625  23.707901  28.057699   \n",
       "2000-01-05 00:00:00-05:00  18.572540  35.351418  15.000  23.561562  27.523903   \n",
       "2000-01-06 00:00:00-05:00  17.392117  34.167198  16.000  23.896061  28.791676   \n",
       "2000-01-07 00:00:00-05:00  18.513096  34.613720  16.250  24.335098  31.093674   \n",
       "\n",
       "Ticker                     ...        MCD       NKE  CROX       ADBE  \\\n",
       "Date                       ...                                         \n",
       "2000-01-03 00:00:00-05:00  ...  22.186100  4.670587   NaN  16.274675   \n",
       "2000-01-04 00:00:00-05:00  ...  21.731176  4.415828   NaN  14.909399   \n",
       "2000-01-05 00:00:00-05:00  ...  22.081120  4.670587   NaN  15.204172   \n",
       "2000-01-06 00:00:00-05:00  ...  21.766169  4.646325   NaN  15.328290   \n",
       "2000-01-07 00:00:00-05:00  ...  22.326080  4.646325   NaN  16.072987   \n",
       "\n",
       "Ticker                            KO       JWN         TM  MA  HLT        DIS  \n",
       "Date                                                                           \n",
       "2000-01-03 00:00:00-05:00  14.781797  7.168196  72.034958 NaN  NaN  23.115253  \n",
       "2000-01-04 00:00:00-05:00  14.798185  6.889823  68.697418 NaN  NaN  24.469282  \n",
       "2000-01-05 00:00:00-05:00  14.929290  6.768033  68.975548 NaN  NaN  25.484812  \n",
       "2000-01-06 00:00:00-05:00  14.945670  7.098604  62.856750 NaN  NaN  24.469282  \n",
       "2000-01-07 00:00:00-05:00  15.928943  7.098604  63.783829 NaN  NaN  24.082417  \n",
       "\n",
       "[5 rows x 49 columns]"
      ]
     },
     "execution_count": 65,
     "metadata": {},
     "output_type": "execute_result"
    }
   ],
   "source": [
    "df.head()"
   ]
  },
  {
   "cell_type": "markdown",
   "id": "74f72b8c",
   "metadata": {},
   "source": [
    "Cutting off dates that are too old - when certain stocks weren't listed yet"
   ]
  },
  {
   "cell_type": "code",
   "execution_count": 66,
   "id": "d61240f0",
   "metadata": {},
   "outputs": [],
   "source": [
    "df.index = pd.to_datetime(df.index, utc=True).tz_convert(None)\n",
    "df.index = df.index.normalize()\n"
   ]
  },
  {
   "cell_type": "code",
   "execution_count": 67,
   "id": "47278a9c",
   "metadata": {},
   "outputs": [],
   "source": [
    "start_date = dt.datetime(2018, 1, 1)\n",
    "end_date = dt.datetime(2025, 3, 31)"
   ]
  },
  {
   "cell_type": "code",
   "execution_count": 68,
   "id": "467dc255",
   "metadata": {},
   "outputs": [],
   "source": [
    "stock_df = df.loc[start_date:end_date]"
   ]
  },
  {
   "cell_type": "markdown",
   "id": "9ae40b5f",
   "metadata": {},
   "source": [
    "Done"
   ]
  },
  {
   "cell_type": "code",
   "execution_count": 69,
   "id": "303372f1",
   "metadata": {},
   "outputs": [
    {
     "data": {
      "application/vnd.microsoft.datawrangler.viewer.v0+json": {
       "columns": [
        {
         "name": "Date",
         "rawType": "datetime64[ns]",
         "type": "datetime"
        },
        {
         "name": "COST",
         "rawType": "float64",
         "type": "float"
        },
        {
         "name": "NVDA",
         "rawType": "float64",
         "type": "float"
        },
        {
         "name": "CRM",
         "rawType": "float64",
         "type": "float"
        },
        {
         "name": "CL",
         "rawType": "float64",
         "type": "float"
        },
        {
         "name": "AXP",
         "rawType": "float64",
         "type": "float"
        },
        {
         "name": "PHG",
         "rawType": "float64",
         "type": "float"
        },
        {
         "name": "MSFT",
         "rawType": "float64",
         "type": "float"
        },
        {
         "name": "AMD",
         "rawType": "float64",
         "type": "float"
        },
        {
         "name": "JPM",
         "rawType": "float64",
         "type": "float"
        },
        {
         "name": "PG",
         "rawType": "float64",
         "type": "float"
        },
        {
         "name": "GOOGL",
         "rawType": "float64",
         "type": "float"
        },
        {
         "name": "LOGI",
         "rawType": "float64",
         "type": "float"
        },
        {
         "name": "DAL",
         "rawType": "float64",
         "type": "float"
        },
        {
         "name": "UBSFY",
         "rawType": "float64",
         "type": "float"
        },
        {
         "name": "AMZN",
         "rawType": "float64",
         "type": "float"
        },
        {
         "name": "UL",
         "rawType": "float64",
         "type": "float"
        },
        {
         "name": "JNJ",
         "rawType": "float64",
         "type": "float"
        },
        {
         "name": "HSY",
         "rawType": "float64",
         "type": "float"
        },
        {
         "name": "FDX",
         "rawType": "float64",
         "type": "float"
        },
        {
         "name": "AEO",
         "rawType": "float64",
         "type": "float"
        },
        {
         "name": "SBUX",
         "rawType": "float64",
         "type": "float"
        },
        {
         "name": "V",
         "rawType": "float64",
         "type": "float"
        },
        {
         "name": "MAR",
         "rawType": "float64",
         "type": "float"
        },
        {
         "name": "FL",
         "rawType": "float64",
         "type": "float"
        },
        {
         "name": "CSCO",
         "rawType": "float64",
         "type": "float"
        },
        {
         "name": "TSLA",
         "rawType": "float64",
         "type": "float"
        },
        {
         "name": "NFLX",
         "rawType": "float64",
         "type": "float"
        },
        {
         "name": "HMC",
         "rawType": "float64",
         "type": "float"
        },
        {
         "name": "LUV",
         "rawType": "float64",
         "type": "float"
        },
        {
         "name": "POAHY",
         "rawType": "float64",
         "type": "float"
        },
        {
         "name": "AAPL",
         "rawType": "float64",
         "type": "float"
        },
        {
         "name": "HD",
         "rawType": "float64",
         "type": "float"
        },
        {
         "name": "CMG",
         "rawType": "float64",
         "type": "float"
        },
        {
         "name": "TGT",
         "rawType": "float64",
         "type": "float"
        },
        {
         "name": "NTDOY",
         "rawType": "float64",
         "type": "float"
        },
        {
         "name": "LVMUY",
         "rawType": "float64",
         "type": "float"
        },
        {
         "name": "MMM",
         "rawType": "float64",
         "type": "float"
        },
        {
         "name": "ADDYY",
         "rawType": "float64",
         "type": "float"
        },
        {
         "name": "SHOP",
         "rawType": "float64",
         "type": "float"
        },
        {
         "name": "MCD",
         "rawType": "float64",
         "type": "float"
        },
        {
         "name": "NKE",
         "rawType": "float64",
         "type": "float"
        },
        {
         "name": "CROX",
         "rawType": "float64",
         "type": "float"
        },
        {
         "name": "ADBE",
         "rawType": "float64",
         "type": "float"
        },
        {
         "name": "KO",
         "rawType": "float64",
         "type": "float"
        },
        {
         "name": "JWN",
         "rawType": "float64",
         "type": "float"
        },
        {
         "name": "TM",
         "rawType": "float64",
         "type": "float"
        },
        {
         "name": "MA",
         "rawType": "float64",
         "type": "float"
        },
        {
         "name": "HLT",
         "rawType": "float64",
         "type": "float"
        },
        {
         "name": "DIS",
         "rawType": "float64",
         "type": "float"
        }
       ],
       "conversionMethod": "pd.DataFrame",
       "ref": "6f89e8b4-ab3b-44a0-9735-aaa1bb9e8700",
       "rows": [
        [
         "2025-03-25 00:00:00",
         "930.260009765625",
         "120.69000244140624",
         "288.6099853515625",
         "89.58999633789062",
         "279.2799987792969",
         "25.46999931335449",
         "395.1600036621094",
         "114.80999755859376",
         "251.1300048828125",
         "162.85000610351562",
         "170.55999755859375",
         "92.4499969482422",
         "48.66999816894531",
         "2.900000095367432",
         "205.7100067138672",
         "58.09000015258789",
         "161.02000427246094",
         "165.22999572753906",
         "241.07000732421875",
         "12.239999771118164",
         "95.87999725341795",
         "344.6199951171875",
         "246.47999572753903",
         "15.68000030517578",
         "60.9900016784668",
         "288.1400146484375",
         "997.280029296875",
         "30.1299991607666",
         "34.66999816894531",
         "4.03000020980835",
         "223.75",
         "360.989990234375",
         "49.5099983215332",
         "105.4000015258789",
         "18.020000457763672",
         "129.1199951171875",
         "153.5",
         "120.87999725341795",
         "109.81999969482422",
         "306.9200134277344",
         "66.54000091552734",
         "112.58999633789062",
         "403.6400146484375",
         "68.80999755859375",
         "24.3700008392334",
         "193.009994506836",
         "545.1599731445312",
         "234.6699981689453",
         "101.61000061035156"
        ],
        [
         "2025-03-26 00:00:00",
         "929.75",
         "113.76000213623048",
         "280.989990234375",
         "92.02999877929688",
         "276.0",
         "25.13999938964844",
         "389.9700012207031",
         "110.19000244140624",
         "251.02999877929688",
         "166.5800018310547",
         "165.05999755859375",
         "91.0199966430664",
         "48.06999969482422",
         "2.789999961853028",
         "201.1300048828125",
         "58.18999862670898",
         "161.72000122070312",
         "168.52000427246094",
         "243.6699981689453",
         "11.979999542236328",
         "97.97000122070312",
         "344.17999267578125",
         "246.72000122070312",
         "15.3100004196167",
         "61.79999923706055",
         "272.0599975585937",
         "970.6500244140624",
         "29.56999969482422",
         "34.38999938964844",
         "3.9600000381469727",
         "221.52999877929688",
         "362.1300048828125",
         "50.06999969482422",
         "106.08999633789062",
         "18.56999969482422",
         "126.81999969482422",
         "152.67999267578125",
         "118.11000061035156",
         "104.27999877929688",
         "313.5799865722656",
         "65.73999786376953",
         "109.51000213623048",
         "397.80999755859375",
         "70.0199966430664",
         "24.43000030517578",
         "189.27999877929688",
         "549.0700073242188",
         "234.8600006103516",
         "100.77999877929688"
        ],
        [
         "2025-03-27 00:00:00",
         "938.75",
         "111.43000030517578",
         "277.8099975585937",
         "93.19000244140624",
         "272.0199890136719",
         "25.690000534057617",
         "390.5799865722656",
         "106.6500015258789",
         "248.1199951171875",
         "168.7100067138672",
         "162.24000549316406",
         "88.5999984741211",
         "46.150001525878906",
         "3.1700000762939453",
         "201.3600006103516",
         "58.66999816894531",
         "163.1300048828125",
         "170.6199951171875",
         "243.9199981689453",
         "11.90999984741211",
         "98.8499984741211",
         "349.8599853515625",
         "244.4499969482422",
         "15.270000457763672",
         "61.400001525878906",
         "273.1300048828125",
         "976.719970703125",
         "28.770000457763672",
         "33.93000030517578",
         "3.880000114440918",
         "223.8500061035156",
         "362.7300109863281",
         "50.91999816894531",
         "106.51000213623048",
         "18.25",
         "126.91999816894533",
         "148.44000244140625",
         "119.58000183105467",
         "102.5199966430664",
         "312.69000244140625",
         "65.80000305175781",
         "110.58999633789062",
         "396.1499938964844",
         "70.73999786376953",
         "24.450000762939453",
         "183.97999572753903",
         "557.5700073242188",
         "232.0500030517578",
         "100.4499969482422"
        ],
        [
         "2025-03-28 00:00:00",
         "929.6599731445312",
         "109.66999816894533",
         "269.9700012207031",
         "92.81999969482422",
         "265.4800109863281",
         "25.63999938964844",
         "378.7999877929688",
         "103.22000122070312",
         "242.8500061035156",
         "168.02999877929688",
         "154.3300018310547",
         "86.94999694824219",
         "43.84000015258789",
         "2.720000028610229",
         "192.72000122070312",
         "59.18000030517578",
         "163.7100067138672",
         "169.86000061035156",
         "241.7100067138672",
         "11.420000076293944",
         "97.7300033569336",
         "342.8500061035156",
         "237.009994506836",
         "14.539999961853027",
         "60.86000061035156",
         "263.54998779296875",
         "933.8499755859376",
         "27.26000022888184",
         "33.59000015258789",
         "3.809999942779541",
         "217.8999938964844",
         "358.1499938964844",
         "49.90999984741211",
         "103.6500015258789",
         "17.940000534057617",
         "126.4800033569336",
         "144.83999633789062",
         "120.0199966430664",
         "96.68000030517578",
         "307.0899963378906",
         "63.290000915527344",
         "105.98999786376952",
         "385.7099914550781",
         "70.37000274658203",
         "24.459999084472656",
         "179.07000732421875",
         "540.6099853515625",
         "225.7100067138672",
         "98.06999969482422"
        ],
        [
         "2025-03-31 00:00:00",
         "945.780029296875",
         "108.37999725341795",
         "268.3599853515625",
         "93.6999969482422",
         "269.04998779296875",
         "25.39999961853028",
         "375.3900146484375",
         "102.73999786376952",
         "245.3000030517578",
         "170.4199981689453",
         "154.63999938964844",
         "84.41000366210938",
         "43.59999847412109",
         "2.359999895095825",
         "190.259994506836",
         "59.54999923706055",
         "165.83999633789062",
         "171.02999877929688",
         "243.77999877929688",
         "11.619999885559082",
         "98.08999633789062",
         "350.4599914550781",
         "238.1999969482422",
         "14.100000381469728",
         "61.709999084472656",
         "259.1600036621094",
         "932.530029296875",
         "27.1299991607666",
         "33.58000183105469",
         "3.700000047683716",
         "222.1300048828125",
         "366.489990234375",
         "50.209999084472656",
         "104.36000061035156",
         "17.170000076293945",
         "123.87000274658205",
         "146.86000061035156",
         "117.97000122070312",
         "95.4800033569336",
         "312.3699951171875",
         "63.47999954223633",
         "106.1999969482422",
         "383.5299987792969",
         "71.62000274658203",
         "24.450000762939453",
         "176.52999877929688",
         "548.1199951171875",
         "227.5500030517578",
         "98.6999969482422"
        ]
       ],
       "shape": {
        "columns": 49,
        "rows": 5
       }
      },
      "text/html": [
       "<div>\n",
       "<style scoped>\n",
       "    .dataframe tbody tr th:only-of-type {\n",
       "        vertical-align: middle;\n",
       "    }\n",
       "\n",
       "    .dataframe tbody tr th {\n",
       "        vertical-align: top;\n",
       "    }\n",
       "\n",
       "    .dataframe thead th {\n",
       "        text-align: right;\n",
       "    }\n",
       "</style>\n",
       "<table border=\"1\" class=\"dataframe\">\n",
       "  <thead>\n",
       "    <tr style=\"text-align: right;\">\n",
       "      <th>Ticker</th>\n",
       "      <th>COST</th>\n",
       "      <th>NVDA</th>\n",
       "      <th>CRM</th>\n",
       "      <th>CL</th>\n",
       "      <th>AXP</th>\n",
       "      <th>PHG</th>\n",
       "      <th>MSFT</th>\n",
       "      <th>AMD</th>\n",
       "      <th>JPM</th>\n",
       "      <th>PG</th>\n",
       "      <th>...</th>\n",
       "      <th>MCD</th>\n",
       "      <th>NKE</th>\n",
       "      <th>CROX</th>\n",
       "      <th>ADBE</th>\n",
       "      <th>KO</th>\n",
       "      <th>JWN</th>\n",
       "      <th>TM</th>\n",
       "      <th>MA</th>\n",
       "      <th>HLT</th>\n",
       "      <th>DIS</th>\n",
       "    </tr>\n",
       "    <tr>\n",
       "      <th>Date</th>\n",
       "      <th></th>\n",
       "      <th></th>\n",
       "      <th></th>\n",
       "      <th></th>\n",
       "      <th></th>\n",
       "      <th></th>\n",
       "      <th></th>\n",
       "      <th></th>\n",
       "      <th></th>\n",
       "      <th></th>\n",
       "      <th></th>\n",
       "      <th></th>\n",
       "      <th></th>\n",
       "      <th></th>\n",
       "      <th></th>\n",
       "      <th></th>\n",
       "      <th></th>\n",
       "      <th></th>\n",
       "      <th></th>\n",
       "      <th></th>\n",
       "      <th></th>\n",
       "    </tr>\n",
       "  </thead>\n",
       "  <tbody>\n",
       "    <tr>\n",
       "      <th>2025-03-25</th>\n",
       "      <td>930.260010</td>\n",
       "      <td>120.690002</td>\n",
       "      <td>288.609985</td>\n",
       "      <td>89.589996</td>\n",
       "      <td>279.279999</td>\n",
       "      <td>25.469999</td>\n",
       "      <td>395.160004</td>\n",
       "      <td>114.809998</td>\n",
       "      <td>251.130005</td>\n",
       "      <td>162.850006</td>\n",
       "      <td>...</td>\n",
       "      <td>306.920013</td>\n",
       "      <td>66.540001</td>\n",
       "      <td>112.589996</td>\n",
       "      <td>403.640015</td>\n",
       "      <td>68.809998</td>\n",
       "      <td>24.370001</td>\n",
       "      <td>193.009995</td>\n",
       "      <td>545.159973</td>\n",
       "      <td>234.669998</td>\n",
       "      <td>101.610001</td>\n",
       "    </tr>\n",
       "    <tr>\n",
       "      <th>2025-03-26</th>\n",
       "      <td>929.750000</td>\n",
       "      <td>113.760002</td>\n",
       "      <td>280.989990</td>\n",
       "      <td>92.029999</td>\n",
       "      <td>276.000000</td>\n",
       "      <td>25.139999</td>\n",
       "      <td>389.970001</td>\n",
       "      <td>110.190002</td>\n",
       "      <td>251.029999</td>\n",
       "      <td>166.580002</td>\n",
       "      <td>...</td>\n",
       "      <td>313.579987</td>\n",
       "      <td>65.739998</td>\n",
       "      <td>109.510002</td>\n",
       "      <td>397.809998</td>\n",
       "      <td>70.019997</td>\n",
       "      <td>24.430000</td>\n",
       "      <td>189.279999</td>\n",
       "      <td>549.070007</td>\n",
       "      <td>234.860001</td>\n",
       "      <td>100.779999</td>\n",
       "    </tr>\n",
       "    <tr>\n",
       "      <th>2025-03-27</th>\n",
       "      <td>938.750000</td>\n",
       "      <td>111.430000</td>\n",
       "      <td>277.809998</td>\n",
       "      <td>93.190002</td>\n",
       "      <td>272.019989</td>\n",
       "      <td>25.690001</td>\n",
       "      <td>390.579987</td>\n",
       "      <td>106.650002</td>\n",
       "      <td>248.119995</td>\n",
       "      <td>168.710007</td>\n",
       "      <td>...</td>\n",
       "      <td>312.690002</td>\n",
       "      <td>65.800003</td>\n",
       "      <td>110.589996</td>\n",
       "      <td>396.149994</td>\n",
       "      <td>70.739998</td>\n",
       "      <td>24.450001</td>\n",
       "      <td>183.979996</td>\n",
       "      <td>557.570007</td>\n",
       "      <td>232.050003</td>\n",
       "      <td>100.449997</td>\n",
       "    </tr>\n",
       "    <tr>\n",
       "      <th>2025-03-28</th>\n",
       "      <td>929.659973</td>\n",
       "      <td>109.669998</td>\n",
       "      <td>269.970001</td>\n",
       "      <td>92.820000</td>\n",
       "      <td>265.480011</td>\n",
       "      <td>25.639999</td>\n",
       "      <td>378.799988</td>\n",
       "      <td>103.220001</td>\n",
       "      <td>242.850006</td>\n",
       "      <td>168.029999</td>\n",
       "      <td>...</td>\n",
       "      <td>307.089996</td>\n",
       "      <td>63.290001</td>\n",
       "      <td>105.989998</td>\n",
       "      <td>385.709991</td>\n",
       "      <td>70.370003</td>\n",
       "      <td>24.459999</td>\n",
       "      <td>179.070007</td>\n",
       "      <td>540.609985</td>\n",
       "      <td>225.710007</td>\n",
       "      <td>98.070000</td>\n",
       "    </tr>\n",
       "    <tr>\n",
       "      <th>2025-03-31</th>\n",
       "      <td>945.780029</td>\n",
       "      <td>108.379997</td>\n",
       "      <td>268.359985</td>\n",
       "      <td>93.699997</td>\n",
       "      <td>269.049988</td>\n",
       "      <td>25.400000</td>\n",
       "      <td>375.390015</td>\n",
       "      <td>102.739998</td>\n",
       "      <td>245.300003</td>\n",
       "      <td>170.419998</td>\n",
       "      <td>...</td>\n",
       "      <td>312.369995</td>\n",
       "      <td>63.480000</td>\n",
       "      <td>106.199997</td>\n",
       "      <td>383.529999</td>\n",
       "      <td>71.620003</td>\n",
       "      <td>24.450001</td>\n",
       "      <td>176.529999</td>\n",
       "      <td>548.119995</td>\n",
       "      <td>227.550003</td>\n",
       "      <td>98.699997</td>\n",
       "    </tr>\n",
       "  </tbody>\n",
       "</table>\n",
       "<p>5 rows × 49 columns</p>\n",
       "</div>"
      ],
      "text/plain": [
       "Ticker            COST        NVDA         CRM         CL         AXP  \\\n",
       "Date                                                                    \n",
       "2025-03-25  930.260010  120.690002  288.609985  89.589996  279.279999   \n",
       "2025-03-26  929.750000  113.760002  280.989990  92.029999  276.000000   \n",
       "2025-03-27  938.750000  111.430000  277.809998  93.190002  272.019989   \n",
       "2025-03-28  929.659973  109.669998  269.970001  92.820000  265.480011   \n",
       "2025-03-31  945.780029  108.379997  268.359985  93.699997  269.049988   \n",
       "\n",
       "Ticker            PHG        MSFT         AMD         JPM          PG  ...  \\\n",
       "Date                                                                   ...   \n",
       "2025-03-25  25.469999  395.160004  114.809998  251.130005  162.850006  ...   \n",
       "2025-03-26  25.139999  389.970001  110.190002  251.029999  166.580002  ...   \n",
       "2025-03-27  25.690001  390.579987  106.650002  248.119995  168.710007  ...   \n",
       "2025-03-28  25.639999  378.799988  103.220001  242.850006  168.029999  ...   \n",
       "2025-03-31  25.400000  375.390015  102.739998  245.300003  170.419998  ...   \n",
       "\n",
       "Ticker             MCD        NKE        CROX        ADBE         KO  \\\n",
       "Date                                                                   \n",
       "2025-03-25  306.920013  66.540001  112.589996  403.640015  68.809998   \n",
       "2025-03-26  313.579987  65.739998  109.510002  397.809998  70.019997   \n",
       "2025-03-27  312.690002  65.800003  110.589996  396.149994  70.739998   \n",
       "2025-03-28  307.089996  63.290001  105.989998  385.709991  70.370003   \n",
       "2025-03-31  312.369995  63.480000  106.199997  383.529999  71.620003   \n",
       "\n",
       "Ticker            JWN          TM          MA         HLT         DIS  \n",
       "Date                                                                   \n",
       "2025-03-25  24.370001  193.009995  545.159973  234.669998  101.610001  \n",
       "2025-03-26  24.430000  189.279999  549.070007  234.860001  100.779999  \n",
       "2025-03-27  24.450001  183.979996  557.570007  232.050003  100.449997  \n",
       "2025-03-28  24.459999  179.070007  540.609985  225.710007   98.070000  \n",
       "2025-03-31  24.450001  176.529999  548.119995  227.550003   98.699997  \n",
       "\n",
       "[5 rows x 49 columns]"
      ]
     },
     "execution_count": 69,
     "metadata": {},
     "output_type": "execute_result"
    }
   ],
   "source": [
    "stock_df.tail()"
   ]
  },
  {
   "cell_type": "markdown",
   "id": "4b7413e6",
   "metadata": {},
   "source": [
    "### Creating training data"
   ]
  },
  {
   "cell_type": "markdown",
   "id": "3a9d9dc2",
   "metadata": {},
   "source": [
    "Generating random portofolios"
   ]
  },
  {
   "cell_type": "code",
   "execution_count": 70,
   "id": "d684191f",
   "metadata": {},
   "outputs": [],
   "source": [
    "def generate_random_portfolio(\n",
    "    tickers,\n",
    "    min_stocks=1,\n",
    "    max_stocks=10,\n",
    "):\n",
    "    \"\"\"Generate a random portfolio with stock tickers, weights, investment amount, and time horizon.\"\"\"\n",
    "\n",
    "   \n",
    "    stocks_count = random.randint(min_stocks, max_stocks) \n",
    "  \n",
    "    # Select random stocks from the list\n",
    "    stocks_list = random.sample(tickers, stocks_count)\n",
    "\n",
    "    # Generate random weights that sum to 1\n",
    "    raw_weights = np.random.uniform(0.1, 1.0, stocks_count)\n",
    "    stocks_weights = (raw_weights / np.sum(raw_weights)).tolist()\n",
    "    stocks_weights = [round(weight, 3) for weight in stocks_weights]\n",
    "\n",
    "    # Make sure weights sum to exactly 1\n",
    "    diff = 1 - sum(stocks_weights)\n",
    "    stocks_weights[0] += diff  # Add any rounding difference to the first weight\n",
    "\n",
    "   \n",
    "\n",
    "    # Create and return the portfolio dictionary\n",
    "    portfolio = {\n",
    "        \"stocks\": stocks_list,\n",
    "        \"weights\": stocks_weights,\n",
    "    }\n",
    "\n",
    "    return portfolio"
   ]
  },
  {
   "cell_type": "code",
   "execution_count": 71,
   "id": "e731902b",
   "metadata": {},
   "outputs": [],
   "source": [
    "portofolios = []\n",
    "for i in range(120):\n",
    "    portfolio = generate_random_portfolio(tickers, 1, 10)\n",
    "    portofolios.append(portfolio)\n"
   ]
  },
  {
   "cell_type": "markdown",
   "id": "73118bb0",
   "metadata": {},
   "source": [
    "Preparing the data before feeding it into the LSTM"
   ]
  },
  {
   "cell_type": "code",
   "execution_count": 72,
   "id": "f57f1932",
   "metadata": {},
   "outputs": [],
   "source": [
    "def get_portofolio_returns(portofolio):\n",
    "    \"\"\"Calculate the returns of a portfolio based on its weights and stock prices.\"\"\"\n",
    "\n",
    "    # Get the stock prices for the selected stocks\n",
    "    stock_prices = stock_df[portofolio['stocks']]\n",
    "\n",
    "    # Calculate daily returns\n",
    "    daily_returns = stock_prices.pct_change().dropna()\n",
    "\n",
    "    # Calculate weighted returns\n",
    "    weighted_returns = daily_returns.dot(portofolio['weights'])\n",
    "\n",
    "    return weighted_returns"
   ]
  },
  {
   "cell_type": "code",
   "execution_count": 73,
   "id": "a91616a4",
   "metadata": {},
   "outputs": [],
   "source": [
    "def create_lstm_dataset(data, lookback=30):\n",
    "    \"\"\"\n",
    "    Transforms a 1D Series or 2D DataFrame into sequences for LSTM input.\n",
    "\n",
    "    Parameters:\n",
    "        data (pd.Series or pd.DataFrame): Time series of returns or features.\n",
    "        lookback (int): Number of time steps to include in each input sequence.\n",
    "\n",
    "    Returns:\n",
    "        X (np.ndarray): Input sequences of shape (n_samples, lookback, n_features)\n",
    "        y (np.ndarray): Target values of shape (n_samples,)\n",
    "    \"\"\"\n",
    "    import numpy as np\n",
    "\n",
    "    if isinstance(data, pd.Series):\n",
    "        data = data.to_frame()\n",
    "\n",
    "    values = data.values\n",
    "    X, y = [], []\n",
    "\n",
    "    for i in range(len(values) - lookback):\n",
    "        X.append(values[i:i+lookback])\n",
    "        y.append(values[i+lookback][0])  # predict the next time step (first column)\n",
    "\n",
    "    return np.array(X), np.array(y)\n"
   ]
  },
  {
   "cell_type": "code",
   "execution_count": 74,
   "id": "62d6ef6d",
   "metadata": {},
   "outputs": [],
   "source": [
    "X, Y = [], []\n",
    "for portfolio in portofolios:\n",
    "    weighted_returns = get_portofolio_returns(portfolio)\n",
    "    temp_x, temp_y = create_lstm_dataset(weighted_returns)\n",
    "    X.append(temp_x)\n",
    "    Y.append(temp_y)\n",
    "X = np.concatenate(X, axis=0)\n",
    "Y = np.concatenate(Y, axis=0)"
   ]
  },
  {
   "cell_type": "code",
   "execution_count": 75,
   "id": "d24651ff",
   "metadata": {},
   "outputs": [
    {
     "data": {
      "text/plain": [
       "((214680, 30, 1), (214680,))"
      ]
     },
     "execution_count": 75,
     "metadata": {},
     "output_type": "execute_result"
    }
   ],
   "source": [
    "X.shape, Y.shape"
   ]
  },
  {
   "cell_type": "code",
   "execution_count": 76,
   "id": "2e9eff2b",
   "metadata": {},
   "outputs": [],
   "source": [
    "\n",
    "x_train, x_test, y_train, y_test = train_test_split(\n",
    "    X, Y, test_size=0.2, shuffle=True, random_state=42\n",
    ")"
   ]
  },
  {
   "cell_type": "markdown",
   "id": "aa5c3b72",
   "metadata": {},
   "source": [
    "### LSTM"
   ]
  },
  {
   "cell_type": "code",
   "execution_count": 77,
   "id": "0ff9dd03",
   "metadata": {},
   "outputs": [],
   "source": [
    "# Define input parameters\n",
    "input_size = x_train.shape[2]  # Number of features\n",
    "hidden_layer_size = 50         # Number of units in the LSTM layer\n",
    "output_size = 1                # Output a single value (regression)\n",
    "\n",
    "# Initialize the model\n",
    "model = LSTMModel()\n",
    "\n",
    "# Define loss function and optimizer\n",
    "loss_function = nn.MSELoss()  # Mean Squared Error for regression\n",
    "optimizer = optim.Adam(model.parameters(), lr=0.001)"
   ]
  },
  {
   "cell_type": "code",
   "execution_count": 78,
   "id": "3caa10f9",
   "metadata": {},
   "outputs": [
    {
     "name": "stdout",
     "output_type": "stream",
     "text": [
      "Epoch 1/10, RMSE Train: 0.0217, RMSE Val: 0.0166\n",
      "Epoch 2/10, RMSE Train: 0.0160, RMSE Val: 0.0167\n",
      "Epoch 3/10, RMSE Train: 0.0149, RMSE Val: 0.0166\n",
      "Epoch 4/10, RMSE Train: 0.0202, RMSE Val: 0.0166\n",
      "Epoch 5/10, RMSE Train: 0.0131, RMSE Val: 0.0164\n",
      "Epoch 6/10, RMSE Train: 0.0080, RMSE Val: 0.0163\n",
      "Epoch 7/10, RMSE Train: 0.0173, RMSE Val: 0.0163\n",
      "Epoch 8/10, RMSE Train: 0.0154, RMSE Val: 0.0162\n",
      "Epoch 9/10, RMSE Train: 0.0163, RMSE Val: 0.0160\n",
      "Epoch 10/10, RMSE Train: 0.0162, RMSE Val: 0.0160\n"
     ]
    }
   ],
   "source": [
    "# Convert data to PyTorch tensors\n",
    "X_train_tensor = torch.tensor(x_train, dtype=torch.float32)\n",
    "y_train_tensor = torch.tensor(y_train, dtype=torch.float32)\n",
    "X_val_tensor = torch.tensor(x_test, dtype=torch.float32)\n",
    "y_val_tensor = torch.tensor(y_test, dtype=torch.float32)\n",
    "\n",
    "# Training loop\n",
    "epochs = 10\n",
    "batch_size = 64\n",
    "\n",
    "for epoch in range(epochs):\n",
    "    model.train()\n",
    "    \n",
    "    # Shuffle the training data\n",
    "    permutation = torch.randperm(X_train_tensor.size(0))\n",
    "    for i in range(0, X_train_tensor.size(0), batch_size):\n",
    "        indices = permutation[i:i + batch_size]\n",
    "        batch_x, batch_y = X_train_tensor[indices], y_train_tensor[indices]\n",
    "\n",
    "        optimizer.zero_grad()\n",
    "        predictions = model(batch_x)\n",
    "        loss = loss_function(predictions, batch_y.unsqueeze(1))\n",
    "        loss.backward()\n",
    "        optimizer.step()\n",
    "\n",
    "    # Validation after epoch\n",
    "    model.eval()\n",
    "    with torch.no_grad():\n",
    "        val_predictions = model(X_val_tensor)\n",
    "        val_loss = loss_function(val_predictions, y_val_tensor.unsqueeze(1))\n",
    "        rmse_train = torch.sqrt(loss)\n",
    "        rmse_val = torch.sqrt(val_loss)\n",
    "\n",
    "    print(f\"Epoch {epoch+1}/{epochs}, RMSE Train: {rmse_train.item():.4f}, RMSE Val: {rmse_val.item():.4f}\")\n",
    "\n"
   ]
  },
  {
   "cell_type": "markdown",
   "id": "8a2afc52",
   "metadata": {},
   "source": [
    "lookback_period=20  RMSE Val: 0.0174  \n",
    "lookback_period=30  RMSE Val: 0.0160  \n",
    "lookback_period=50  RMSE Val: 0.0172"
   ]
  },
  {
   "cell_type": "code",
   "execution_count": 79,
   "id": "150c182b",
   "metadata": {},
   "outputs": [],
   "source": [
    "torch.save(model.state_dict(), 'model/lstm_model.pth')"
   ]
  },
  {
   "cell_type": "code",
   "execution_count": null,
   "id": "c9bc7108",
   "metadata": {},
   "outputs": [],
   "source": []
  }
 ],
 "metadata": {
  "kernelspec": {
   "display_name": "Python 3",
   "language": "python",
   "name": "python3"
  },
  "language_info": {
   "codemirror_mode": {
    "name": "ipython",
    "version": 3
   },
   "file_extension": ".py",
   "mimetype": "text/x-python",
   "name": "python",
   "nbconvert_exporter": "python",
   "pygments_lexer": "ipython3",
   "version": "3.13.2"
  }
 },
 "nbformat": 4,
 "nbformat_minor": 5
}
