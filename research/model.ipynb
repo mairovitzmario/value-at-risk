{
 "cells": [
  {
   "cell_type": "markdown",
   "id": "96ab3e0c",
   "metadata": {},
   "source": [
    "# Model development"
   ]
  },
  {
   "cell_type": "markdown",
   "id": "c88f6765",
   "metadata": {},
   "source": [
    "In this notebook we developed the return prediction model, using an LSTM-based neural network."
   ]
  },
  {
   "cell_type": "markdown",
   "id": "3d7b11c8",
   "metadata": {},
   "source": [
    "### Imports"
   ]
  },
  {
   "cell_type": "code",
   "execution_count": 1,
   "id": "7741178c",
   "metadata": {},
   "outputs": [],
   "source": [
    "import pandas as pd\n",
    "import datetime as dt\n",
    "import random\n",
    "import numpy as np\n",
    "import torch.optim as optim\n",
    "import torch.optim.lr_scheduler as lr_scheduler\n",
    "import torch\n",
    "import torch.nn as nn\n",
    "from sklearn.model_selection import train_test_split\n"
   ]
  },
  {
   "cell_type": "markdown",
   "id": "63f49ffd",
   "metadata": {},
   "source": [
    "Enabling CUDA, for training the model on the GPU"
   ]
  },
  {
   "cell_type": "code",
   "execution_count": 2,
   "id": "7b7d002b",
   "metadata": {},
   "outputs": [
    {
     "name": "stdout",
     "output_type": "stream",
     "text": [
      "CUDA available: True\n",
      "GPU name: NVIDIA GeForce RTX 3050 Laptop GPU\n"
     ]
    }
   ],
   "source": [
    "print(\"CUDA available:\", torch.cuda.is_available())\n",
    "print(\"GPU name:\", torch.cuda.get_device_name(0))"
   ]
  },
  {
   "cell_type": "code",
   "execution_count": 3,
   "id": "e2f7bc73",
   "metadata": {},
   "outputs": [],
   "source": [
    "device = torch.device(\"cuda\" if torch.cuda.is_available() else \"cpu\")"
   ]
  },
  {
   "cell_type": "code",
   "execution_count": 4,
   "id": "79f704e4",
   "metadata": {},
   "outputs": [
    {
     "data": {
      "text/plain": [
       "device(type='cuda')"
      ]
     },
     "execution_count": 4,
     "metadata": {},
     "output_type": "execute_result"
    }
   ],
   "source": [
    "device"
   ]
  },
  {
   "cell_type": "markdown",
   "id": "c2bed2de",
   "metadata": {},
   "source": [
    "### Reading and converting the dataframe"
   ]
  },
  {
   "cell_type": "code",
   "execution_count": 5,
   "id": "20704c11",
   "metadata": {},
   "outputs": [],
   "source": [
    "df = pd.read_csv('data/stock_data.csv')"
   ]
  },
  {
   "cell_type": "markdown",
   "id": "6f9f316f",
   "metadata": {},
   "source": [
    "Converting dataframe to a multi-column yfinance-like df"
   ]
  },
  {
   "cell_type": "code",
   "execution_count": null,
   "id": "ef5551a2",
   "metadata": {},
   "outputs": [],
   "source": [
    "def convert_csv_df_to_yf_df(csv_df):\n",
    "    \"\"\"Convert a CSV DataFrame to a format similar to Yahoo Finance DataFrame.\n",
    "    The CSV DataFrame should have 'Date', 'Ticker', 'Open', 'High', 'Low', 'Close', and 'Volume' columns.\n",
    "    \"\"\"    \n",
    "\n",
    "\n",
    "    csv_df['Date'] = pd.to_datetime(csv_df['Date'])\n",
    "\n",
    "\n",
    "    price_cols = ['Open', 'High', 'Low', 'Close', 'Volume']\n",
    "\n",
    "   \n",
    "    multi_df = csv_df.pivot_table(index='Date', columns='Ticker', values=price_cols)\n",
    "\n",
    "    multi_df = multi_df.sort_index(axis=1)\n",
    "\n",
    "    multi_df.columns.names = ['Price', 'Ticker']\n",
    "\n",
    "    return multi_df\n"
   ]
  },
  {
   "cell_type": "code",
   "execution_count": 7,
   "id": "d0cb6246",
   "metadata": {},
   "outputs": [
    {
     "name": "stderr",
     "output_type": "stream",
     "text": [
      "C:\\Users\\mario\\AppData\\Local\\Temp\\ipykernel_26888\\132587994.py:7: FutureWarning: In a future version of pandas, parsing datetimes with mixed time zones will raise an error unless `utc=True`. Please specify `utc=True` to opt in to the new behaviour and silence this warning. To create a `Series` with mixed offsets and `object` dtype, please use `apply` and `datetime.datetime.strptime`\n",
      "  csv_df['Date'] = pd.to_datetime(csv_df['Date'])\n"
     ]
    }
   ],
   "source": [
    "df = convert_csv_df_to_yf_df(df)\n",
    "df = df['Close']"
   ]
  },
  {
   "cell_type": "markdown",
   "id": "a29592bc",
   "metadata": {},
   "source": [
    "Only keeping certain stocks"
   ]
  },
  {
   "cell_type": "code",
   "execution_count": 8,
   "id": "d4d4f43f",
   "metadata": {},
   "outputs": [],
   "source": [
    "with open('data/stock_tickers.txt', 'r') as f:\n",
    "    tickers = f.read().splitlines()\n",
    "tickers = [ticker.replace('\\n', '') for ticker in tickers]\n",
    "\n",
    "df = df[[col for col in tickers if col in df.columns]]"
   ]
  },
  {
   "cell_type": "code",
   "execution_count": 9,
   "id": "6963e5a5",
   "metadata": {},
   "outputs": [
    {
     "data": {
      "application/vnd.microsoft.datawrangler.viewer.v0+json": {
       "columns": [
        {
         "name": "Date",
         "rawType": "object",
         "type": "unknown"
        },
        {
         "name": "COST",
         "rawType": "float64",
         "type": "float"
        },
        {
         "name": "NVDA",
         "rawType": "float64",
         "type": "float"
        },
        {
         "name": "CRM",
         "rawType": "float64",
         "type": "float"
        },
        {
         "name": "CL",
         "rawType": "float64",
         "type": "float"
        },
        {
         "name": "AXP",
         "rawType": "float64",
         "type": "float"
        },
        {
         "name": "PHG",
         "rawType": "float64",
         "type": "float"
        },
        {
         "name": "MSFT",
         "rawType": "float64",
         "type": "float"
        },
        {
         "name": "AMD",
         "rawType": "float64",
         "type": "float"
        },
        {
         "name": "JPM",
         "rawType": "float64",
         "type": "float"
        },
        {
         "name": "PG",
         "rawType": "float64",
         "type": "float"
        },
        {
         "name": "GOOGL",
         "rawType": "float64",
         "type": "float"
        },
        {
         "name": "LOGI",
         "rawType": "float64",
         "type": "float"
        },
        {
         "name": "DAL",
         "rawType": "float64",
         "type": "float"
        },
        {
         "name": "UBSFY",
         "rawType": "float64",
         "type": "float"
        },
        {
         "name": "AMZN",
         "rawType": "float64",
         "type": "float"
        },
        {
         "name": "UL",
         "rawType": "float64",
         "type": "float"
        },
        {
         "name": "JNJ",
         "rawType": "float64",
         "type": "float"
        },
        {
         "name": "HSY",
         "rawType": "float64",
         "type": "float"
        },
        {
         "name": "FDX",
         "rawType": "float64",
         "type": "float"
        },
        {
         "name": "AEO",
         "rawType": "float64",
         "type": "float"
        },
        {
         "name": "SBUX",
         "rawType": "float64",
         "type": "float"
        },
        {
         "name": "V",
         "rawType": "float64",
         "type": "float"
        },
        {
         "name": "MAR",
         "rawType": "float64",
         "type": "float"
        },
        {
         "name": "FL",
         "rawType": "float64",
         "type": "float"
        },
        {
         "name": "CSCO",
         "rawType": "float64",
         "type": "float"
        },
        {
         "name": "TSLA",
         "rawType": "float64",
         "type": "float"
        },
        {
         "name": "NFLX",
         "rawType": "float64",
         "type": "float"
        },
        {
         "name": "HMC",
         "rawType": "float64",
         "type": "float"
        },
        {
         "name": "LUV",
         "rawType": "float64",
         "type": "float"
        },
        {
         "name": "POAHY",
         "rawType": "float64",
         "type": "float"
        },
        {
         "name": "AAPL",
         "rawType": "float64",
         "type": "float"
        },
        {
         "name": "HD",
         "rawType": "float64",
         "type": "float"
        },
        {
         "name": "CMG",
         "rawType": "float64",
         "type": "float"
        },
        {
         "name": "TGT",
         "rawType": "float64",
         "type": "float"
        },
        {
         "name": "NTDOY",
         "rawType": "float64",
         "type": "float"
        },
        {
         "name": "LVMUY",
         "rawType": "float64",
         "type": "float"
        },
        {
         "name": "MMM",
         "rawType": "float64",
         "type": "float"
        },
        {
         "name": "ADDYY",
         "rawType": "float64",
         "type": "float"
        },
        {
         "name": "MCD",
         "rawType": "float64",
         "type": "float"
        },
        {
         "name": "NKE",
         "rawType": "float64",
         "type": "float"
        },
        {
         "name": "CROX",
         "rawType": "float64",
         "type": "float"
        },
        {
         "name": "ADBE",
         "rawType": "float64",
         "type": "float"
        },
        {
         "name": "KO",
         "rawType": "float64",
         "type": "float"
        },
        {
         "name": "JWN",
         "rawType": "float64",
         "type": "float"
        },
        {
         "name": "TM",
         "rawType": "float64",
         "type": "float"
        },
        {
         "name": "MA",
         "rawType": "float64",
         "type": "float"
        },
        {
         "name": "HLT",
         "rawType": "float64",
         "type": "float"
        },
        {
         "name": "DIS",
         "rawType": "float64",
         "type": "float"
        }
       ],
       "ref": "344a8edf-ebd1-4563-8b95-ec4568b41517",
       "rows": [
        [
         "2000-01-03 00:00:00-05:00",
         "30.799129486083984",
         "0.8947288393974304",
         null,
         "18.733959197998047",
         "33.198848724365234",
         "19.158504486083984",
         "36.205604553222656",
         "15.5",
         "24.23975944519043",
         "28.6081771850586",
         null,
         "2.632929563522339",
         null,
         null,
         "4.46875",
         "7.472337245941162",
         "25.085430145263672",
         "13.58238410949707",
         "36.263858795166016",
         "5.482471466064453",
         "2.4377646446228027",
         null,
         "11.42856788635254",
         "3.957437038421631",
         "37.49692535400391",
         null,
         null,
         "13.720699310302734",
         "9.467610359191896",
         null,
         "0.8483229875564575",
         "40.083255767822266",
         null,
         "23.075401306152344",
         "3.990652322769165",
         null,
         "24.772855758666992",
         null,
         "22.18610000610352",
         "4.670586585998535",
         null,
         "16.274675369262695",
         "14.781797409057615",
         "7.168196201324463",
         "72.03495788574219",
         null,
         null,
         "23.115253448486328"
        ],
        [
         "2000-01-04 00:00:00-05:00",
         "29.11210060119629",
         "0.8708379864692688",
         null,
         "18.24492073059082",
         "31.9453182220459",
         "17.986570358276367",
         "34.98255157470703",
         "14.625",
         "23.70790100097656",
         "28.05769920349121",
         null,
         "2.785693883895874",
         null,
         null,
         "4.096875190734863",
         "7.363589763641357",
         "24.16706657409668",
         "13.069842338562012",
         "35.0498046875",
         "4.999640941619873",
         "2.360522747039795",
         null,
         "11.358309745788574",
         "3.886767864227295",
         "35.393280029296875",
         null,
         null,
         "13.448785781860352",
         "9.206693649291992",
         null,
         "0.7768008708953857",
         "37.96956634521485",
         null,
         "22.0747299194336",
         "3.753113031387329",
         null,
         "23.78849029541016",
         null,
         "21.731176376342773",
         "4.415827751159668",
         null,
         "14.909399032592772",
         "14.798185348510742",
         "6.889822959899902",
         "68.69741821289062",
         null,
         null,
         "24.469282150268555"
        ],
        [
         "2000-01-05 00:00:00-05:00",
         "29.60956764221192",
         "0.8421685695648193",
         null,
         "17.62421226501465",
         "31.133947372436523",
         "18.572540283203125",
         "35.351417541503906",
         "15.0",
         "23.561561584472656",
         "27.523902893066406",
         null,
         "2.89951753616333",
         null,
         null,
         "3.487499952316284",
         "7.674290180206299",
         "24.42217063903809",
         "13.124749183654783",
         "35.84158706665039",
         "5.377338409423828",
         "2.391420602798462",
         null,
         "11.545666694641112",
         "3.851433992385864",
         "35.284847259521484",
         null,
         null,
         "13.176864624023438",
         "9.16941738128662",
         null,
         "0.7881678938865662",
         "38.73818206787109",
         null,
         "21.574392318725582",
         "3.681851625442505",
         null,
         "24.477537155151367",
         null,
         "22.08111953735352",
         "4.670586585998535",
         null,
         "15.204172134399414",
         "14.92928981781006",
         "6.768032550811768",
         "68.97554779052734",
         null,
         null,
         "25.48481178283692"
        ],
        [
         "2000-01-06 00:00:00-05:00",
         "30.204360961914062",
         "0.7872183322906494",
         null,
         "17.586589813232422",
         "31.768239974975582",
         "17.39211654663086",
         "34.167198181152344",
         "16.0",
         "23.89606094360352",
         "28.79167556762696",
         null,
         "2.995369434356689",
         null,
         null,
         "3.278125047683716",
         "7.829638481140137",
         "25.187484741210938",
         "13.472546577453612",
         "39.906097412109375",
         "4.995747089385986",
         "2.47793197631836",
         null,
         "11.709595680236816",
         "3.922102451324463",
         "34.69929885864258",
         null,
         null,
         "12.497057914733888",
         "9.132144927978516",
         null,
         "0.7199613451957703",
         "36.893516540527344",
         null,
         "20.553714752197266",
         "3.6105902194976807",
         null,
         "26.44623565673828",
         null,
         "21.76616859436035",
         "4.64632511138916",
         null,
         "15.328289985656738",
         "14.945670127868652",
         "7.098604202270508",
         "62.85675048828125",
         null,
         null,
         "24.469282150268555"
        ],
        [
         "2000-01-07 00:00:00-05:00",
         "32.20500564575195",
         "0.8003586530685425",
         null,
         "18.639911651611328",
         "32.23074722290039",
         "18.51309585571289",
         "34.61371994018555",
         "16.25",
         "24.33509826660156",
         "31.093673706054688",
         null,
         "3.0912210941314697",
         null,
         null,
         "3.478125095367432",
         "8.264616966247559",
         "26.258930206298828",
         "13.509161949157717",
         "40.11724472045898",
         "5.108668327331543",
         "2.46557354927063",
         null,
         "12.03746509552002",
         "3.74543023109436",
         "36.73788070678711",
         null,
         null,
         "12.961588859558104",
         "9.467610359191896",
         null,
         "0.7540648579597473",
         "39.04565048217773",
         null,
         "21.614425659179688",
         "3.658097505569458",
         null,
         "26.9712142944336",
         null,
         "22.326080322265625",
         "4.64632511138916",
         null,
         "16.072986602783203",
         "15.928942680358888",
         "7.098604202270508",
         "63.78382873535156",
         null,
         null,
         "24.082416534423828"
        ]
       ],
       "shape": {
        "columns": 48,
        "rows": 5
       }
      },
      "text/html": [
       "<div>\n",
       "<style scoped>\n",
       "    .dataframe tbody tr th:only-of-type {\n",
       "        vertical-align: middle;\n",
       "    }\n",
       "\n",
       "    .dataframe tbody tr th {\n",
       "        vertical-align: top;\n",
       "    }\n",
       "\n",
       "    .dataframe thead th {\n",
       "        text-align: right;\n",
       "    }\n",
       "</style>\n",
       "<table border=\"1\" class=\"dataframe\">\n",
       "  <thead>\n",
       "    <tr style=\"text-align: right;\">\n",
       "      <th>Ticker</th>\n",
       "      <th>COST</th>\n",
       "      <th>NVDA</th>\n",
       "      <th>CRM</th>\n",
       "      <th>CL</th>\n",
       "      <th>AXP</th>\n",
       "      <th>PHG</th>\n",
       "      <th>MSFT</th>\n",
       "      <th>AMD</th>\n",
       "      <th>JPM</th>\n",
       "      <th>PG</th>\n",
       "      <th>...</th>\n",
       "      <th>MCD</th>\n",
       "      <th>NKE</th>\n",
       "      <th>CROX</th>\n",
       "      <th>ADBE</th>\n",
       "      <th>KO</th>\n",
       "      <th>JWN</th>\n",
       "      <th>TM</th>\n",
       "      <th>MA</th>\n",
       "      <th>HLT</th>\n",
       "      <th>DIS</th>\n",
       "    </tr>\n",
       "    <tr>\n",
       "      <th>Date</th>\n",
       "      <th></th>\n",
       "      <th></th>\n",
       "      <th></th>\n",
       "      <th></th>\n",
       "      <th></th>\n",
       "      <th></th>\n",
       "      <th></th>\n",
       "      <th></th>\n",
       "      <th></th>\n",
       "      <th></th>\n",
       "      <th></th>\n",
       "      <th></th>\n",
       "      <th></th>\n",
       "      <th></th>\n",
       "      <th></th>\n",
       "      <th></th>\n",
       "      <th></th>\n",
       "      <th></th>\n",
       "      <th></th>\n",
       "      <th></th>\n",
       "      <th></th>\n",
       "    </tr>\n",
       "  </thead>\n",
       "  <tbody>\n",
       "    <tr>\n",
       "      <th>2000-01-03 00:00:00-05:00</th>\n",
       "      <td>30.799129</td>\n",
       "      <td>0.894729</td>\n",
       "      <td>NaN</td>\n",
       "      <td>18.733959</td>\n",
       "      <td>33.198849</td>\n",
       "      <td>19.158504</td>\n",
       "      <td>36.205605</td>\n",
       "      <td>15.500</td>\n",
       "      <td>24.239759</td>\n",
       "      <td>28.608177</td>\n",
       "      <td>...</td>\n",
       "      <td>22.186100</td>\n",
       "      <td>4.670587</td>\n",
       "      <td>NaN</td>\n",
       "      <td>16.274675</td>\n",
       "      <td>14.781797</td>\n",
       "      <td>7.168196</td>\n",
       "      <td>72.034958</td>\n",
       "      <td>NaN</td>\n",
       "      <td>NaN</td>\n",
       "      <td>23.115253</td>\n",
       "    </tr>\n",
       "    <tr>\n",
       "      <th>2000-01-04 00:00:00-05:00</th>\n",
       "      <td>29.112101</td>\n",
       "      <td>0.870838</td>\n",
       "      <td>NaN</td>\n",
       "      <td>18.244921</td>\n",
       "      <td>31.945318</td>\n",
       "      <td>17.986570</td>\n",
       "      <td>34.982552</td>\n",
       "      <td>14.625</td>\n",
       "      <td>23.707901</td>\n",
       "      <td>28.057699</td>\n",
       "      <td>...</td>\n",
       "      <td>21.731176</td>\n",
       "      <td>4.415828</td>\n",
       "      <td>NaN</td>\n",
       "      <td>14.909399</td>\n",
       "      <td>14.798185</td>\n",
       "      <td>6.889823</td>\n",
       "      <td>68.697418</td>\n",
       "      <td>NaN</td>\n",
       "      <td>NaN</td>\n",
       "      <td>24.469282</td>\n",
       "    </tr>\n",
       "    <tr>\n",
       "      <th>2000-01-05 00:00:00-05:00</th>\n",
       "      <td>29.609568</td>\n",
       "      <td>0.842169</td>\n",
       "      <td>NaN</td>\n",
       "      <td>17.624212</td>\n",
       "      <td>31.133947</td>\n",
       "      <td>18.572540</td>\n",
       "      <td>35.351418</td>\n",
       "      <td>15.000</td>\n",
       "      <td>23.561562</td>\n",
       "      <td>27.523903</td>\n",
       "      <td>...</td>\n",
       "      <td>22.081120</td>\n",
       "      <td>4.670587</td>\n",
       "      <td>NaN</td>\n",
       "      <td>15.204172</td>\n",
       "      <td>14.929290</td>\n",
       "      <td>6.768033</td>\n",
       "      <td>68.975548</td>\n",
       "      <td>NaN</td>\n",
       "      <td>NaN</td>\n",
       "      <td>25.484812</td>\n",
       "    </tr>\n",
       "    <tr>\n",
       "      <th>2000-01-06 00:00:00-05:00</th>\n",
       "      <td>30.204361</td>\n",
       "      <td>0.787218</td>\n",
       "      <td>NaN</td>\n",
       "      <td>17.586590</td>\n",
       "      <td>31.768240</td>\n",
       "      <td>17.392117</td>\n",
       "      <td>34.167198</td>\n",
       "      <td>16.000</td>\n",
       "      <td>23.896061</td>\n",
       "      <td>28.791676</td>\n",
       "      <td>...</td>\n",
       "      <td>21.766169</td>\n",
       "      <td>4.646325</td>\n",
       "      <td>NaN</td>\n",
       "      <td>15.328290</td>\n",
       "      <td>14.945670</td>\n",
       "      <td>7.098604</td>\n",
       "      <td>62.856750</td>\n",
       "      <td>NaN</td>\n",
       "      <td>NaN</td>\n",
       "      <td>24.469282</td>\n",
       "    </tr>\n",
       "    <tr>\n",
       "      <th>2000-01-07 00:00:00-05:00</th>\n",
       "      <td>32.205006</td>\n",
       "      <td>0.800359</td>\n",
       "      <td>NaN</td>\n",
       "      <td>18.639912</td>\n",
       "      <td>32.230747</td>\n",
       "      <td>18.513096</td>\n",
       "      <td>34.613720</td>\n",
       "      <td>16.250</td>\n",
       "      <td>24.335098</td>\n",
       "      <td>31.093674</td>\n",
       "      <td>...</td>\n",
       "      <td>22.326080</td>\n",
       "      <td>4.646325</td>\n",
       "      <td>NaN</td>\n",
       "      <td>16.072987</td>\n",
       "      <td>15.928943</td>\n",
       "      <td>7.098604</td>\n",
       "      <td>63.783829</td>\n",
       "      <td>NaN</td>\n",
       "      <td>NaN</td>\n",
       "      <td>24.082417</td>\n",
       "    </tr>\n",
       "  </tbody>\n",
       "</table>\n",
       "<p>5 rows × 48 columns</p>\n",
       "</div>"
      ],
      "text/plain": [
       "Ticker                          COST      NVDA  CRM         CL        AXP  \\\n",
       "Date                                                                        \n",
       "2000-01-03 00:00:00-05:00  30.799129  0.894729  NaN  18.733959  33.198849   \n",
       "2000-01-04 00:00:00-05:00  29.112101  0.870838  NaN  18.244921  31.945318   \n",
       "2000-01-05 00:00:00-05:00  29.609568  0.842169  NaN  17.624212  31.133947   \n",
       "2000-01-06 00:00:00-05:00  30.204361  0.787218  NaN  17.586590  31.768240   \n",
       "2000-01-07 00:00:00-05:00  32.205006  0.800359  NaN  18.639912  32.230747   \n",
       "\n",
       "Ticker                           PHG       MSFT     AMD        JPM         PG  \\\n",
       "Date                                                                            \n",
       "2000-01-03 00:00:00-05:00  19.158504  36.205605  15.500  24.239759  28.608177   \n",
       "2000-01-04 00:00:00-05:00  17.986570  34.982552  14.625  23.707901  28.057699   \n",
       "2000-01-05 00:00:00-05:00  18.572540  35.351418  15.000  23.561562  27.523903   \n",
       "2000-01-06 00:00:00-05:00  17.392117  34.167198  16.000  23.896061  28.791676   \n",
       "2000-01-07 00:00:00-05:00  18.513096  34.613720  16.250  24.335098  31.093674   \n",
       "\n",
       "Ticker                     ...        MCD       NKE  CROX       ADBE  \\\n",
       "Date                       ...                                         \n",
       "2000-01-03 00:00:00-05:00  ...  22.186100  4.670587   NaN  16.274675   \n",
       "2000-01-04 00:00:00-05:00  ...  21.731176  4.415828   NaN  14.909399   \n",
       "2000-01-05 00:00:00-05:00  ...  22.081120  4.670587   NaN  15.204172   \n",
       "2000-01-06 00:00:00-05:00  ...  21.766169  4.646325   NaN  15.328290   \n",
       "2000-01-07 00:00:00-05:00  ...  22.326080  4.646325   NaN  16.072987   \n",
       "\n",
       "Ticker                            KO       JWN         TM  MA  HLT        DIS  \n",
       "Date                                                                           \n",
       "2000-01-03 00:00:00-05:00  14.781797  7.168196  72.034958 NaN  NaN  23.115253  \n",
       "2000-01-04 00:00:00-05:00  14.798185  6.889823  68.697418 NaN  NaN  24.469282  \n",
       "2000-01-05 00:00:00-05:00  14.929290  6.768033  68.975548 NaN  NaN  25.484812  \n",
       "2000-01-06 00:00:00-05:00  14.945670  7.098604  62.856750 NaN  NaN  24.469282  \n",
       "2000-01-07 00:00:00-05:00  15.928943  7.098604  63.783829 NaN  NaN  24.082417  \n",
       "\n",
       "[5 rows x 48 columns]"
      ]
     },
     "execution_count": 9,
     "metadata": {},
     "output_type": "execute_result"
    }
   ],
   "source": [
    "df.head()"
   ]
  },
  {
   "cell_type": "markdown",
   "id": "74f72b8c",
   "metadata": {},
   "source": [
    "Cutting off dates that are too old (when certain stocks weren't listed yet)"
   ]
  },
  {
   "cell_type": "code",
   "execution_count": 10,
   "id": "d61240f0",
   "metadata": {},
   "outputs": [],
   "source": [
    "df.index = pd.to_datetime(df.index, utc=True).tz_convert(None)\n",
    "df.index = df.index.normalize()\n"
   ]
  },
  {
   "cell_type": "code",
   "execution_count": 11,
   "id": "47278a9c",
   "metadata": {},
   "outputs": [],
   "source": [
    "start_date = dt.datetime(2014, 1, 1)\n",
    "end_date = dt.datetime(2023, 1, 1)"
   ]
  },
  {
   "cell_type": "code",
   "execution_count": 12,
   "id": "467dc255",
   "metadata": {},
   "outputs": [],
   "source": [
    "stock_df = df.loc[start_date:end_date]"
   ]
  },
  {
   "cell_type": "code",
   "execution_count": 13,
   "id": "28a415e4",
   "metadata": {},
   "outputs": [
    {
     "data": {
      "application/vnd.microsoft.datawrangler.viewer.v0+json": {
       "columns": [
        {
         "name": "Ticker",
         "rawType": "object",
         "type": "string"
        },
        {
         "name": "0",
         "rawType": "int64",
         "type": "integer"
        }
       ],
       "ref": "8a731423-da25-4a65-83bb-db821fe192c0",
       "rows": [
        [
         "COST",
         "0"
        ],
        [
         "NVDA",
         "0"
        ],
        [
         "CRM",
         "0"
        ],
        [
         "CL",
         "0"
        ],
        [
         "AXP",
         "0"
        ],
        [
         "PHG",
         "0"
        ],
        [
         "MSFT",
         "0"
        ],
        [
         "AMD",
         "0"
        ],
        [
         "JPM",
         "0"
        ],
        [
         "PG",
         "0"
        ],
        [
         "GOOGL",
         "0"
        ],
        [
         "LOGI",
         "0"
        ],
        [
         "DAL",
         "0"
        ],
        [
         "UBSFY",
         "0"
        ],
        [
         "AMZN",
         "0"
        ],
        [
         "UL",
         "0"
        ],
        [
         "JNJ",
         "0"
        ],
        [
         "HSY",
         "0"
        ],
        [
         "FDX",
         "0"
        ],
        [
         "AEO",
         "0"
        ],
        [
         "SBUX",
         "0"
        ],
        [
         "V",
         "0"
        ],
        [
         "MAR",
         "0"
        ],
        [
         "FL",
         "0"
        ],
        [
         "CSCO",
         "0"
        ],
        [
         "TSLA",
         "0"
        ],
        [
         "NFLX",
         "0"
        ],
        [
         "HMC",
         "0"
        ],
        [
         "LUV",
         "0"
        ],
        [
         "POAHY",
         "0"
        ],
        [
         "AAPL",
         "0"
        ],
        [
         "HD",
         "0"
        ],
        [
         "CMG",
         "0"
        ],
        [
         "TGT",
         "0"
        ],
        [
         "NTDOY",
         "0"
        ],
        [
         "LVMUY",
         "0"
        ],
        [
         "MMM",
         "0"
        ],
        [
         "ADDYY",
         "0"
        ],
        [
         "MCD",
         "0"
        ],
        [
         "NKE",
         "0"
        ],
        [
         "CROX",
         "0"
        ],
        [
         "ADBE",
         "0"
        ],
        [
         "KO",
         "0"
        ],
        [
         "JWN",
         "0"
        ],
        [
         "TM",
         "0"
        ],
        [
         "MA",
         "0"
        ],
        [
         "HLT",
         "0"
        ],
        [
         "DIS",
         "0"
        ]
       ],
       "shape": {
        "columns": 1,
        "rows": 48
       }
      },
      "text/plain": [
       "Ticker\n",
       "COST     0\n",
       "NVDA     0\n",
       "CRM      0\n",
       "CL       0\n",
       "AXP      0\n",
       "PHG      0\n",
       "MSFT     0\n",
       "AMD      0\n",
       "JPM      0\n",
       "PG       0\n",
       "GOOGL    0\n",
       "LOGI     0\n",
       "DAL      0\n",
       "UBSFY    0\n",
       "AMZN     0\n",
       "UL       0\n",
       "JNJ      0\n",
       "HSY      0\n",
       "FDX      0\n",
       "AEO      0\n",
       "SBUX     0\n",
       "V        0\n",
       "MAR      0\n",
       "FL       0\n",
       "CSCO     0\n",
       "TSLA     0\n",
       "NFLX     0\n",
       "HMC      0\n",
       "LUV      0\n",
       "POAHY    0\n",
       "AAPL     0\n",
       "HD       0\n",
       "CMG      0\n",
       "TGT      0\n",
       "NTDOY    0\n",
       "LVMUY    0\n",
       "MMM      0\n",
       "ADDYY    0\n",
       "MCD      0\n",
       "NKE      0\n",
       "CROX     0\n",
       "ADBE     0\n",
       "KO       0\n",
       "JWN      0\n",
       "TM       0\n",
       "MA       0\n",
       "HLT      0\n",
       "DIS      0\n",
       "dtype: int64"
      ]
     },
     "execution_count": 13,
     "metadata": {},
     "output_type": "execute_result"
    }
   ],
   "source": [
    "stock_df.isnull().sum()"
   ]
  },
  {
   "cell_type": "code",
   "execution_count": 14,
   "id": "46d191f7",
   "metadata": {},
   "outputs": [
    {
     "name": "stdout",
     "output_type": "stream",
     "text": [
      "<class 'pandas.core.frame.DataFrame'>\n",
      "DatetimeIndex: 2266 entries, 2014-01-02 to 2022-12-30\n",
      "Data columns (total 48 columns):\n",
      " #   Column  Non-Null Count  Dtype  \n",
      "---  ------  --------------  -----  \n",
      " 0   COST    2266 non-null   float64\n",
      " 1   NVDA    2266 non-null   float64\n",
      " 2   CRM     2266 non-null   float64\n",
      " 3   CL      2266 non-null   float64\n",
      " 4   AXP     2266 non-null   float64\n",
      " 5   PHG     2266 non-null   float64\n",
      " 6   MSFT    2266 non-null   float64\n",
      " 7   AMD     2266 non-null   float64\n",
      " 8   JPM     2266 non-null   float64\n",
      " 9   PG      2266 non-null   float64\n",
      " 10  GOOGL   2266 non-null   float64\n",
      " 11  LOGI    2266 non-null   float64\n",
      " 12  DAL     2266 non-null   float64\n",
      " 13  UBSFY   2266 non-null   float64\n",
      " 14  AMZN    2266 non-null   float64\n",
      " 15  UL      2266 non-null   float64\n",
      " 16  JNJ     2266 non-null   float64\n",
      " 17  HSY     2266 non-null   float64\n",
      " 18  FDX     2266 non-null   float64\n",
      " 19  AEO     2266 non-null   float64\n",
      " 20  SBUX    2266 non-null   float64\n",
      " 21  V       2266 non-null   float64\n",
      " 22  MAR     2266 non-null   float64\n",
      " 23  FL      2266 non-null   float64\n",
      " 24  CSCO    2266 non-null   float64\n",
      " 25  TSLA    2266 non-null   float64\n",
      " 26  NFLX    2266 non-null   float64\n",
      " 27  HMC     2266 non-null   float64\n",
      " 28  LUV     2266 non-null   float64\n",
      " 29  POAHY   2266 non-null   float64\n",
      " 30  AAPL    2266 non-null   float64\n",
      " 31  HD      2266 non-null   float64\n",
      " 32  CMG     2266 non-null   float64\n",
      " 33  TGT     2266 non-null   float64\n",
      " 34  NTDOY   2266 non-null   float64\n",
      " 35  LVMUY   2266 non-null   float64\n",
      " 36  MMM     2266 non-null   float64\n",
      " 37  ADDYY   2266 non-null   float64\n",
      " 38  MCD     2266 non-null   float64\n",
      " 39  NKE     2266 non-null   float64\n",
      " 40  CROX    2266 non-null   float64\n",
      " 41  ADBE    2266 non-null   float64\n",
      " 42  KO      2266 non-null   float64\n",
      " 43  JWN     2266 non-null   float64\n",
      " 44  TM      2266 non-null   float64\n",
      " 45  MA      2266 non-null   float64\n",
      " 46  HLT     2266 non-null   float64\n",
      " 47  DIS     2266 non-null   float64\n",
      "dtypes: float64(48)\n",
      "memory usage: 867.5 KB\n"
     ]
    }
   ],
   "source": [
    "stock_df.info()"
   ]
  },
  {
   "cell_type": "code",
   "execution_count": 15,
   "id": "303372f1",
   "metadata": {},
   "outputs": [
    {
     "data": {
      "application/vnd.microsoft.datawrangler.viewer.v0+json": {
       "columns": [
        {
         "name": "Date",
         "rawType": "datetime64[ns]",
         "type": "datetime"
        },
        {
         "name": "COST",
         "rawType": "float64",
         "type": "float"
        },
        {
         "name": "NVDA",
         "rawType": "float64",
         "type": "float"
        },
        {
         "name": "CRM",
         "rawType": "float64",
         "type": "float"
        },
        {
         "name": "CL",
         "rawType": "float64",
         "type": "float"
        },
        {
         "name": "AXP",
         "rawType": "float64",
         "type": "float"
        },
        {
         "name": "PHG",
         "rawType": "float64",
         "type": "float"
        },
        {
         "name": "MSFT",
         "rawType": "float64",
         "type": "float"
        },
        {
         "name": "AMD",
         "rawType": "float64",
         "type": "float"
        },
        {
         "name": "JPM",
         "rawType": "float64",
         "type": "float"
        },
        {
         "name": "PG",
         "rawType": "float64",
         "type": "float"
        },
        {
         "name": "GOOGL",
         "rawType": "float64",
         "type": "float"
        },
        {
         "name": "LOGI",
         "rawType": "float64",
         "type": "float"
        },
        {
         "name": "DAL",
         "rawType": "float64",
         "type": "float"
        },
        {
         "name": "UBSFY",
         "rawType": "float64",
         "type": "float"
        },
        {
         "name": "AMZN",
         "rawType": "float64",
         "type": "float"
        },
        {
         "name": "UL",
         "rawType": "float64",
         "type": "float"
        },
        {
         "name": "JNJ",
         "rawType": "float64",
         "type": "float"
        },
        {
         "name": "HSY",
         "rawType": "float64",
         "type": "float"
        },
        {
         "name": "FDX",
         "rawType": "float64",
         "type": "float"
        },
        {
         "name": "AEO",
         "rawType": "float64",
         "type": "float"
        },
        {
         "name": "SBUX",
         "rawType": "float64",
         "type": "float"
        },
        {
         "name": "V",
         "rawType": "float64",
         "type": "float"
        },
        {
         "name": "MAR",
         "rawType": "float64",
         "type": "float"
        },
        {
         "name": "FL",
         "rawType": "float64",
         "type": "float"
        },
        {
         "name": "CSCO",
         "rawType": "float64",
         "type": "float"
        },
        {
         "name": "TSLA",
         "rawType": "float64",
         "type": "float"
        },
        {
         "name": "NFLX",
         "rawType": "float64",
         "type": "float"
        },
        {
         "name": "HMC",
         "rawType": "float64",
         "type": "float"
        },
        {
         "name": "LUV",
         "rawType": "float64",
         "type": "float"
        },
        {
         "name": "POAHY",
         "rawType": "float64",
         "type": "float"
        },
        {
         "name": "AAPL",
         "rawType": "float64",
         "type": "float"
        },
        {
         "name": "HD",
         "rawType": "float64",
         "type": "float"
        },
        {
         "name": "CMG",
         "rawType": "float64",
         "type": "float"
        },
        {
         "name": "TGT",
         "rawType": "float64",
         "type": "float"
        },
        {
         "name": "NTDOY",
         "rawType": "float64",
         "type": "float"
        },
        {
         "name": "LVMUY",
         "rawType": "float64",
         "type": "float"
        },
        {
         "name": "MMM",
         "rawType": "float64",
         "type": "float"
        },
        {
         "name": "ADDYY",
         "rawType": "float64",
         "type": "float"
        },
        {
         "name": "MCD",
         "rawType": "float64",
         "type": "float"
        },
        {
         "name": "NKE",
         "rawType": "float64",
         "type": "float"
        },
        {
         "name": "CROX",
         "rawType": "float64",
         "type": "float"
        },
        {
         "name": "ADBE",
         "rawType": "float64",
         "type": "float"
        },
        {
         "name": "KO",
         "rawType": "float64",
         "type": "float"
        },
        {
         "name": "JWN",
         "rawType": "float64",
         "type": "float"
        },
        {
         "name": "TM",
         "rawType": "float64",
         "type": "float"
        },
        {
         "name": "MA",
         "rawType": "float64",
         "type": "float"
        },
        {
         "name": "HLT",
         "rawType": "float64",
         "type": "float"
        },
        {
         "name": "DIS",
         "rawType": "float64",
         "type": "float"
        }
       ],
       "ref": "cff353ef-c6f5-4ec2-9c37-1ac588d388d1",
       "rows": [
        [
         "2022-12-23 00:00:00",
         "460.01556396484375",
         "152.00592041015625",
         "129.44000244140625",
         "77.95931243896484",
         "145.47254943847656",
         "14.90999984741211",
         "237.11209106445312",
         "64.5199966430664",
         "128.42066955566406",
         "149.7808837890625",
         "89.2300033569336",
         "61.630001068115234",
         "33.09049606323242",
         "5.579999923706055",
         "85.25",
         "49.72343444824219",
         "173.6323699951172",
         "232.67092895507807",
         "173.97679138183594",
         "14.363032341003418",
         "96.77948760986328",
         "204.6431121826172",
         "147.4004669189453",
         "34.16056823730469",
         "46.40060424804688",
         "123.1500015258789",
         "294.9599914550781",
         "23.1200008392334",
         "35.32217025756836",
         "5.071435451507568",
         "131.29981994628906",
         "312.1831359863281",
         "1412.3599853515625",
         "140.10018920898438",
         "10.520000457763672",
         "142.42527770996094",
         "115.07379150390624",
         "66.63688659667969",
         "263.21417236328125",
         "115.15291595458984",
         "103.0",
         "338.45001220703125",
         "62.8554916381836",
         "16.518146514892578",
         "137.13999938964844",
         "342.0113220214844",
         "126.0413589477539",
         "88.01000213623047"
        ],
        [
         "2022-12-27 00:00:00",
         "455.8891906738281",
         "141.1597900390625",
         "130.66000366210938",
         "78.44012451171875",
         "144.84918212890625",
         "14.899999618530272",
         "235.3540954589844",
         "63.27000045776367",
         "128.87066650390625",
         "151.08615112304688",
         "87.38999938964844",
         "61.68999862670898",
         "32.8310432434082",
         "5.539999961853027",
         "83.04000091552734",
         "49.76237869262695",
         "173.5834503173828",
         "232.52294921875",
         "175.08436584472656",
         "13.870810508728027",
         "97.69538879394533",
         "205.10044860839844",
         "147.1722869873047",
         "35.704551696777344",
         "46.449466705322266",
         "109.0999984741211",
         "284.1700134277344",
         "22.920000076293945",
         "33.21791076660156",
         "5.080967903137207",
         "129.47760009765625",
         "312.9862976074219",
         "1398.0",
         "142.44906616210938",
         "10.40999984741211",
         "145.81942749023438",
         "115.15042114257812",
         "66.89579010009766",
         "262.4960327148437",
         "116.45055389404295",
         "107.97000122070312",
         "335.0899963378906",
         "63.23959732055664",
         "16.093364715576172",
         "136.16000366210938",
         "344.5595092773437",
         "125.35348510742188",
         "86.37000274658203"
        ],
        [
         "2022-12-28 00:00:00",
         "450.4105529785156",
         "140.31007385253906",
         "128.47000122070312",
         "77.34113311767578",
         "142.4942169189453",
         "14.649999618530272",
         "232.9405517578125",
         "62.56999969482422",
         "129.57498168945312",
         "149.1331787109375",
         "86.0199966430664",
         "60.900001525878906",
         "31.92294883728028",
         "5.5",
         "81.81999969482422",
         "49.11977767944336",
         "172.8301544189453",
         "229.7018585205078",
         "171.12876892089844",
         "13.762520790100098",
         "97.1044921875",
         "203.8079528808593",
         "144.44412231445312",
         "35.07730865478516",
         "45.99992370605469",
         "112.70999908447266",
         "276.8800048828125",
         "22.350000381469727",
         "31.50514030456543",
         "4.99517297744751",
         "125.5045394897461",
         "309.2447509765625",
         "1378.280029296875",
         "142.6937255859375",
         "10.369999885559082",
         "143.96356201171875",
         "113.3018035888672",
         "66.14896392822266",
         "260.794189453125",
         "113.89491271972656",
         "105.16999816894533",
         "328.3299865722656",
         "62.60927200317383",
         "15.166574478149414",
         "134.1300048828125",
         "340.36895751953125",
         "123.63876342773438",
         "84.16999816894531"
        ],
        [
         "2022-12-29 00:00:00",
         "453.930419921875",
         "145.9780731201172",
         "132.5399932861328",
         "77.88082122802734",
         "145.76939392089844",
         "15.25",
         "239.37664794921875",
         "64.81999969482422",
         "130.31842041015625",
         "149.75143432617188",
         "88.44999694824219",
         "62.560001373291016",
         "32.66139602661133",
         "5.730000019073486",
         "84.18000030517578",
         "49.26582336425781",
         "173.7106475830078",
         "230.07669067382807",
         "173.6010284423828",
         "13.77236557006836",
         "98.2567367553711",
         "206.86024475097656",
         "146.79530334472656",
         "35.945796966552734",
         "46.42014694213867",
         "121.81999969482422",
         "291.1199951171875",
         "22.89999961853028",
         "32.669830322265625",
         "5.157229900360107",
         "129.05938720703125",
         "313.8286437988281",
         "1404.949951171875",
         "145.20896911621094",
         "10.529999732971191",
         "146.82180786132812",
         "115.48565673828124",
         "68.04092407226562",
         "261.6008605957031",
         "116.24253845214844",
         "107.69000244140624",
         "337.5799865722656",
         "62.9835319519043",
         "15.533429145812988",
         "137.41000366210938",
         "346.6000061035156",
         "125.65255737304688",
         "87.18000030517578"
        ],
        [
         "2022-12-30 00:00:00",
         "453.9005432128906",
         "146.08802795410156",
         "132.58999633789062",
         "77.31169891357422",
         "146.19485473632812",
         "14.989999771118164",
         "238.19471740722656",
         "64.7699966430664",
         "131.1792755126953",
         "148.7406005859375",
         "88.2300033569336",
         "62.25",
         "32.7911262512207",
         "5.619999885559082",
         "84.0",
         "49.02241897583008",
         "172.8203582763672",
         "228.4195556640625",
         "171.277099609375",
         "13.74283218383789",
         "97.69538879394533",
         "206.56198120117188",
         "147.7080078125",
         "36.466888427734375",
         "46.55696487426758",
         "123.18000030517578",
         "294.8800048828125",
         "22.86000061035156",
         "32.95365524291992",
         "5.138164520263672",
         "129.3780059814453",
         "309.3720703125",
         "1387.489990234375",
         "145.86468505859375",
         "10.420000076293944",
         "143.77499389648438",
         "114.86306762695312",
         "67.45341491699219",
         "259.23992919921875",
         "115.90575408935548",
         "108.43000030517578",
         "336.5299987792969",
         "62.64866638183594",
         "15.58169937133789",
         "136.5800018310547",
         "346.12225341796875",
         "125.9715805053711",
         "86.87999725341797"
        ]
       ],
       "shape": {
        "columns": 48,
        "rows": 5
       }
      },
      "text/html": [
       "<div>\n",
       "<style scoped>\n",
       "    .dataframe tbody tr th:only-of-type {\n",
       "        vertical-align: middle;\n",
       "    }\n",
       "\n",
       "    .dataframe tbody tr th {\n",
       "        vertical-align: top;\n",
       "    }\n",
       "\n",
       "    .dataframe thead th {\n",
       "        text-align: right;\n",
       "    }\n",
       "</style>\n",
       "<table border=\"1\" class=\"dataframe\">\n",
       "  <thead>\n",
       "    <tr style=\"text-align: right;\">\n",
       "      <th>Ticker</th>\n",
       "      <th>COST</th>\n",
       "      <th>NVDA</th>\n",
       "      <th>CRM</th>\n",
       "      <th>CL</th>\n",
       "      <th>AXP</th>\n",
       "      <th>PHG</th>\n",
       "      <th>MSFT</th>\n",
       "      <th>AMD</th>\n",
       "      <th>JPM</th>\n",
       "      <th>PG</th>\n",
       "      <th>...</th>\n",
       "      <th>MCD</th>\n",
       "      <th>NKE</th>\n",
       "      <th>CROX</th>\n",
       "      <th>ADBE</th>\n",
       "      <th>KO</th>\n",
       "      <th>JWN</th>\n",
       "      <th>TM</th>\n",
       "      <th>MA</th>\n",
       "      <th>HLT</th>\n",
       "      <th>DIS</th>\n",
       "    </tr>\n",
       "    <tr>\n",
       "      <th>Date</th>\n",
       "      <th></th>\n",
       "      <th></th>\n",
       "      <th></th>\n",
       "      <th></th>\n",
       "      <th></th>\n",
       "      <th></th>\n",
       "      <th></th>\n",
       "      <th></th>\n",
       "      <th></th>\n",
       "      <th></th>\n",
       "      <th></th>\n",
       "      <th></th>\n",
       "      <th></th>\n",
       "      <th></th>\n",
       "      <th></th>\n",
       "      <th></th>\n",
       "      <th></th>\n",
       "      <th></th>\n",
       "      <th></th>\n",
       "      <th></th>\n",
       "      <th></th>\n",
       "    </tr>\n",
       "  </thead>\n",
       "  <tbody>\n",
       "    <tr>\n",
       "      <th>2022-12-23</th>\n",
       "      <td>460.015564</td>\n",
       "      <td>152.005920</td>\n",
       "      <td>129.440002</td>\n",
       "      <td>77.959312</td>\n",
       "      <td>145.472549</td>\n",
       "      <td>14.91</td>\n",
       "      <td>237.112091</td>\n",
       "      <td>64.519997</td>\n",
       "      <td>128.420670</td>\n",
       "      <td>149.780884</td>\n",
       "      <td>...</td>\n",
       "      <td>263.214172</td>\n",
       "      <td>115.152916</td>\n",
       "      <td>103.000000</td>\n",
       "      <td>338.450012</td>\n",
       "      <td>62.855492</td>\n",
       "      <td>16.518147</td>\n",
       "      <td>137.139999</td>\n",
       "      <td>342.011322</td>\n",
       "      <td>126.041359</td>\n",
       "      <td>88.010002</td>\n",
       "    </tr>\n",
       "    <tr>\n",
       "      <th>2022-12-27</th>\n",
       "      <td>455.889191</td>\n",
       "      <td>141.159790</td>\n",
       "      <td>130.660004</td>\n",
       "      <td>78.440125</td>\n",
       "      <td>144.849182</td>\n",
       "      <td>14.90</td>\n",
       "      <td>235.354095</td>\n",
       "      <td>63.270000</td>\n",
       "      <td>128.870667</td>\n",
       "      <td>151.086151</td>\n",
       "      <td>...</td>\n",
       "      <td>262.496033</td>\n",
       "      <td>116.450554</td>\n",
       "      <td>107.970001</td>\n",
       "      <td>335.089996</td>\n",
       "      <td>63.239597</td>\n",
       "      <td>16.093365</td>\n",
       "      <td>136.160004</td>\n",
       "      <td>344.559509</td>\n",
       "      <td>125.353485</td>\n",
       "      <td>86.370003</td>\n",
       "    </tr>\n",
       "    <tr>\n",
       "      <th>2022-12-28</th>\n",
       "      <td>450.410553</td>\n",
       "      <td>140.310074</td>\n",
       "      <td>128.470001</td>\n",
       "      <td>77.341133</td>\n",
       "      <td>142.494217</td>\n",
       "      <td>14.65</td>\n",
       "      <td>232.940552</td>\n",
       "      <td>62.570000</td>\n",
       "      <td>129.574982</td>\n",
       "      <td>149.133179</td>\n",
       "      <td>...</td>\n",
       "      <td>260.794189</td>\n",
       "      <td>113.894913</td>\n",
       "      <td>105.169998</td>\n",
       "      <td>328.329987</td>\n",
       "      <td>62.609272</td>\n",
       "      <td>15.166574</td>\n",
       "      <td>134.130005</td>\n",
       "      <td>340.368958</td>\n",
       "      <td>123.638763</td>\n",
       "      <td>84.169998</td>\n",
       "    </tr>\n",
       "    <tr>\n",
       "      <th>2022-12-29</th>\n",
       "      <td>453.930420</td>\n",
       "      <td>145.978073</td>\n",
       "      <td>132.539993</td>\n",
       "      <td>77.880821</td>\n",
       "      <td>145.769394</td>\n",
       "      <td>15.25</td>\n",
       "      <td>239.376648</td>\n",
       "      <td>64.820000</td>\n",
       "      <td>130.318420</td>\n",
       "      <td>149.751434</td>\n",
       "      <td>...</td>\n",
       "      <td>261.600861</td>\n",
       "      <td>116.242538</td>\n",
       "      <td>107.690002</td>\n",
       "      <td>337.579987</td>\n",
       "      <td>62.983532</td>\n",
       "      <td>15.533429</td>\n",
       "      <td>137.410004</td>\n",
       "      <td>346.600006</td>\n",
       "      <td>125.652557</td>\n",
       "      <td>87.180000</td>\n",
       "    </tr>\n",
       "    <tr>\n",
       "      <th>2022-12-30</th>\n",
       "      <td>453.900543</td>\n",
       "      <td>146.088028</td>\n",
       "      <td>132.589996</td>\n",
       "      <td>77.311699</td>\n",
       "      <td>146.194855</td>\n",
       "      <td>14.99</td>\n",
       "      <td>238.194717</td>\n",
       "      <td>64.769997</td>\n",
       "      <td>131.179276</td>\n",
       "      <td>148.740601</td>\n",
       "      <td>...</td>\n",
       "      <td>259.239929</td>\n",
       "      <td>115.905754</td>\n",
       "      <td>108.430000</td>\n",
       "      <td>336.529999</td>\n",
       "      <td>62.648666</td>\n",
       "      <td>15.581699</td>\n",
       "      <td>136.580002</td>\n",
       "      <td>346.122253</td>\n",
       "      <td>125.971581</td>\n",
       "      <td>86.879997</td>\n",
       "    </tr>\n",
       "  </tbody>\n",
       "</table>\n",
       "<p>5 rows × 48 columns</p>\n",
       "</div>"
      ],
      "text/plain": [
       "Ticker            COST        NVDA         CRM         CL         AXP    PHG  \\\n",
       "Date                                                                           \n",
       "2022-12-23  460.015564  152.005920  129.440002  77.959312  145.472549  14.91   \n",
       "2022-12-27  455.889191  141.159790  130.660004  78.440125  144.849182  14.90   \n",
       "2022-12-28  450.410553  140.310074  128.470001  77.341133  142.494217  14.65   \n",
       "2022-12-29  453.930420  145.978073  132.539993  77.880821  145.769394  15.25   \n",
       "2022-12-30  453.900543  146.088028  132.589996  77.311699  146.194855  14.99   \n",
       "\n",
       "Ticker            MSFT        AMD         JPM          PG  ...         MCD  \\\n",
       "Date                                                       ...               \n",
       "2022-12-23  237.112091  64.519997  128.420670  149.780884  ...  263.214172   \n",
       "2022-12-27  235.354095  63.270000  128.870667  151.086151  ...  262.496033   \n",
       "2022-12-28  232.940552  62.570000  129.574982  149.133179  ...  260.794189   \n",
       "2022-12-29  239.376648  64.820000  130.318420  149.751434  ...  261.600861   \n",
       "2022-12-30  238.194717  64.769997  131.179276  148.740601  ...  259.239929   \n",
       "\n",
       "Ticker             NKE        CROX        ADBE         KO        JWN  \\\n",
       "Date                                                                   \n",
       "2022-12-23  115.152916  103.000000  338.450012  62.855492  16.518147   \n",
       "2022-12-27  116.450554  107.970001  335.089996  63.239597  16.093365   \n",
       "2022-12-28  113.894913  105.169998  328.329987  62.609272  15.166574   \n",
       "2022-12-29  116.242538  107.690002  337.579987  62.983532  15.533429   \n",
       "2022-12-30  115.905754  108.430000  336.529999  62.648666  15.581699   \n",
       "\n",
       "Ticker              TM          MA         HLT        DIS  \n",
       "Date                                                       \n",
       "2022-12-23  137.139999  342.011322  126.041359  88.010002  \n",
       "2022-12-27  136.160004  344.559509  125.353485  86.370003  \n",
       "2022-12-28  134.130005  340.368958  123.638763  84.169998  \n",
       "2022-12-29  137.410004  346.600006  125.652557  87.180000  \n",
       "2022-12-30  136.580002  346.122253  125.971581  86.879997  \n",
       "\n",
       "[5 rows x 48 columns]"
      ]
     },
     "execution_count": 15,
     "metadata": {},
     "output_type": "execute_result"
    }
   ],
   "source": [
    "stock_df.tail()"
   ]
  },
  {
   "cell_type": "markdown",
   "id": "4b7413e6",
   "metadata": {},
   "source": [
    "### Creating training data"
   ]
  },
  {
   "cell_type": "markdown",
   "id": "3a9d9dc2",
   "metadata": {},
   "source": [
    "Generating random portofolios"
   ]
  },
  {
   "cell_type": "code",
   "execution_count": null,
   "id": "d684191f",
   "metadata": {},
   "outputs": [],
   "source": [
    "def generate_random_portfolio(\n",
    "    tickers,\n",
    "    min_stocks=1,\n",
    "    max_stocks=10,\n",
    "):\n",
    "    # Select random stocks from the list and assign random weights\n",
    "   \n",
    "    stocks_count = random.randint(min_stocks, max_stocks) \n",
    "  \n",
    "    stocks_list = random.sample(tickers, stocks_count)\n",
    "\n",
    "\n",
    "    raw_weights = np.random.uniform(0.1, 1.0, stocks_count)\n",
    "    stocks_weights = (raw_weights / np.sum(raw_weights)).tolist()\n",
    "    stocks_weights = [round(weight, 3) for weight in stocks_weights]\n",
    "\n",
    "    # Make sure weights sum to exactly 1, if not, add the difference to the first weight\n",
    "    diff = 1 - sum(stocks_weights)\n",
    "    stocks_weights[0] += diff  \n",
    "\n",
    "    \n",
    "    portfolio = {\n",
    "        \"stocks\": stocks_list,\n",
    "        \"weights\": stocks_weights,\n",
    "    }\n",
    "\n",
    "    return portfolio"
   ]
  },
  {
   "cell_type": "code",
   "execution_count": 17,
   "id": "e731902b",
   "metadata": {},
   "outputs": [],
   "source": [
    "portofolios = []\n",
    "for i in range(120):\n",
    "    portfolio = generate_random_portfolio(tickers, 1, 10) \n",
    "    portofolios.append(portfolio)\n"
   ]
  },
  {
   "cell_type": "markdown",
   "id": "73118bb0",
   "metadata": {},
   "source": [
    "Preparing the data before feeding it into the LSTM"
   ]
  },
  {
   "cell_type": "code",
   "execution_count": null,
   "id": "f57f1932",
   "metadata": {},
   "outputs": [],
   "source": [
    "def get_portofolio_returns(portofolio):\n",
    "    \"\"\"Calculate the returns of a portfolio based on its weights and stock prices.\"\"\"\n",
    "\n",
    "\n",
    "    stock_prices = stock_df[portofolio['stocks']]\n",
    "\n",
    "    # Calculate daily returns for each stock\n",
    "    daily_returns = stock_prices.pct_change().dropna()\n",
    "\n",
    "    # Calculate weighted returns for the whole portfolio\n",
    "    weighted_returns = daily_returns.dot(portofolio['weights'])\n",
    "\n",
    "    return weighted_returns"
   ]
  },
  {
   "cell_type": "code",
   "execution_count": null,
   "id": "a91616a4",
   "metadata": {},
   "outputs": [],
   "source": [
    "def create_lstm_dataset(data, lookback=30):\n",
    "    # Transforms time series data into a supervised learning dataset for LSTM.\n",
    "    import numpy as np\n",
    "\n",
    "    if isinstance(data, pd.Series):\n",
    "        data = data.to_frame()\n",
    "\n",
    "    values = data.values\n",
    "    # X will contain sequences of 'lookback' time steps, y will contain the next time step value.\n",
    "    X, y = [], []\n",
    "\n",
    "    for i in range(len(values) - lookback):\n",
    "        X.append(values[i:i+lookback])\n",
    "        y.append(values[i+lookback][0])  \n",
    "\n",
    "    return np.array(X), np.array(y)\n"
   ]
  },
  {
   "cell_type": "code",
   "execution_count": 20,
   "id": "62d6ef6d",
   "metadata": {},
   "outputs": [],
   "source": [
    "X, Y = [], []\n",
    "for portfolio in portofolios:\n",
    "    weighted_returns = get_portofolio_returns(portfolio)\n",
    "    temp_x, temp_y = create_lstm_dataset(weighted_returns)\n",
    "    X.append(temp_x)\n",
    "    Y.append(temp_y)\n",
    "X = np.concatenate(X, axis=0)\n",
    "Y = np.concatenate(Y, axis=0)"
   ]
  },
  {
   "cell_type": "code",
   "execution_count": 21,
   "id": "d24651ff",
   "metadata": {},
   "outputs": [
    {
     "data": {
      "text/plain": [
       "((268200, 30, 1), (268200,))"
      ]
     },
     "execution_count": 21,
     "metadata": {},
     "output_type": "execute_result"
    }
   ],
   "source": [
    "X.shape, Y.shape"
   ]
  },
  {
   "cell_type": "markdown",
   "id": "8e657084",
   "metadata": {},
   "source": [
    "We need to check the distribution of our returns, to see if we need to normalize it. Usually, they should be centered around 0, but we need to see if it applies to our values as well"
   ]
  },
  {
   "cell_type": "code",
   "execution_count": null,
   "id": "32f30a16",
   "metadata": {},
   "outputs": [
    {
     "name": "stdout",
     "output_type": "stream",
     "text": [
      "Mean of target returns (Y): 0.000682\n"
     ]
    },
    {
     "data": {
      "image/png": "[encoded data removed]",
      "text/plain": [
       "<Figure size 1200x600 with 1 Axes>"
      ]
     },
     "metadata": {},
     "output_type": "display_data"
    },
    {
     "data": {
      "image/png": "[encoded data removed]",
      "text/plain": [
       "<Figure size 1000x200 with 1 Axes>"
      ]
     },
     "metadata": {},
     "output_type": "display_data"
    },
    {
     "name": "stdout",
     "output_type": "stream",
     "text": [
      "1st percentile of target returns (Y): -0.043710\n",
      "99th percentile of target returns (Y): 0.043237\n"
     ]
    }
   ],
   "source": [
    "\n",
    "import numpy as np\n",
    "import matplotlib.pyplot as plt\n",
    "\n",
    "\n",
    "all_target_returns = Y.flatten()\n",
    "\n",
    " \n",
    "mean_target_returns = np.mean(all_target_returns)\n",
    "\n",
    "print(f\"Mean of target returns (Y): {mean_target_returns:.6f}\")\n",
    "\n",
    " \n",
    "\n",
    "plt.figure(figsize=(12, 6))\n",
    "\n",
    " \n",
    "plt.hist(all_target_returns, bins=100, density=True, alpha=0.7, color='skyblue', edgecolor='black')\n",
    "\n",
    "\n",
    "plt.title('Histograma randamentelor zilnice din setul de date')\n",
    "plt.xlabel('Valoarea randamentelor zilnice')\n",
    " \n",
    "plt.grid(True)\n",
    "plt.show()\n",
    "\n",
    "\n",
    "plt.figure(figsize=(10, 2))\n",
    "plt.boxplot(all_target_returns, vert=False, patch_artist=True,\n",
    "            boxprops=dict(facecolor='lightblue'),\n",
    "            medianprops=dict(color='red'))\n",
    "plt.title('Histograma randamentelor zilnice din setul de date')\n",
    "plt.xlabel('Randamente zilnice')\n",
    "plt.yticks([]) \n",
    "plt.show()\n",
    "\n",
    "\n",
    "p1_y = np.percentile(all_target_returns, 1)\n",
    "p99_y = np.percentile(all_target_returns, 99)\n",
    "print(f\"1st percentile of target returns (Y): {p1_y:.6f}\")\n",
    "print(f\"99th percentile of target returns (Y): {p99_y:.6f}\")\n"
   ]
  },
  {
   "cell_type": "markdown",
   "id": "1ca63de4",
   "metadata": {},
   "source": [
    "The returns are well distributed and they don't need any normalization"
   ]
  },
  {
   "cell_type": "code",
   "execution_count": 23,
   "id": "2e9eff2b",
   "metadata": {},
   "outputs": [],
   "source": [
    "\n",
    "x_train, x_test, y_train, y_test = train_test_split(\n",
    "    X, Y, test_size=0.2, shuffle=True, random_state=42\n",
    ")"
   ]
  },
  {
   "cell_type": "markdown",
   "id": "aa5c3b72",
   "metadata": {},
   "source": [
    "### LSTM"
   ]
  },
  {
   "cell_type": "markdown",
   "id": "6cb7c0cc",
   "metadata": {},
   "source": [
    "We will define and train the LSTM returns prediction model "
   ]
  },
  {
   "cell_type": "code",
   "execution_count": null,
   "id": "4fab7b2e",
   "metadata": {},
   "outputs": [],
   "source": [
    "import torch\n",
    "import torch.nn as nn\n",
    "\n",
    "class LSTMModel(nn.Module):\n",
    "\n",
    "    LOOKBACK = 30\n",
    "\n",
    "    def __init__(self, input_size=1, hidden_layer_size=50, intermediate_size=10, output_size=1):\n",
    "        super(LSTMModel, self).__init__()\n",
    "\n",
    "        self.lstm = nn.LSTM(input_size, hidden_layer_size, batch_first=True)\n",
    "        self.dropout = nn.Dropout(0.2)\n",
    "\n",
    "        self.fc1 = nn.Linear(hidden_layer_size, intermediate_size)\n",
    "        self.relu = nn.LeakyReLU()\n",
    "\n",
    "        self.fc2 = nn.Linear(intermediate_size, output_size)\n",
    "\n",
    "    def forward(self, x):\n",
    "        lstm_out, _ = self.lstm(x)\n",
    "        lstm_out = self.dropout(lstm_out)\n",
    "        last_time_step = lstm_out[:, -1, :]\n",
    "\n",
    "        hidden_out = self.relu(self.fc1(last_time_step))\n",
    "        output = self.fc2(hidden_out)\n",
    "\n",
    "        return output\n"
   ]
  },
  {
   "cell_type": "code",
   "execution_count": 25,
   "id": "0ff9dd03",
   "metadata": {},
   "outputs": [
    {
     "name": "stderr",
     "output_type": "stream",
     "text": [
      "C:\\Users\\mario\\AppData\\Roaming\\Python\\Python313\\site-packages\\torch\\nn\\init.py:511: UserWarning: Initializing zero-element tensors is a no-op\n",
      "  warnings.warn(\"Initializing zero-element tensors is a no-op\")\n"
     ]
    }
   ],
   "source": [
    "# Initialize the model\n",
    "model = LSTMModel().to(device)\n",
    "\n",
    "\n"
   ]
  },
  {
   "cell_type": "code",
   "execution_count": 26,
   "id": "e768d615",
   "metadata": {},
   "outputs": [],
   "source": [
    "# Convert data to PyTorch tensors\n",
    "X_train_tensor = torch.tensor(x_train, dtype=torch.float32).to(device)\n",
    "y_train_tensor = torch.tensor(y_train, dtype=torch.float32).to(device)\n",
    "X_val_tensor = torch.tensor(x_test, dtype=torch.float32).to(device)\n",
    "y_val_tensor = torch.tensor(y_test, dtype=torch.float32).to(device)"
   ]
  },
  {
   "cell_type": "code",
   "execution_count": 27,
   "id": "50c5351d",
   "metadata": {},
   "outputs": [
    {
     "data": {
      "text/plain": [
       "torch.Size([214560, 30, 1])"
      ]
     },
     "execution_count": 27,
     "metadata": {},
     "output_type": "execute_result"
    }
   ],
   "source": [
    "X_train_tensor.shape"
   ]
  },
  {
   "cell_type": "code",
   "execution_count": null,
   "id": "014c0e8c",
   "metadata": {},
   "outputs": [],
   "source": [
    " \n",
    "loss_function = nn.MSELoss()   \n",
    "optimizer = optim.Adam(model.parameters(), lr=0.001)\n"
   ]
  },
  {
   "cell_type": "code",
   "execution_count": null,
   "id": "3caa10f9",
   "metadata": {},
   "outputs": [],
   "source": [
    "epochs = 200\n",
    "batch_size = 64\n",
    "val_batch_size = 64  \n",
    "\n",
    "train_rmses = []\n",
    "val_rmses = []\n",
    "\n",
    "\n",
    "for epoch in range(epochs):\n",
    "    model.train()\n",
    "    permutation = torch.randperm(X_train_tensor.size(0))\n",
    "\n",
    "    for i in range(0, X_train_tensor.size(0), batch_size):\n",
    "        indices = permutation[i:i + batch_size]\n",
    "        batch_x, batch_y = X_train_tensor[indices], y_train_tensor[indices]\n",
    "\n",
    "        optimizer.zero_grad()\n",
    "        predictions = model(batch_x)\n",
    "        loss = loss_function(predictions, batch_y.unsqueeze(1))\n",
    "        loss.backward()\n",
    "        optimizer.step()\n",
    "\n",
    "    # Validation\n",
    "    model.eval()\n",
    "    val_loss = 0.0\n",
    "    with torch.no_grad():\n",
    "        for i in range(0, X_val_tensor.size(0), val_batch_size):\n",
    "            val_indices = torch.arange(i, min(i + val_batch_size, X_val_tensor.size(0)))\n",
    "            batch_val_x, batch_val_y = X_val_tensor[val_indices], y_val_tensor[val_indices]\n",
    "\n",
    "            val_predictions = model(batch_val_x)\n",
    "            val_loss += loss_function(val_predictions, batch_val_y.unsqueeze(1)).item()\n",
    "\n",
    "    avg_val_loss = val_loss / (X_val_tensor.size(0) // val_batch_size)\n",
    "\n",
    "\n",
    "    rmse_train = loss.item() ** 0.5\n",
    "    rmse_val = avg_val_loss ** 0.5\n",
    "    current_lr = optimizer.param_groups[0]['lr']\n",
    "\n",
    "    train_rmses.append(rmse_train)\n",
    "    val_rmses.append(rmse_val)\n",
    "\n",
    "\n",
    "    print(f\"Epoch {epoch+1}/{epochs}, Loss: {loss.item():.4f}, RMSE Train: {rmse_train:.4f}, RMSE Val: {rmse_val:.4f}\")\n"
   ]
  },
  {
   "cell_type": "code",
   "execution_count": null,
   "id": "52adf5cd",
   "metadata": {},
   "outputs": [
    {
     "data": {
      "image/png": "[encoded data removed]",
      "text/plain": [
       "<Figure size 1500x400 with 1 Axes>"
      ]
     },
     "metadata": {},
     "output_type": "display_data"
    }
   ],
   "source": [
    "import matplotlib.pyplot as plt\n",
    "\n",
    "epochs_range = range(1, epochs + 1)\n",
    "\n",
    "plt.figure(figsize=(15, 4))\n",
    "\n",
    "\n",
    "plt.plot(epochs_range, train_rmses, label='Train RMSE')\n",
    "plt.plot(epochs_range, val_rmses, label='Val RMSE')\n",
    "plt.title('RMSE Over Epochs')\n",
    "plt.xlabel('Epoch')\n",
    "plt.ylabel('RMSE')\n",
    "plt.legend()\n",
    "\n",
    "\n",
    "\n",
    "plt.tight_layout()\n",
    "plt.show()\n"
   ]
  },
  {
   "cell_type": "markdown",
   "id": "bb2f8ba1",
   "metadata": {},
   "source": [
    "### Visualize predictions"
   ]
  },
  {
   "cell_type": "code",
   "execution_count": null,
   "id": "3b5a1d15",
   "metadata": {},
   "outputs": [],
   "source": [
    "test_returns = get_portofolio_returns(generate_random_portfolio(tickers, 1, 10))"
   ]
  },
  {
   "cell_type": "code",
   "execution_count": null,
   "id": "093b582f",
   "metadata": {},
   "outputs": [
    {
     "data": {
      "application/vnd.microsoft.datawrangler.viewer.v0+json": {
       "columns": [
        {
         "name": "Date",
         "rawType": "datetime64[ns]",
         "type": "datetime"
        },
        {
         "name": "0",
         "rawType": "float64",
         "type": "float"
        }
       ],
       "ref": "c21623d2-7dba-4d21-b8eb-73f3a7aad8f0",
       "rows": [
        [
         "2014-01-03 00:00:00",
         "-0.0007472907816255157"
        ],
        [
         "2014-01-06 00:00:00",
         "-0.0019322402028833128"
        ],
        [
         "2014-01-07 00:00:00",
         "0.002605382321756042"
        ],
        [
         "2014-01-08 00:00:00",
         "0.0029070360199820915"
        ],
        [
         "2014-01-09 00:00:00",
         "-0.000814570466067808"
        ]
       ],
       "shape": {
        "columns": 1,
        "rows": 5
       }
      },
      "text/plain": [
       "Date\n",
       "2014-01-03   -0.000747\n",
       "2014-01-06   -0.001932\n",
       "2014-01-07    0.002605\n",
       "2014-01-08    0.002907\n",
       "2014-01-09   -0.000815\n",
       "dtype: float64"
      ]
     },
     "execution_count": 80,
     "metadata": {},
     "output_type": "execute_result"
    }
   ],
   "source": [
    "test_returns.head()"
   ]
  },
  {
   "cell_type": "code",
   "execution_count": null,
   "id": "e1ab9bfc",
   "metadata": {},
   "outputs": [],
   "source": [
    "import numpy as np\n",
    "\n",
    "# Create sequences from the returns data\n",
    "def create_sequences(data, lookback):\n",
    "    sequences = []\n",
    "    labels = []\n",
    "    for i in range(lookback, len(data)):\n",
    "        sequences.append(data[i-lookback:i])  \n",
    "        labels.append(data[i]) \n",
    "    return np.array(sequences), np.array(labels)\n",
    "\n",
    "LOOKBACK = 30   \n",
    "\n",
    " \n",
    "returns = test_returns.values  \n",
    "X_new, y_new = create_sequences(returns, LOOKBACK)   \n",
    "\n",
    "# Convert to PyTorch tensors\n",
    "X_new_tensor = torch.tensor(X_new, dtype=torch.float32).unsqueeze(-1).to(device)\n",
    "y_new_tensor = torch.tensor(y_new, dtype=torch.float32).to(device)\n"
   ]
  },
  {
   "cell_type": "code",
   "execution_count": null,
   "id": "15a954e3",
   "metadata": {},
   "outputs": [
    {
     "data": {
      "text/plain": [
       "(211228,)"
      ]
     },
     "execution_count": 82,
     "metadata": {},
     "output_type": "execute_result"
    }
   ],
   "source": [
    "y_train.shape"
   ]
  },
  {
   "cell_type": "code",
   "execution_count": null,
   "id": "4ddc35f5",
   "metadata": {},
   "outputs": [
    {
     "name": "stdout",
     "output_type": "stream",
     "text": [
      "11.8\n"
     ]
    }
   ],
   "source": [
    "print(torch.version.cuda)"
   ]
  },
  {
   "cell_type": "code",
   "execution_count": null,
   "id": "678aafab",
   "metadata": {},
   "outputs": [],
   "source": [
    "# Set the model to evaluation mode\n",
    "model.eval()\n",
    "\n",
    "# Make predictions with the model\n",
    "with torch.no_grad():\n",
    "    predictions = model(X_new_tensor).squeeze().cpu().numpy()\n",
    "    actuals = y_new_tensor.cpu().numpy()\n"
   ]
  },
  {
   "cell_type": "code",
   "execution_count": null,
   "id": "ab8bba8c",
   "metadata": {},
   "outputs": [
    {
     "data": {
      "image/png": "[encoded data removed]",
      "text/plain": [
       "<Figure size 1000x600 with 1 Axes>"
      ]
     },
     "metadata": {},
     "output_type": "display_data"
    }
   ],
   "source": [
    "import matplotlib.pyplot as plt\n",
    "\n",
    "dates = test_returns.index[LOOKBACK:].values\n",
    "\n",
    "plt.figure(figsize=(10, 6))\n",
    "plt.plot(dates, actuals, label='Actual Returns', linewidth=2, color='#1f77b4')  # Blue\n",
    "plt.plot(dates, predictions, label='Predicted Returns', linewidth=2, color='#ff7f0e', alpha=0.6)  # Orange, transparent\n",
    "plt.title('Predicted vs Actual Returns')\n",
    "plt.xlabel('Date')\n",
    "plt.ylabel('Return')\n",
    "plt.xticks(rotation=45)\n",
    "plt.legend()\n",
    "plt.grid(True)\n",
    "plt.tight_layout()\n",
    "plt.show()\n"
   ]
  },
  {
   "cell_type": "markdown",
   "id": "2c0a7896",
   "metadata": {},
   "source": [
    "We can notice that our model did manage to catch the big spikes in 2020, but it otherwise gives outputs that are really close to the mean"
   ]
  },
  {
   "cell_type": "markdown",
   "id": "0cf8f0a2",
   "metadata": {},
   "source": [
    "### Other Model Results"
   ]
  },
  {
   "cell_type": "markdown",
   "id": "f3587189",
   "metadata": {},
   "source": [
    "def __init__(self, input_size=1, hidden_layer_size=50, output_size=1):\n",
    "        super(LSTMModel, self).__init__()\n",
    "\n",
    "        self.lstm = nn.LSTM(input_size, hidden_layer_size, batch_first=True)\n",
    "        self.dropout = nn.Dropout(0.2)\n",
    "\n",
    "        # Added intermediate dense layer with 3 nodes\n",
    "        self.hidden = nn.Linear(hidden_layer_size, 3)\n",
    "        self.relu = nn.ReLU()\n",
    "\n",
    "        self.fc = nn.Linear(3, output_size)"
   ]
  },
  {
   "cell_type": "markdown",
   "id": "8a2afc52",
   "metadata": {},
   "source": [
    "lookback_period=20  RMSE Val: 0.0174  \n",
    "lookback_period=30  RMSE Val: 0.0160  \n",
    "lookback_period=50  RMSE Val: 0.0172"
   ]
  },
  {
   "cell_type": "markdown",
   "id": "0404e290",
   "metadata": {},
   "source": [
    "---"
   ]
  },
  {
   "cell_type": "markdown",
   "id": "f4975052",
   "metadata": {},
   "source": [
    "import torch\n",
    "import torch.nn as nn\n",
    "\n",
    "class LSTMModel(nn.Module):\n",
    "\n",
    "    LOOKBACK = 30\n",
    "\n",
    "    def __init__(self, input_size=1, hidden_layer_size=100, intermediate_size=20, output_size=1):\n",
    "        super(LSTMModel, self).__init__()\n",
    "\n",
    "        self.lstm = nn.LSTM(input_size, hidden_layer_size, batch_first=True)\n",
    "        self.dropout = nn.Dropout(0.2)\n",
    "\n",
    "        # First dense layer after LSTM\n",
    "        self.fc1 = nn.Linear(hidden_layer_size, intermediate_size)\n",
    "        self.relu = nn.LeakyReLU()\n",
    "\n",
    "        # Second dense layer for final output\n",
    "        self.fc2 = nn.Linear(intermediate_size, output_size)\n",
    "\n",
    "    def forward(self, x):\n",
    "        lstm_out, _ = self.lstm(x)\n",
    "        lstm_out = self.dropout(lstm_out)\n",
    "        last_time_step = lstm_out[:, -1, :]\n",
    "\n",
    "        hidden_out = self.relu(self.fc1(last_time_step))\n",
    "        output = self.fc2(hidden_out)\n",
    "\n",
    "        return output\n"
   ]
  },
  {
   "cell_type": "markdown",
   "id": "c566a2cf",
   "metadata": {},
   "source": [
    "RMSE Val: 0.0148"
   ]
  },
  {
   "cell_type": "markdown",
   "id": "2e71b157",
   "metadata": {},
   "source": [
    "---"
   ]
  },
  {
   "cell_type": "markdown",
   "id": "97ff4ca4",
   "metadata": {},
   "source": [
    "\n",
    "class LSTMModel(nn.Module):\n",
    "\n",
    "    LOOKBACK = 30\n",
    "\n",
    "    def __init__(\n",
    "        self, input_size=1, hidden_layer_size=50, intermediate_size=10, output_size=1\n",
    "    ):\n",
    "        super(LSTMModel, self).__init__()\n",
    "\n",
    "        self.lstm = nn.LSTM(input_size, hidden_layer_size, batch_first=True)\n",
    "        self.dropout = nn.Dropout(0.2)\n",
    "\n",
    "        self.fc1 = nn.Linear(hidden_layer_size, intermediate_size)\n",
    "        self.relu = nn.LeakyReLU()\n",
    "\n",
    "        self.fc2 = nn.Linear(intermediate_size, output_size)\n",
    "\n",
    "    def forward(self, x):\n",
    "        lstm_out, _ = self.lstm(x)\n",
    "        lstm_out = self.dropout(lstm_out)\n",
    "        last_time_step = lstm_out[:, -1, :]\n",
    "\n",
    "        hidden_out = self.relu(self.fc1(last_time_step))\n",
    "        output = self.fc2(hidden_out)\n",
    "\n",
    "        return output\n"
   ]
  },
  {
   "cell_type": "markdown",
   "id": "ddc0e0de",
   "metadata": {},
   "source": [
    "RMSE Val: 0.0123 - 133 epochs"
   ]
  },
  {
   "cell_type": "markdown",
   "id": "8204b15f",
   "metadata": {},
   "source": [
    "### Saving the model"
   ]
  },
  {
   "cell_type": "code",
   "execution_count": null,
   "id": "150c182b",
   "metadata": {},
   "outputs": [],
   "source": [
    "save_model = False\n",
    "\n",
    "if save_model:\n",
    "    torch.save(model.state_dict(), 'model/lstm_model2.pth')\n",
    "    print(\"Model saved to 'model/lstm_model2.pth'\")"
   ]
  },
  {
   "cell_type": "code",
   "execution_count": null,
   "id": "c9bc7108",
   "metadata": {},
   "outputs": [],
   "source": []
  }
 ],
 "metadata": {
  "kernelspec": {
   "display_name": "Python 3",
   "language": "python",
   "name": "python3"
  },
  "language_info": {
   "codemirror_mode": {
    "name": "ipython",
    "version": 3
   },
   "file_extension": ".py",
   "mimetype": "text/x-python",
   "name": "python",
   "nbconvert_exporter": "python",
   "pygments_lexer": "ipython3",
   "version": "3.13.2"
  }
 },
 "nbformat": 4,
 "nbformat_minor": 5
}
