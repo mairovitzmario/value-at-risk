{
 "cells": [
  {
   "cell_type": "markdown",
   "id": "3d7b11c8",
   "metadata": {},
   "source": [
    "### Imports"
   ]
  },
  {
   "cell_type": "code",
   "execution_count": 53,
   "id": "7741178c",
   "metadata": {},
   "outputs": [],
   "source": [
    "import pandas as pd\n",
    "import datetime as dt\n",
    "import random\n",
    "import numpy as np\n",
    "import torch.optim as optim\n",
    "import torch.optim.lr_scheduler as lr_scheduler\n",
    "import torch\n",
    "import torch.nn as nn\n",
    "from sklearn.model_selection import train_test_split\n"
   ]
  },
  {
   "cell_type": "markdown",
   "id": "63f49ffd",
   "metadata": {},
   "source": [
    "Enabling CUDA"
   ]
  },
  {
   "cell_type": "code",
   "execution_count": 54,
   "id": "7b7d002b",
   "metadata": {},
   "outputs": [
    {
     "name": "stdout",
     "output_type": "stream",
     "text": [
      "CUDA available: True\n",
      "GPU name: NVIDIA GeForce RTX 3050 Laptop GPU\n"
     ]
    }
   ],
   "source": [
    "print(\"CUDA available:\", torch.cuda.is_available())\n",
    "print(\"GPU name:\", torch.cuda.get_device_name(0))"
   ]
  },
  {
   "cell_type": "code",
   "execution_count": 55,
   "id": "e2f7bc73",
   "metadata": {},
   "outputs": [],
   "source": [
    "device = torch.device(\"cuda\" if torch.cuda.is_available() else \"cpu\")"
   ]
  },
  {
   "cell_type": "code",
   "execution_count": 56,
   "id": "79f704e4",
   "metadata": {},
   "outputs": [
    {
     "data": {
      "text/plain": [
       "device(type='cuda')"
      ]
     },
     "execution_count": 56,
     "metadata": {},
     "output_type": "execute_result"
    }
   ],
   "source": [
    "device"
   ]
  },
  {
   "cell_type": "markdown",
   "id": "c2bed2de",
   "metadata": {},
   "source": [
    "### Reading and converting the dataframe"
   ]
  },
  {
   "cell_type": "code",
   "execution_count": 57,
   "id": "20704c11",
   "metadata": {},
   "outputs": [],
   "source": [
    "df = pd.read_csv('data/stock_data.csv')"
   ]
  },
  {
   "cell_type": "markdown",
   "id": "6f9f316f",
   "metadata": {},
   "source": [
    "Converting dataframe to a multi-column yfinance-like df"
   ]
  },
  {
   "cell_type": "code",
   "execution_count": 58,
   "id": "ef5551a2",
   "metadata": {},
   "outputs": [],
   "source": [
    "def convert_csv_df_to_yf_df(csv_df):\n",
    "    \"\"\"Convert a CSV DataFrame to a format similar to Yahoo Finance DataFrame.\n",
    "    The CSV DataFrame should have 'Date', 'Ticker', 'Open', 'High', 'Low', 'Close', and 'Volume' columns.\n",
    "    \"\"\"    \n",
    "\n",
    "    # Ensure the Date column is of datetime type.\n",
    "    csv_df['Date'] = pd.to_datetime(csv_df['Date'])\n",
    "\n",
    "    # Define the price columns that you want to keep.\n",
    "    price_cols = ['Open', 'High', 'Low', 'Close', 'Volume']\n",
    "\n",
    "    # Pivot the DataFrame.\n",
    "    # With a list for values, pivot_table creates a MultiIndex on the columns where the first level is the price fields\n",
    "    # and the second level is the ticker symbol.\n",
    "    multi_df = csv_df.pivot_table(index='Date', columns='Ticker', values=price_cols)\n",
    "\n",
    "    # Optionally, sort the MultiIndex columns.\n",
    "    multi_df = multi_df.sort_index(axis=1)\n",
    "\n",
    "    # Set the MultiIndex column names so that the first level is 'Price' and the second is 'Ticker'.\n",
    "    multi_df.columns.names = ['Price', 'Ticker']\n",
    "\n",
    "    return multi_df\n"
   ]
  },
  {
   "cell_type": "code",
   "execution_count": 59,
   "id": "d0cb6246",
   "metadata": {},
   "outputs": [
    {
     "name": "stderr",
     "output_type": "stream",
     "text": [
      "C:\\Users\\mario\\AppData\\Local\\Temp\\ipykernel_19384\\132587994.py:7: FutureWarning: In a future version of pandas, parsing datetimes with mixed time zones will raise an error unless `utc=True`. Please specify `utc=True` to opt in to the new behaviour and silence this warning. To create a `Series` with mixed offsets and `object` dtype, please use `apply` and `datetime.datetime.strptime`\n",
      "  csv_df['Date'] = pd.to_datetime(csv_df['Date'])\n"
     ]
    }
   ],
   "source": [
    "df = convert_csv_df_to_yf_df(df)\n",
    "df = df['Close']"
   ]
  },
  {
   "cell_type": "markdown",
   "id": "a29592bc",
   "metadata": {},
   "source": [
    "Only keeping certain stocks"
   ]
  },
  {
   "cell_type": "code",
   "execution_count": 60,
   "id": "d4d4f43f",
   "metadata": {},
   "outputs": [],
   "source": [
    "with open('data/stock_tickers.txt', 'r') as f:\n",
    "    tickers = f.read().splitlines()\n",
    "tickers = [ticker.replace('\\n', '') for ticker in tickers]\n",
    "\n",
    "df = df[[col for col in tickers if col in df.columns]]"
   ]
  },
  {
   "cell_type": "code",
   "execution_count": 61,
   "id": "6963e5a5",
   "metadata": {},
   "outputs": [
    {
     "data": {
      "application/vnd.microsoft.datawrangler.viewer.v0+json": {
       "columns": [
        {
         "name": "Date",
         "rawType": "object",
         "type": "unknown"
        },
        {
         "name": "COST",
         "rawType": "float64",
         "type": "float"
        },
        {
         "name": "NVDA",
         "rawType": "float64",
         "type": "float"
        },
        {
         "name": "CRM",
         "rawType": "float64",
         "type": "float"
        },
        {
         "name": "CL",
         "rawType": "float64",
         "type": "float"
        },
        {
         "name": "AXP",
         "rawType": "float64",
         "type": "float"
        },
        {
         "name": "PHG",
         "rawType": "float64",
         "type": "float"
        },
        {
         "name": "MSFT",
         "rawType": "float64",
         "type": "float"
        },
        {
         "name": "AMD",
         "rawType": "float64",
         "type": "float"
        },
        {
         "name": "JPM",
         "rawType": "float64",
         "type": "float"
        },
        {
         "name": "PG",
         "rawType": "float64",
         "type": "float"
        },
        {
         "name": "GOOGL",
         "rawType": "float64",
         "type": "float"
        },
        {
         "name": "LOGI",
         "rawType": "float64",
         "type": "float"
        },
        {
         "name": "DAL",
         "rawType": "float64",
         "type": "float"
        },
        {
         "name": "UBSFY",
         "rawType": "float64",
         "type": "float"
        },
        {
         "name": "AMZN",
         "rawType": "float64",
         "type": "float"
        },
        {
         "name": "UL",
         "rawType": "float64",
         "type": "float"
        },
        {
         "name": "JNJ",
         "rawType": "float64",
         "type": "float"
        },
        {
         "name": "HSY",
         "rawType": "float64",
         "type": "float"
        },
        {
         "name": "FDX",
         "rawType": "float64",
         "type": "float"
        },
        {
         "name": "AEO",
         "rawType": "float64",
         "type": "float"
        },
        {
         "name": "SBUX",
         "rawType": "float64",
         "type": "float"
        },
        {
         "name": "V",
         "rawType": "float64",
         "type": "float"
        },
        {
         "name": "MAR",
         "rawType": "float64",
         "type": "float"
        },
        {
         "name": "FL",
         "rawType": "float64",
         "type": "float"
        },
        {
         "name": "CSCO",
         "rawType": "float64",
         "type": "float"
        },
        {
         "name": "TSLA",
         "rawType": "float64",
         "type": "float"
        },
        {
         "name": "NFLX",
         "rawType": "float64",
         "type": "float"
        },
        {
         "name": "HMC",
         "rawType": "float64",
         "type": "float"
        },
        {
         "name": "LUV",
         "rawType": "float64",
         "type": "float"
        },
        {
         "name": "POAHY",
         "rawType": "float64",
         "type": "float"
        },
        {
         "name": "AAPL",
         "rawType": "float64",
         "type": "float"
        },
        {
         "name": "HD",
         "rawType": "float64",
         "type": "float"
        },
        {
         "name": "CMG",
         "rawType": "float64",
         "type": "float"
        },
        {
         "name": "TGT",
         "rawType": "float64",
         "type": "float"
        },
        {
         "name": "NTDOY",
         "rawType": "float64",
         "type": "float"
        },
        {
         "name": "LVMUY",
         "rawType": "float64",
         "type": "float"
        },
        {
         "name": "MMM",
         "rawType": "float64",
         "type": "float"
        },
        {
         "name": "ADDYY",
         "rawType": "float64",
         "type": "float"
        },
        {
         "name": "SHOP",
         "rawType": "float64",
         "type": "float"
        },
        {
         "name": "MCD",
         "rawType": "float64",
         "type": "float"
        },
        {
         "name": "NKE",
         "rawType": "float64",
         "type": "float"
        },
        {
         "name": "CROX",
         "rawType": "float64",
         "type": "float"
        },
        {
         "name": "ADBE",
         "rawType": "float64",
         "type": "float"
        },
        {
         "name": "KO",
         "rawType": "float64",
         "type": "float"
        },
        {
         "name": "JWN",
         "rawType": "float64",
         "type": "float"
        },
        {
         "name": "TM",
         "rawType": "float64",
         "type": "float"
        },
        {
         "name": "MA",
         "rawType": "float64",
         "type": "float"
        },
        {
         "name": "HLT",
         "rawType": "float64",
         "type": "float"
        },
        {
         "name": "DIS",
         "rawType": "float64",
         "type": "float"
        }
       ],
       "ref": "c9928d4b-4b2d-44b0-9a9a-9b30f7814097",
       "rows": [
        [
         "2000-01-03 00:00:00-05:00",
         "30.799129486083984",
         "0.8947288393974304",
         null,
         "18.733959197998047",
         "33.198848724365234",
         "19.158504486083984",
         "36.205604553222656",
         "15.5",
         "24.23975944519043",
         "28.6081771850586",
         null,
         "2.632929563522339",
         null,
         null,
         "4.46875",
         "7.472337245941162",
         "25.085430145263672",
         "13.58238410949707",
         "36.263858795166016",
         "5.482471466064453",
         "2.4377646446228027",
         null,
         "11.42856788635254",
         "3.957437038421631",
         "37.49692535400391",
         null,
         null,
         "13.720699310302734",
         "9.467610359191896",
         null,
         "0.8483229875564575",
         "40.083255767822266",
         null,
         "23.075401306152344",
         "3.990652322769165",
         null,
         "24.772855758666992",
         null,
         null,
         "22.18610000610352",
         "4.670586585998535",
         null,
         "16.274675369262695",
         "14.781797409057615",
         "7.168196201324463",
         "72.03495788574219",
         null,
         null,
         "23.115253448486328"
        ],
        [
         "2000-01-04 00:00:00-05:00",
         "29.11210060119629",
         "0.8708379864692688",
         null,
         "18.24492073059082",
         "31.9453182220459",
         "17.986570358276367",
         "34.98255157470703",
         "14.625",
         "23.70790100097656",
         "28.05769920349121",
         null,
         "2.785693883895874",
         null,
         null,
         "4.096875190734863",
         "7.363589763641357",
         "24.16706657409668",
         "13.069842338562012",
         "35.0498046875",
         "4.999640941619873",
         "2.360522747039795",
         null,
         "11.358309745788574",
         "3.886767864227295",
         "35.393280029296875",
         null,
         null,
         "13.448785781860352",
         "9.206693649291992",
         null,
         "0.7768008708953857",
         "37.96956634521485",
         null,
         "22.0747299194336",
         "3.753113031387329",
         null,
         "23.78849029541016",
         null,
         null,
         "21.731176376342773",
         "4.415827751159668",
         null,
         "14.909399032592772",
         "14.798185348510742",
         "6.889822959899902",
         "68.69741821289062",
         null,
         null,
         "24.469282150268555"
        ],
        [
         "2000-01-05 00:00:00-05:00",
         "29.60956764221192",
         "0.8421685695648193",
         null,
         "17.62421226501465",
         "31.133947372436523",
         "18.572540283203125",
         "35.351417541503906",
         "15.0",
         "23.561561584472656",
         "27.523902893066406",
         null,
         "2.89951753616333",
         null,
         null,
         "3.487499952316284",
         "7.674290180206299",
         "24.42217063903809",
         "13.124749183654783",
         "35.84158706665039",
         "5.377338409423828",
         "2.391420602798462",
         null,
         "11.545666694641112",
         "3.851433992385864",
         "35.284847259521484",
         null,
         null,
         "13.176864624023438",
         "9.16941738128662",
         null,
         "0.7881678938865662",
         "38.73818206787109",
         null,
         "21.574392318725582",
         "3.681851625442505",
         null,
         "24.477537155151367",
         null,
         null,
         "22.08111953735352",
         "4.670586585998535",
         null,
         "15.204172134399414",
         "14.92928981781006",
         "6.768032550811768",
         "68.97554779052734",
         null,
         null,
         "25.48481178283692"
        ],
        [
         "2000-01-06 00:00:00-05:00",
         "30.204360961914062",
         "0.7872183322906494",
         null,
         "17.586589813232422",
         "31.768239974975582",
         "17.39211654663086",
         "34.167198181152344",
         "16.0",
         "23.89606094360352",
         "28.79167556762696",
         null,
         "2.995369434356689",
         null,
         null,
         "3.278125047683716",
         "7.829638481140137",
         "25.187484741210938",
         "13.472546577453612",
         "39.906097412109375",
         "4.995747089385986",
         "2.47793197631836",
         null,
         "11.709595680236816",
         "3.922102451324463",
         "34.69929885864258",
         null,
         null,
         "12.497057914733888",
         "9.132144927978516",
         null,
         "0.7199613451957703",
         "36.893516540527344",
         null,
         "20.553714752197266",
         "3.6105902194976807",
         null,
         "26.44623565673828",
         null,
         null,
         "21.76616859436035",
         "4.64632511138916",
         null,
         "15.328289985656738",
         "14.945670127868652",
         "7.098604202270508",
         "62.85675048828125",
         null,
         null,
         "24.469282150268555"
        ],
        [
         "2000-01-07 00:00:00-05:00",
         "32.20500564575195",
         "0.8003586530685425",
         null,
         "18.639911651611328",
         "32.23074722290039",
         "18.51309585571289",
         "34.61371994018555",
         "16.25",
         "24.33509826660156",
         "31.093673706054688",
         null,
         "3.0912210941314697",
         null,
         null,
         "3.478125095367432",
         "8.264616966247559",
         "26.258930206298828",
         "13.509161949157717",
         "40.11724472045898",
         "5.108668327331543",
         "2.46557354927063",
         null,
         "12.03746509552002",
         "3.74543023109436",
         "36.73788070678711",
         null,
         null,
         "12.961588859558104",
         "9.467610359191896",
         null,
         "0.7540648579597473",
         "39.04565048217773",
         null,
         "21.614425659179688",
         "3.658097505569458",
         null,
         "26.9712142944336",
         null,
         null,
         "22.326080322265625",
         "4.64632511138916",
         null,
         "16.072986602783203",
         "15.928942680358888",
         "7.098604202270508",
         "63.78382873535156",
         null,
         null,
         "24.082416534423828"
        ]
       ],
       "shape": {
        "columns": 49,
        "rows": 5
       }
      },
      "text/html": [
       "<div>\n",
       "<style scoped>\n",
       "    .dataframe tbody tr th:only-of-type {\n",
       "        vertical-align: middle;\n",
       "    }\n",
       "\n",
       "    .dataframe tbody tr th {\n",
       "        vertical-align: top;\n",
       "    }\n",
       "\n",
       "    .dataframe thead th {\n",
       "        text-align: right;\n",
       "    }\n",
       "</style>\n",
       "<table border=\"1\" class=\"dataframe\">\n",
       "  <thead>\n",
       "    <tr style=\"text-align: right;\">\n",
       "      <th>Ticker</th>\n",
       "      <th>COST</th>\n",
       "      <th>NVDA</th>\n",
       "      <th>CRM</th>\n",
       "      <th>CL</th>\n",
       "      <th>AXP</th>\n",
       "      <th>PHG</th>\n",
       "      <th>MSFT</th>\n",
       "      <th>AMD</th>\n",
       "      <th>JPM</th>\n",
       "      <th>PG</th>\n",
       "      <th>...</th>\n",
       "      <th>MCD</th>\n",
       "      <th>NKE</th>\n",
       "      <th>CROX</th>\n",
       "      <th>ADBE</th>\n",
       "      <th>KO</th>\n",
       "      <th>JWN</th>\n",
       "      <th>TM</th>\n",
       "      <th>MA</th>\n",
       "      <th>HLT</th>\n",
       "      <th>DIS</th>\n",
       "    </tr>\n",
       "    <tr>\n",
       "      <th>Date</th>\n",
       "      <th></th>\n",
       "      <th></th>\n",
       "      <th></th>\n",
       "      <th></th>\n",
       "      <th></th>\n",
       "      <th></th>\n",
       "      <th></th>\n",
       "      <th></th>\n",
       "      <th></th>\n",
       "      <th></th>\n",
       "      <th></th>\n",
       "      <th></th>\n",
       "      <th></th>\n",
       "      <th></th>\n",
       "      <th></th>\n",
       "      <th></th>\n",
       "      <th></th>\n",
       "      <th></th>\n",
       "      <th></th>\n",
       "      <th></th>\n",
       "      <th></th>\n",
       "    </tr>\n",
       "  </thead>\n",
       "  <tbody>\n",
       "    <tr>\n",
       "      <th>2000-01-03 00:00:00-05:00</th>\n",
       "      <td>30.799129</td>\n",
       "      <td>0.894729</td>\n",
       "      <td>NaN</td>\n",
       "      <td>18.733959</td>\n",
       "      <td>33.198849</td>\n",
       "      <td>19.158504</td>\n",
       "      <td>36.205605</td>\n",
       "      <td>15.500</td>\n",
       "      <td>24.239759</td>\n",
       "      <td>28.608177</td>\n",
       "      <td>...</td>\n",
       "      <td>22.186100</td>\n",
       "      <td>4.670587</td>\n",
       "      <td>NaN</td>\n",
       "      <td>16.274675</td>\n",
       "      <td>14.781797</td>\n",
       "      <td>7.168196</td>\n",
       "      <td>72.034958</td>\n",
       "      <td>NaN</td>\n",
       "      <td>NaN</td>\n",
       "      <td>23.115253</td>\n",
       "    </tr>\n",
       "    <tr>\n",
       "      <th>2000-01-04 00:00:00-05:00</th>\n",
       "      <td>29.112101</td>\n",
       "      <td>0.870838</td>\n",
       "      <td>NaN</td>\n",
       "      <td>18.244921</td>\n",
       "      <td>31.945318</td>\n",
       "      <td>17.986570</td>\n",
       "      <td>34.982552</td>\n",
       "      <td>14.625</td>\n",
       "      <td>23.707901</td>\n",
       "      <td>28.057699</td>\n",
       "      <td>...</td>\n",
       "      <td>21.731176</td>\n",
       "      <td>4.415828</td>\n",
       "      <td>NaN</td>\n",
       "      <td>14.909399</td>\n",
       "      <td>14.798185</td>\n",
       "      <td>6.889823</td>\n",
       "      <td>68.697418</td>\n",
       "      <td>NaN</td>\n",
       "      <td>NaN</td>\n",
       "      <td>24.469282</td>\n",
       "    </tr>\n",
       "    <tr>\n",
       "      <th>2000-01-05 00:00:00-05:00</th>\n",
       "      <td>29.609568</td>\n",
       "      <td>0.842169</td>\n",
       "      <td>NaN</td>\n",
       "      <td>17.624212</td>\n",
       "      <td>31.133947</td>\n",
       "      <td>18.572540</td>\n",
       "      <td>35.351418</td>\n",
       "      <td>15.000</td>\n",
       "      <td>23.561562</td>\n",
       "      <td>27.523903</td>\n",
       "      <td>...</td>\n",
       "      <td>22.081120</td>\n",
       "      <td>4.670587</td>\n",
       "      <td>NaN</td>\n",
       "      <td>15.204172</td>\n",
       "      <td>14.929290</td>\n",
       "      <td>6.768033</td>\n",
       "      <td>68.975548</td>\n",
       "      <td>NaN</td>\n",
       "      <td>NaN</td>\n",
       "      <td>25.484812</td>\n",
       "    </tr>\n",
       "    <tr>\n",
       "      <th>2000-01-06 00:00:00-05:00</th>\n",
       "      <td>30.204361</td>\n",
       "      <td>0.787218</td>\n",
       "      <td>NaN</td>\n",
       "      <td>17.586590</td>\n",
       "      <td>31.768240</td>\n",
       "      <td>17.392117</td>\n",
       "      <td>34.167198</td>\n",
       "      <td>16.000</td>\n",
       "      <td>23.896061</td>\n",
       "      <td>28.791676</td>\n",
       "      <td>...</td>\n",
       "      <td>21.766169</td>\n",
       "      <td>4.646325</td>\n",
       "      <td>NaN</td>\n",
       "      <td>15.328290</td>\n",
       "      <td>14.945670</td>\n",
       "      <td>7.098604</td>\n",
       "      <td>62.856750</td>\n",
       "      <td>NaN</td>\n",
       "      <td>NaN</td>\n",
       "      <td>24.469282</td>\n",
       "    </tr>\n",
       "    <tr>\n",
       "      <th>2000-01-07 00:00:00-05:00</th>\n",
       "      <td>32.205006</td>\n",
       "      <td>0.800359</td>\n",
       "      <td>NaN</td>\n",
       "      <td>18.639912</td>\n",
       "      <td>32.230747</td>\n",
       "      <td>18.513096</td>\n",
       "      <td>34.613720</td>\n",
       "      <td>16.250</td>\n",
       "      <td>24.335098</td>\n",
       "      <td>31.093674</td>\n",
       "      <td>...</td>\n",
       "      <td>22.326080</td>\n",
       "      <td>4.646325</td>\n",
       "      <td>NaN</td>\n",
       "      <td>16.072987</td>\n",
       "      <td>15.928943</td>\n",
       "      <td>7.098604</td>\n",
       "      <td>63.783829</td>\n",
       "      <td>NaN</td>\n",
       "      <td>NaN</td>\n",
       "      <td>24.082417</td>\n",
       "    </tr>\n",
       "  </tbody>\n",
       "</table>\n",
       "<p>5 rows × 49 columns</p>\n",
       "</div>"
      ],
      "text/plain": [
       "Ticker                          COST      NVDA  CRM         CL        AXP  \\\n",
       "Date                                                                        \n",
       "2000-01-03 00:00:00-05:00  30.799129  0.894729  NaN  18.733959  33.198849   \n",
       "2000-01-04 00:00:00-05:00  29.112101  0.870838  NaN  18.244921  31.945318   \n",
       "2000-01-05 00:00:00-05:00  29.609568  0.842169  NaN  17.624212  31.133947   \n",
       "2000-01-06 00:00:00-05:00  30.204361  0.787218  NaN  17.586590  31.768240   \n",
       "2000-01-07 00:00:00-05:00  32.205006  0.800359  NaN  18.639912  32.230747   \n",
       "\n",
       "Ticker                           PHG       MSFT     AMD        JPM         PG  \\\n",
       "Date                                                                            \n",
       "2000-01-03 00:00:00-05:00  19.158504  36.205605  15.500  24.239759  28.608177   \n",
       "2000-01-04 00:00:00-05:00  17.986570  34.982552  14.625  23.707901  28.057699   \n",
       "2000-01-05 00:00:00-05:00  18.572540  35.351418  15.000  23.561562  27.523903   \n",
       "2000-01-06 00:00:00-05:00  17.392117  34.167198  16.000  23.896061  28.791676   \n",
       "2000-01-07 00:00:00-05:00  18.513096  34.613720  16.250  24.335098  31.093674   \n",
       "\n",
       "Ticker                     ...        MCD       NKE  CROX       ADBE  \\\n",
       "Date                       ...                                         \n",
       "2000-01-03 00:00:00-05:00  ...  22.186100  4.670587   NaN  16.274675   \n",
       "2000-01-04 00:00:00-05:00  ...  21.731176  4.415828   NaN  14.909399   \n",
       "2000-01-05 00:00:00-05:00  ...  22.081120  4.670587   NaN  15.204172   \n",
       "2000-01-06 00:00:00-05:00  ...  21.766169  4.646325   NaN  15.328290   \n",
       "2000-01-07 00:00:00-05:00  ...  22.326080  4.646325   NaN  16.072987   \n",
       "\n",
       "Ticker                            KO       JWN         TM  MA  HLT        DIS  \n",
       "Date                                                                           \n",
       "2000-01-03 00:00:00-05:00  14.781797  7.168196  72.034958 NaN  NaN  23.115253  \n",
       "2000-01-04 00:00:00-05:00  14.798185  6.889823  68.697418 NaN  NaN  24.469282  \n",
       "2000-01-05 00:00:00-05:00  14.929290  6.768033  68.975548 NaN  NaN  25.484812  \n",
       "2000-01-06 00:00:00-05:00  14.945670  7.098604  62.856750 NaN  NaN  24.469282  \n",
       "2000-01-07 00:00:00-05:00  15.928943  7.098604  63.783829 NaN  NaN  24.082417  \n",
       "\n",
       "[5 rows x 49 columns]"
      ]
     },
     "execution_count": 61,
     "metadata": {},
     "output_type": "execute_result"
    }
   ],
   "source": [
    "df.head()"
   ]
  },
  {
   "cell_type": "markdown",
   "id": "74f72b8c",
   "metadata": {},
   "source": [
    "Cutting off dates that are too old - when certain stocks weren't listed yet"
   ]
  },
  {
   "cell_type": "code",
   "execution_count": 62,
   "id": "d61240f0",
   "metadata": {},
   "outputs": [],
   "source": [
    "df.index = pd.to_datetime(df.index, utc=True).tz_convert(None)\n",
    "df.index = df.index.normalize()\n"
   ]
  },
  {
   "cell_type": "code",
   "execution_count": 63,
   "id": "47278a9c",
   "metadata": {},
   "outputs": [],
   "source": [
    "start_date = dt.datetime(2014, 1, 1)\n",
    "end_date = dt.datetime(2023, 1, 1)"
   ]
  },
  {
   "cell_type": "code",
   "execution_count": 64,
   "id": "467dc255",
   "metadata": {},
   "outputs": [],
   "source": [
    "stock_df = df.loc[start_date:end_date]"
   ]
  },
  {
   "cell_type": "markdown",
   "id": "9ae40b5f",
   "metadata": {},
   "source": [
    "Done"
   ]
  },
  {
   "cell_type": "code",
   "execution_count": 65,
   "id": "303372f1",
   "metadata": {},
   "outputs": [
    {
     "data": {
      "application/vnd.microsoft.datawrangler.viewer.v0+json": {
       "columns": [
        {
         "name": "Date",
         "rawType": "datetime64[ns]",
         "type": "datetime"
        },
        {
         "name": "COST",
         "rawType": "float64",
         "type": "float"
        },
        {
         "name": "NVDA",
         "rawType": "float64",
         "type": "float"
        },
        {
         "name": "CRM",
         "rawType": "float64",
         "type": "float"
        },
        {
         "name": "CL",
         "rawType": "float64",
         "type": "float"
        },
        {
         "name": "AXP",
         "rawType": "float64",
         "type": "float"
        },
        {
         "name": "PHG",
         "rawType": "float64",
         "type": "float"
        },
        {
         "name": "MSFT",
         "rawType": "float64",
         "type": "float"
        },
        {
         "name": "AMD",
         "rawType": "float64",
         "type": "float"
        },
        {
         "name": "JPM",
         "rawType": "float64",
         "type": "float"
        },
        {
         "name": "PG",
         "rawType": "float64",
         "type": "float"
        },
        {
         "name": "GOOGL",
         "rawType": "float64",
         "type": "float"
        },
        {
         "name": "LOGI",
         "rawType": "float64",
         "type": "float"
        },
        {
         "name": "DAL",
         "rawType": "float64",
         "type": "float"
        },
        {
         "name": "UBSFY",
         "rawType": "float64",
         "type": "float"
        },
        {
         "name": "AMZN",
         "rawType": "float64",
         "type": "float"
        },
        {
         "name": "UL",
         "rawType": "float64",
         "type": "float"
        },
        {
         "name": "JNJ",
         "rawType": "float64",
         "type": "float"
        },
        {
         "name": "HSY",
         "rawType": "float64",
         "type": "float"
        },
        {
         "name": "FDX",
         "rawType": "float64",
         "type": "float"
        },
        {
         "name": "AEO",
         "rawType": "float64",
         "type": "float"
        },
        {
         "name": "SBUX",
         "rawType": "float64",
         "type": "float"
        },
        {
         "name": "V",
         "rawType": "float64",
         "type": "float"
        },
        {
         "name": "MAR",
         "rawType": "float64",
         "type": "float"
        },
        {
         "name": "FL",
         "rawType": "float64",
         "type": "float"
        },
        {
         "name": "CSCO",
         "rawType": "float64",
         "type": "float"
        },
        {
         "name": "TSLA",
         "rawType": "float64",
         "type": "float"
        },
        {
         "name": "NFLX",
         "rawType": "float64",
         "type": "float"
        },
        {
         "name": "HMC",
         "rawType": "float64",
         "type": "float"
        },
        {
         "name": "LUV",
         "rawType": "float64",
         "type": "float"
        },
        {
         "name": "POAHY",
         "rawType": "float64",
         "type": "float"
        },
        {
         "name": "AAPL",
         "rawType": "float64",
         "type": "float"
        },
        {
         "name": "HD",
         "rawType": "float64",
         "type": "float"
        },
        {
         "name": "CMG",
         "rawType": "float64",
         "type": "float"
        },
        {
         "name": "TGT",
         "rawType": "float64",
         "type": "float"
        },
        {
         "name": "NTDOY",
         "rawType": "float64",
         "type": "float"
        },
        {
         "name": "LVMUY",
         "rawType": "float64",
         "type": "float"
        },
        {
         "name": "MMM",
         "rawType": "float64",
         "type": "float"
        },
        {
         "name": "ADDYY",
         "rawType": "float64",
         "type": "float"
        },
        {
         "name": "SHOP",
         "rawType": "float64",
         "type": "float"
        },
        {
         "name": "MCD",
         "rawType": "float64",
         "type": "float"
        },
        {
         "name": "NKE",
         "rawType": "float64",
         "type": "float"
        },
        {
         "name": "CROX",
         "rawType": "float64",
         "type": "float"
        },
        {
         "name": "ADBE",
         "rawType": "float64",
         "type": "float"
        },
        {
         "name": "KO",
         "rawType": "float64",
         "type": "float"
        },
        {
         "name": "JWN",
         "rawType": "float64",
         "type": "float"
        },
        {
         "name": "TM",
         "rawType": "float64",
         "type": "float"
        },
        {
         "name": "MA",
         "rawType": "float64",
         "type": "float"
        },
        {
         "name": "HLT",
         "rawType": "float64",
         "type": "float"
        },
        {
         "name": "DIS",
         "rawType": "float64",
         "type": "float"
        }
       ],
       "ref": "e756ca4a-ed50-4a0b-8c6c-d2e6ccc32e8d",
       "rows": [
        [
         "2022-12-23 00:00:00",
         "460.01556396484375",
         "152.00592041015625",
         "129.44000244140625",
         "77.95931243896484",
         "145.47254943847656",
         "14.90999984741211",
         "237.11209106445312",
         "64.5199966430664",
         "128.42066955566406",
         "149.7808837890625",
         "89.2300033569336",
         "61.630001068115234",
         "33.09049606323242",
         "5.579999923706055",
         "85.25",
         "49.72343444824219",
         "173.6323699951172",
         "232.67092895507807",
         "173.97679138183594",
         "14.363032341003418",
         "96.77948760986328",
         "204.6431121826172",
         "147.4004669189453",
         "34.16056823730469",
         "46.40060424804688",
         "123.1500015258789",
         "294.9599914550781",
         "23.1200008392334",
         "35.32217025756836",
         "5.071435451507568",
         "131.29981994628906",
         "312.1831359863281",
         "1412.3599853515625",
         "140.10018920898438",
         "10.520000457763672",
         "142.42527770996094",
         "115.07379150390624",
         "66.63688659667969",
         "33.709999084472656",
         "263.21417236328125",
         "115.15291595458984",
         "103.0",
         "338.45001220703125",
         "62.8554916381836",
         "16.518146514892578",
         "137.13999938964844",
         "342.0113220214844",
         "126.0413589477539",
         "88.01000213623047"
        ],
        [
         "2022-12-27 00:00:00",
         "455.8891906738281",
         "141.1597900390625",
         "130.66000366210938",
         "78.44012451171875",
         "144.84918212890625",
         "14.899999618530272",
         "235.3540954589844",
         "63.27000045776367",
         "128.87066650390625",
         "151.08615112304688",
         "87.38999938964844",
         "61.68999862670898",
         "32.8310432434082",
         "5.539999961853027",
         "83.04000091552734",
         "49.76237869262695",
         "173.5834503173828",
         "232.52294921875",
         "175.08436584472656",
         "13.870810508728027",
         "97.69538879394533",
         "205.10044860839844",
         "147.1722869873047",
         "35.704551696777344",
         "46.449466705322266",
         "109.0999984741211",
         "284.1700134277344",
         "22.920000076293945",
         "33.21791076660156",
         "5.080967903137207",
         "129.47760009765625",
         "312.9862976074219",
         "1398.0",
         "142.44906616210938",
         "10.40999984741211",
         "145.81942749023438",
         "115.15042114257812",
         "66.89579010009766",
         "33.38999938964844",
         "262.4960327148437",
         "116.45055389404295",
         "107.97000122070312",
         "335.0899963378906",
         "63.23959732055664",
         "16.093364715576172",
         "136.16000366210938",
         "344.5595092773437",
         "125.35348510742188",
         "86.37000274658203"
        ],
        [
         "2022-12-28 00:00:00",
         "450.4105529785156",
         "140.31007385253906",
         "128.47000122070312",
         "77.34113311767578",
         "142.4942169189453",
         "14.649999618530272",
         "232.9405517578125",
         "62.56999969482422",
         "129.57498168945312",
         "149.1331787109375",
         "86.0199966430664",
         "60.900001525878906",
         "31.92294883728028",
         "5.5",
         "81.81999969482422",
         "49.11977767944336",
         "172.8301544189453",
         "229.7018585205078",
         "171.12876892089844",
         "13.762520790100098",
         "97.1044921875",
         "203.8079528808593",
         "144.44412231445312",
         "35.07730865478516",
         "45.99992370605469",
         "112.70999908447266",
         "276.8800048828125",
         "22.350000381469727",
         "31.50514030456543",
         "4.99517297744751",
         "125.5045394897461",
         "309.2447509765625",
         "1378.280029296875",
         "142.6937255859375",
         "10.369999885559082",
         "143.96356201171875",
         "113.3018035888672",
         "66.14896392822266",
         "32.63999938964844",
         "260.794189453125",
         "113.89491271972656",
         "105.16999816894533",
         "328.3299865722656",
         "62.60927200317383",
         "15.166574478149414",
         "134.1300048828125",
         "340.36895751953125",
         "123.63876342773438",
         "84.16999816894531"
        ],
        [
         "2022-12-29 00:00:00",
         "453.930419921875",
         "145.9780731201172",
         "132.5399932861328",
         "77.88082122802734",
         "145.76939392089844",
         "15.25",
         "239.37664794921875",
         "64.81999969482422",
         "130.31842041015625",
         "149.75143432617188",
         "88.44999694824219",
         "62.560001373291016",
         "32.66139602661133",
         "5.730000019073486",
         "84.18000030517578",
         "49.26582336425781",
         "173.7106475830078",
         "230.07669067382807",
         "173.6010284423828",
         "13.77236557006836",
         "98.2567367553711",
         "206.86024475097656",
         "146.79530334472656",
         "35.945796966552734",
         "46.42014694213867",
         "121.81999969482422",
         "291.1199951171875",
         "22.89999961853028",
         "32.669830322265625",
         "5.157229900360107",
         "129.05938720703125",
         "313.8286437988281",
         "1404.949951171875",
         "145.20896911621094",
         "10.529999732971191",
         "146.82180786132812",
         "115.48565673828124",
         "68.04092407226562",
         "35.099998474121094",
         "261.6008605957031",
         "116.24253845214844",
         "107.69000244140624",
         "337.5799865722656",
         "62.9835319519043",
         "15.533429145812988",
         "137.41000366210938",
         "346.6000061035156",
         "125.65255737304688",
         "87.18000030517578"
        ],
        [
         "2022-12-30 00:00:00",
         "453.9005432128906",
         "146.08802795410156",
         "132.58999633789062",
         "77.31169891357422",
         "146.19485473632812",
         "14.989999771118164",
         "238.19471740722656",
         "64.7699966430664",
         "131.1792755126953",
         "148.7406005859375",
         "88.2300033569336",
         "62.25",
         "32.7911262512207",
         "5.619999885559082",
         "84.0",
         "49.02241897583008",
         "172.8203582763672",
         "228.4195556640625",
         "171.277099609375",
         "13.74283218383789",
         "97.69538879394533",
         "206.56198120117188",
         "147.7080078125",
         "36.466888427734375",
         "46.55696487426758",
         "123.18000030517578",
         "294.8800048828125",
         "22.86000061035156",
         "32.95365524291992",
         "5.138164520263672",
         "129.3780059814453",
         "309.3720703125",
         "1387.489990234375",
         "145.86468505859375",
         "10.420000076293944",
         "143.77499389648438",
         "114.86306762695312",
         "67.45341491699219",
         "34.709999084472656",
         "259.23992919921875",
         "115.90575408935548",
         "108.43000030517578",
         "336.5299987792969",
         "62.64866638183594",
         "15.58169937133789",
         "136.5800018310547",
         "346.12225341796875",
         "125.9715805053711",
         "86.87999725341797"
        ]
       ],
       "shape": {
        "columns": 49,
        "rows": 5
       }
      },
      "text/html": [
       "<div>\n",
       "<style scoped>\n",
       "    .dataframe tbody tr th:only-of-type {\n",
       "        vertical-align: middle;\n",
       "    }\n",
       "\n",
       "    .dataframe tbody tr th {\n",
       "        vertical-align: top;\n",
       "    }\n",
       "\n",
       "    .dataframe thead th {\n",
       "        text-align: right;\n",
       "    }\n",
       "</style>\n",
       "<table border=\"1\" class=\"dataframe\">\n",
       "  <thead>\n",
       "    <tr style=\"text-align: right;\">\n",
       "      <th>Ticker</th>\n",
       "      <th>COST</th>\n",
       "      <th>NVDA</th>\n",
       "      <th>CRM</th>\n",
       "      <th>CL</th>\n",
       "      <th>AXP</th>\n",
       "      <th>PHG</th>\n",
       "      <th>MSFT</th>\n",
       "      <th>AMD</th>\n",
       "      <th>JPM</th>\n",
       "      <th>PG</th>\n",
       "      <th>...</th>\n",
       "      <th>MCD</th>\n",
       "      <th>NKE</th>\n",
       "      <th>CROX</th>\n",
       "      <th>ADBE</th>\n",
       "      <th>KO</th>\n",
       "      <th>JWN</th>\n",
       "      <th>TM</th>\n",
       "      <th>MA</th>\n",
       "      <th>HLT</th>\n",
       "      <th>DIS</th>\n",
       "    </tr>\n",
       "    <tr>\n",
       "      <th>Date</th>\n",
       "      <th></th>\n",
       "      <th></th>\n",
       "      <th></th>\n",
       "      <th></th>\n",
       "      <th></th>\n",
       "      <th></th>\n",
       "      <th></th>\n",
       "      <th></th>\n",
       "      <th></th>\n",
       "      <th></th>\n",
       "      <th></th>\n",
       "      <th></th>\n",
       "      <th></th>\n",
       "      <th></th>\n",
       "      <th></th>\n",
       "      <th></th>\n",
       "      <th></th>\n",
       "      <th></th>\n",
       "      <th></th>\n",
       "      <th></th>\n",
       "      <th></th>\n",
       "    </tr>\n",
       "  </thead>\n",
       "  <tbody>\n",
       "    <tr>\n",
       "      <th>2022-12-23</th>\n",
       "      <td>460.015564</td>\n",
       "      <td>152.005920</td>\n",
       "      <td>129.440002</td>\n",
       "      <td>77.959312</td>\n",
       "      <td>145.472549</td>\n",
       "      <td>14.91</td>\n",
       "      <td>237.112091</td>\n",
       "      <td>64.519997</td>\n",
       "      <td>128.420670</td>\n",
       "      <td>149.780884</td>\n",
       "      <td>...</td>\n",
       "      <td>263.214172</td>\n",
       "      <td>115.152916</td>\n",
       "      <td>103.000000</td>\n",
       "      <td>338.450012</td>\n",
       "      <td>62.855492</td>\n",
       "      <td>16.518147</td>\n",
       "      <td>137.139999</td>\n",
       "      <td>342.011322</td>\n",
       "      <td>126.041359</td>\n",
       "      <td>88.010002</td>\n",
       "    </tr>\n",
       "    <tr>\n",
       "      <th>2022-12-27</th>\n",
       "      <td>455.889191</td>\n",
       "      <td>141.159790</td>\n",
       "      <td>130.660004</td>\n",
       "      <td>78.440125</td>\n",
       "      <td>144.849182</td>\n",
       "      <td>14.90</td>\n",
       "      <td>235.354095</td>\n",
       "      <td>63.270000</td>\n",
       "      <td>128.870667</td>\n",
       "      <td>151.086151</td>\n",
       "      <td>...</td>\n",
       "      <td>262.496033</td>\n",
       "      <td>116.450554</td>\n",
       "      <td>107.970001</td>\n",
       "      <td>335.089996</td>\n",
       "      <td>63.239597</td>\n",
       "      <td>16.093365</td>\n",
       "      <td>136.160004</td>\n",
       "      <td>344.559509</td>\n",
       "      <td>125.353485</td>\n",
       "      <td>86.370003</td>\n",
       "    </tr>\n",
       "    <tr>\n",
       "      <th>2022-12-28</th>\n",
       "      <td>450.410553</td>\n",
       "      <td>140.310074</td>\n",
       "      <td>128.470001</td>\n",
       "      <td>77.341133</td>\n",
       "      <td>142.494217</td>\n",
       "      <td>14.65</td>\n",
       "      <td>232.940552</td>\n",
       "      <td>62.570000</td>\n",
       "      <td>129.574982</td>\n",
       "      <td>149.133179</td>\n",
       "      <td>...</td>\n",
       "      <td>260.794189</td>\n",
       "      <td>113.894913</td>\n",
       "      <td>105.169998</td>\n",
       "      <td>328.329987</td>\n",
       "      <td>62.609272</td>\n",
       "      <td>15.166574</td>\n",
       "      <td>134.130005</td>\n",
       "      <td>340.368958</td>\n",
       "      <td>123.638763</td>\n",
       "      <td>84.169998</td>\n",
       "    </tr>\n",
       "    <tr>\n",
       "      <th>2022-12-29</th>\n",
       "      <td>453.930420</td>\n",
       "      <td>145.978073</td>\n",
       "      <td>132.539993</td>\n",
       "      <td>77.880821</td>\n",
       "      <td>145.769394</td>\n",
       "      <td>15.25</td>\n",
       "      <td>239.376648</td>\n",
       "      <td>64.820000</td>\n",
       "      <td>130.318420</td>\n",
       "      <td>149.751434</td>\n",
       "      <td>...</td>\n",
       "      <td>261.600861</td>\n",
       "      <td>116.242538</td>\n",
       "      <td>107.690002</td>\n",
       "      <td>337.579987</td>\n",
       "      <td>62.983532</td>\n",
       "      <td>15.533429</td>\n",
       "      <td>137.410004</td>\n",
       "      <td>346.600006</td>\n",
       "      <td>125.652557</td>\n",
       "      <td>87.180000</td>\n",
       "    </tr>\n",
       "    <tr>\n",
       "      <th>2022-12-30</th>\n",
       "      <td>453.900543</td>\n",
       "      <td>146.088028</td>\n",
       "      <td>132.589996</td>\n",
       "      <td>77.311699</td>\n",
       "      <td>146.194855</td>\n",
       "      <td>14.99</td>\n",
       "      <td>238.194717</td>\n",
       "      <td>64.769997</td>\n",
       "      <td>131.179276</td>\n",
       "      <td>148.740601</td>\n",
       "      <td>...</td>\n",
       "      <td>259.239929</td>\n",
       "      <td>115.905754</td>\n",
       "      <td>108.430000</td>\n",
       "      <td>336.529999</td>\n",
       "      <td>62.648666</td>\n",
       "      <td>15.581699</td>\n",
       "      <td>136.580002</td>\n",
       "      <td>346.122253</td>\n",
       "      <td>125.971581</td>\n",
       "      <td>86.879997</td>\n",
       "    </tr>\n",
       "  </tbody>\n",
       "</table>\n",
       "<p>5 rows × 49 columns</p>\n",
       "</div>"
      ],
      "text/plain": [
       "Ticker            COST        NVDA         CRM         CL         AXP    PHG  \\\n",
       "Date                                                                           \n",
       "2022-12-23  460.015564  152.005920  129.440002  77.959312  145.472549  14.91   \n",
       "2022-12-27  455.889191  141.159790  130.660004  78.440125  144.849182  14.90   \n",
       "2022-12-28  450.410553  140.310074  128.470001  77.341133  142.494217  14.65   \n",
       "2022-12-29  453.930420  145.978073  132.539993  77.880821  145.769394  15.25   \n",
       "2022-12-30  453.900543  146.088028  132.589996  77.311699  146.194855  14.99   \n",
       "\n",
       "Ticker            MSFT        AMD         JPM          PG  ...         MCD  \\\n",
       "Date                                                       ...               \n",
       "2022-12-23  237.112091  64.519997  128.420670  149.780884  ...  263.214172   \n",
       "2022-12-27  235.354095  63.270000  128.870667  151.086151  ...  262.496033   \n",
       "2022-12-28  232.940552  62.570000  129.574982  149.133179  ...  260.794189   \n",
       "2022-12-29  239.376648  64.820000  130.318420  149.751434  ...  261.600861   \n",
       "2022-12-30  238.194717  64.769997  131.179276  148.740601  ...  259.239929   \n",
       "\n",
       "Ticker             NKE        CROX        ADBE         KO        JWN  \\\n",
       "Date                                                                   \n",
       "2022-12-23  115.152916  103.000000  338.450012  62.855492  16.518147   \n",
       "2022-12-27  116.450554  107.970001  335.089996  63.239597  16.093365   \n",
       "2022-12-28  113.894913  105.169998  328.329987  62.609272  15.166574   \n",
       "2022-12-29  116.242538  107.690002  337.579987  62.983532  15.533429   \n",
       "2022-12-30  115.905754  108.430000  336.529999  62.648666  15.581699   \n",
       "\n",
       "Ticker              TM          MA         HLT        DIS  \n",
       "Date                                                       \n",
       "2022-12-23  137.139999  342.011322  126.041359  88.010002  \n",
       "2022-12-27  136.160004  344.559509  125.353485  86.370003  \n",
       "2022-12-28  134.130005  340.368958  123.638763  84.169998  \n",
       "2022-12-29  137.410004  346.600006  125.652557  87.180000  \n",
       "2022-12-30  136.580002  346.122253  125.971581  86.879997  \n",
       "\n",
       "[5 rows x 49 columns]"
      ]
     },
     "execution_count": 65,
     "metadata": {},
     "output_type": "execute_result"
    }
   ],
   "source": [
    "stock_df.tail()"
   ]
  },
  {
   "cell_type": "markdown",
   "id": "4b7413e6",
   "metadata": {},
   "source": [
    "### Creating training data"
   ]
  },
  {
   "cell_type": "markdown",
   "id": "3a9d9dc2",
   "metadata": {},
   "source": [
    "Generating random portofolios"
   ]
  },
  {
   "cell_type": "code",
   "execution_count": 66,
   "id": "d684191f",
   "metadata": {},
   "outputs": [],
   "source": [
    "def generate_random_portfolio(\n",
    "    tickers,\n",
    "    min_stocks=1,\n",
    "    max_stocks=10,\n",
    "):\n",
    "    \"\"\"Generate a random portfolio with stock tickers, weights, investment amount, and time horizon.\"\"\"\n",
    "\n",
    "   \n",
    "    stocks_count = random.randint(min_stocks, max_stocks) \n",
    "  \n",
    "    # Select random stocks from the list\n",
    "    stocks_list = random.sample(tickers, stocks_count)\n",
    "\n",
    "    # Generate random weights that sum to 1\n",
    "    raw_weights = np.random.uniform(0.1, 1.0, stocks_count)\n",
    "    stocks_weights = (raw_weights / np.sum(raw_weights)).tolist()\n",
    "    stocks_weights = [round(weight, 3) for weight in stocks_weights]\n",
    "\n",
    "    # Make sure weights sum to exactly 1\n",
    "    diff = 1 - sum(stocks_weights)\n",
    "    stocks_weights[0] += diff  # Add any rounding difference to the first weight\n",
    "\n",
    "   \n",
    "\n",
    "    # Create and return the portfolio dictionary\n",
    "    portfolio = {\n",
    "        \"stocks\": stocks_list,\n",
    "        \"weights\": stocks_weights,\n",
    "    }\n",
    "\n",
    "    return portfolio"
   ]
  },
  {
   "cell_type": "code",
   "execution_count": 67,
   "id": "e731902b",
   "metadata": {},
   "outputs": [],
   "source": [
    "portofolios = []\n",
    "for i in range(120):\n",
    "    portfolio = generate_random_portfolio(tickers, 1, 10) # 3, 10\n",
    "    portofolios.append(portfolio)\n"
   ]
  },
  {
   "cell_type": "markdown",
   "id": "73118bb0",
   "metadata": {},
   "source": [
    "Preparing the data before feeding it into the LSTM"
   ]
  },
  {
   "cell_type": "code",
   "execution_count": 68,
   "id": "f57f1932",
   "metadata": {},
   "outputs": [],
   "source": [
    "def get_portofolio_returns(portofolio):\n",
    "    \"\"\"Calculate the returns of a portfolio based on its weights and stock prices.\"\"\"\n",
    "\n",
    "    # Get the stock prices for the selected stocks\n",
    "    stock_prices = stock_df[portofolio['stocks']]\n",
    "\n",
    "    # Calculate daily returns\n",
    "    daily_returns = stock_prices.pct_change().dropna()\n",
    "\n",
    "    # Calculate weighted returns\n",
    "    weighted_returns = daily_returns.dot(portofolio['weights'])\n",
    "\n",
    "    return weighted_returns"
   ]
  },
  {
   "cell_type": "code",
   "execution_count": 69,
   "id": "a91616a4",
   "metadata": {},
   "outputs": [],
   "source": [
    "def create_lstm_dataset(data, lookback=30):\n",
    "    \"\"\"\n",
    "    Transforms a 1D Series or 2D DataFrame into sequences for LSTM input.\n",
    "\n",
    "    Parameters:\n",
    "        data (pd.Series or pd.DataFrame): Time series of returns or features.\n",
    "        lookback (int): Number of time steps to include in each input sequence.\n",
    "\n",
    "    Returns:\n",
    "        X (np.ndarray): Input sequences of shape (n_samples, lookback, n_features)\n",
    "        y (np.ndarray): Target values of shape (n_samples,)\n",
    "    \"\"\"\n",
    "    import numpy as np\n",
    "\n",
    "    if isinstance(data, pd.Series):\n",
    "        data = data.to_frame()\n",
    "\n",
    "    values = data.values\n",
    "    X, y = [], []\n",
    "\n",
    "    for i in range(len(values) - lookback):\n",
    "        X.append(values[i:i+lookback])\n",
    "        y.append(values[i+lookback][0])  # predict the next time step (first column)\n",
    "\n",
    "    return np.array(X), np.array(y)\n"
   ]
  },
  {
   "cell_type": "code",
   "execution_count": 70,
   "id": "62d6ef6d",
   "metadata": {},
   "outputs": [],
   "source": [
    "X, Y = [], []\n",
    "for portfolio in portofolios:\n",
    "    weighted_returns = get_portofolio_returns(portfolio)\n",
    "    temp_x, temp_y = create_lstm_dataset(weighted_returns)\n",
    "    X.append(temp_x)\n",
    "    Y.append(temp_y)\n",
    "X = np.concatenate(X, axis=0)\n",
    "Y = np.concatenate(Y, axis=0)"
   ]
  },
  {
   "cell_type": "code",
   "execution_count": 71,
   "id": "d24651ff",
   "metadata": {},
   "outputs": [
    {
     "data": {
      "text/plain": [
       "((264036, 30, 1), (264036,))"
      ]
     },
     "execution_count": 71,
     "metadata": {},
     "output_type": "execute_result"
    }
   ],
   "source": [
    "X.shape, Y.shape"
   ]
  },
  {
   "cell_type": "code",
   "execution_count": null,
   "id": "cafe8b75",
   "metadata": {},
   "outputs": [],
   "source": []
  },
  {
   "cell_type": "code",
   "execution_count": 72,
   "id": "2e9eff2b",
   "metadata": {},
   "outputs": [],
   "source": [
    "\n",
    "x_train, x_test, y_train, y_test = train_test_split(\n",
    "    X, Y, test_size=0.2, shuffle=True, random_state=42\n",
    ")"
   ]
  },
  {
   "cell_type": "markdown",
   "id": "aa5c3b72",
   "metadata": {},
   "source": [
    "### LSTM"
   ]
  },
  {
   "cell_type": "code",
   "execution_count": 73,
   "id": "4fab7b2e",
   "metadata": {},
   "outputs": [],
   "source": [
    "import torch\n",
    "import torch.nn as nn\n",
    "\n",
    "class LSTMModel(nn.Module):\n",
    "\n",
    "    LOOKBACK = 30\n",
    "\n",
    "    def __init__(self, input_size=1, hidden_layer_size=50, intermediate_size=10, output_size=1):\n",
    "        super(LSTMModel, self).__init__()\n",
    "\n",
    "        self.lstm = nn.LSTM(input_size, hidden_layer_size, batch_first=True)\n",
    "        self.dropout = nn.Dropout(0.2)\n",
    "\n",
    "        self.fc1 = nn.Linear(hidden_layer_size, intermediate_size)\n",
    "        self.relu = nn.LeakyReLU()\n",
    "\n",
    "        self.fc2 = nn.Linear(intermediate_size, output_size)\n",
    "\n",
    "    def forward(self, x):\n",
    "        lstm_out, _ = self.lstm(x)\n",
    "        lstm_out = self.dropout(lstm_out)\n",
    "        last_time_step = lstm_out[:, -1, :]\n",
    "\n",
    "        hidden_out = self.relu(self.fc1(last_time_step))\n",
    "        output = self.fc2(hidden_out)\n",
    "\n",
    "        return output\n"
   ]
  },
  {
   "cell_type": "code",
   "execution_count": 74,
   "id": "0ff9dd03",
   "metadata": {},
   "outputs": [],
   "source": [
    "# Initialize the model\n",
    "model = LSTMModel().to(device)\n",
    "\n",
    "\n"
   ]
  },
  {
   "cell_type": "code",
   "execution_count": 75,
   "id": "e768d615",
   "metadata": {},
   "outputs": [],
   "source": [
    "# Convert data to PyTorch tensors\n",
    "X_train_tensor = torch.tensor(x_train, dtype=torch.float32).to(device)\n",
    "y_train_tensor = torch.tensor(y_train, dtype=torch.float32).to(device)\n",
    "X_val_tensor = torch.tensor(x_test, dtype=torch.float32).to(device)\n",
    "y_val_tensor = torch.tensor(y_test, dtype=torch.float32).to(device)"
   ]
  },
  {
   "cell_type": "code",
   "execution_count": 76,
   "id": "50c5351d",
   "metadata": {},
   "outputs": [
    {
     "data": {
      "text/plain": [
       "torch.Size([211228, 30, 1])"
      ]
     },
     "execution_count": 76,
     "metadata": {},
     "output_type": "execute_result"
    }
   ],
   "source": [
    "X_train_tensor.shape"
   ]
  },
  {
   "cell_type": "code",
   "execution_count": 77,
   "id": "014c0e8c",
   "metadata": {},
   "outputs": [],
   "source": [
    "# Define loss function, optimizer and scheduler\n",
    "\n",
    "\n",
    "loss_function = nn.MSELoss()  # Mean Squared Error for regression\n",
    "optimizer = optim.Adam(model.parameters(), lr=0.001)\n"
   ]
  },
  {
   "cell_type": "code",
   "execution_count": 78,
   "id": "3caa10f9",
   "metadata": {},
   "outputs": [
    {
     "name": "stdout",
     "output_type": "stream",
     "text": [
      "Epoch 1/200, Loss: 0.0004, RMSE Train: 0.0209, RMSE Val: 0.0154\n",
      "Epoch 2/200, Loss: 0.0007, RMSE Train: 0.0269, RMSE Val: 0.0154\n",
      "Epoch 3/200, Loss: 0.0001, RMSE Train: 0.0112, RMSE Val: 0.0154\n",
      "Epoch 4/200, Loss: 0.0001, RMSE Train: 0.0117, RMSE Val: 0.0150\n",
      "Epoch 5/200, Loss: 0.0002, RMSE Train: 0.0136, RMSE Val: 0.0150\n",
      "Epoch 6/200, Loss: 0.0002, RMSE Train: 0.0147, RMSE Val: 0.0150\n",
      "Epoch 7/200, Loss: 0.0002, RMSE Train: 0.0145, RMSE Val: 0.0150\n",
      "Epoch 8/200, Loss: 0.0001, RMSE Train: 0.0119, RMSE Val: 0.0150\n",
      "Epoch 9/200, Loss: 0.0001, RMSE Train: 0.0106, RMSE Val: 0.0149\n",
      "Epoch 10/200, Loss: 0.0001, RMSE Train: 0.0097, RMSE Val: 0.0148\n",
      "Epoch 11/200, Loss: 0.0001, RMSE Train: 0.0119, RMSE Val: 0.0145\n",
      "Epoch 12/200, Loss: 0.0001, RMSE Train: 0.0092, RMSE Val: 0.0146\n",
      "Epoch 13/200, Loss: 0.0004, RMSE Train: 0.0212, RMSE Val: 0.0144\n",
      "Epoch 14/200, Loss: 0.0001, RMSE Train: 0.0089, RMSE Val: 0.0145\n",
      "Epoch 15/200, Loss: 0.0002, RMSE Train: 0.0137, RMSE Val: 0.0144\n",
      "Epoch 16/200, Loss: 0.0001, RMSE Train: 0.0122, RMSE Val: 0.0143\n",
      "Epoch 17/200, Loss: 0.0003, RMSE Train: 0.0173, RMSE Val: 0.0143\n",
      "Epoch 18/200, Loss: 0.0002, RMSE Train: 0.0125, RMSE Val: 0.0144\n",
      "Epoch 19/200, Loss: 0.0002, RMSE Train: 0.0127, RMSE Val: 0.0143\n",
      "Epoch 20/200, Loss: 0.0001, RMSE Train: 0.0110, RMSE Val: 0.0143\n",
      "Epoch 21/200, Loss: 0.0005, RMSE Train: 0.0216, RMSE Val: 0.0142\n",
      "Epoch 22/200, Loss: 0.0002, RMSE Train: 0.0127, RMSE Val: 0.0142\n",
      "Epoch 23/200, Loss: 0.0002, RMSE Train: 0.0136, RMSE Val: 0.0141\n",
      "Epoch 24/200, Loss: 0.0002, RMSE Train: 0.0140, RMSE Val: 0.0141\n",
      "Epoch 25/200, Loss: 0.0002, RMSE Train: 0.0123, RMSE Val: 0.0140\n",
      "Epoch 26/200, Loss: 0.0003, RMSE Train: 0.0163, RMSE Val: 0.0140\n",
      "Epoch 27/200, Loss: 0.0003, RMSE Train: 0.0174, RMSE Val: 0.0140\n",
      "Epoch 28/200, Loss: 0.0001, RMSE Train: 0.0114, RMSE Val: 0.0140\n",
      "Epoch 29/200, Loss: 0.0001, RMSE Train: 0.0099, RMSE Val: 0.0140\n",
      "Epoch 30/200, Loss: 0.0006, RMSE Train: 0.0235, RMSE Val: 0.0140\n",
      "Epoch 31/200, Loss: 0.0005, RMSE Train: 0.0220, RMSE Val: 0.0140\n",
      "Epoch 32/200, Loss: 0.0003, RMSE Train: 0.0165, RMSE Val: 0.0139\n",
      "Epoch 33/200, Loss: 0.0001, RMSE Train: 0.0109, RMSE Val: 0.0139\n",
      "Epoch 34/200, Loss: 0.0002, RMSE Train: 0.0136, RMSE Val: 0.0138\n",
      "Epoch 35/200, Loss: 0.0001, RMSE Train: 0.0115, RMSE Val: 0.0139\n",
      "Epoch 36/200, Loss: 0.0003, RMSE Train: 0.0164, RMSE Val: 0.0137\n",
      "Epoch 37/200, Loss: 0.0001, RMSE Train: 0.0121, RMSE Val: 0.0138\n",
      "Epoch 38/200, Loss: 0.0003, RMSE Train: 0.0179, RMSE Val: 0.0137\n",
      "Epoch 39/200, Loss: 0.0001, RMSE Train: 0.0110, RMSE Val: 0.0136\n",
      "Epoch 40/200, Loss: 0.0001, RMSE Train: 0.0118, RMSE Val: 0.0136\n",
      "Epoch 41/200, Loss: 0.0001, RMSE Train: 0.0122, RMSE Val: 0.0136\n",
      "Epoch 42/200, Loss: 0.0002, RMSE Train: 0.0130, RMSE Val: 0.0135\n",
      "Epoch 43/200, Loss: 0.0001, RMSE Train: 0.0088, RMSE Val: 0.0135\n",
      "Epoch 44/200, Loss: 0.0001, RMSE Train: 0.0087, RMSE Val: 0.0134\n",
      "Epoch 45/200, Loss: 0.0002, RMSE Train: 0.0145, RMSE Val: 0.0133\n",
      "Epoch 46/200, Loss: 0.0002, RMSE Train: 0.0144, RMSE Val: 0.0134\n",
      "Epoch 47/200, Loss: 0.0003, RMSE Train: 0.0185, RMSE Val: 0.0134\n",
      "Epoch 48/200, Loss: 0.0001, RMSE Train: 0.0122, RMSE Val: 0.0133\n",
      "Epoch 49/200, Loss: 0.0001, RMSE Train: 0.0091, RMSE Val: 0.0132\n",
      "Epoch 50/200, Loss: 0.0003, RMSE Train: 0.0169, RMSE Val: 0.0131\n",
      "Epoch 51/200, Loss: 0.0002, RMSE Train: 0.0138, RMSE Val: 0.0131\n",
      "Epoch 52/200, Loss: 0.0002, RMSE Train: 0.0134, RMSE Val: 0.0131\n",
      "Epoch 53/200, Loss: 0.0003, RMSE Train: 0.0173, RMSE Val: 0.0131\n",
      "Epoch 54/200, Loss: 0.0001, RMSE Train: 0.0102, RMSE Val: 0.0130\n",
      "Epoch 55/200, Loss: 0.0004, RMSE Train: 0.0199, RMSE Val: 0.0130\n",
      "Epoch 56/200, Loss: 0.0001, RMSE Train: 0.0104, RMSE Val: 0.0130\n",
      "Epoch 57/200, Loss: 0.0002, RMSE Train: 0.0123, RMSE Val: 0.0129\n",
      "Epoch 58/200, Loss: 0.0002, RMSE Train: 0.0135, RMSE Val: 0.0129\n",
      "Epoch 59/200, Loss: 0.0002, RMSE Train: 0.0136, RMSE Val: 0.0129\n",
      "Epoch 60/200, Loss: 0.0001, RMSE Train: 0.0095, RMSE Val: 0.0132\n",
      "Epoch 61/200, Loss: 0.0001, RMSE Train: 0.0100, RMSE Val: 0.0129\n",
      "Epoch 62/200, Loss: 0.0001, RMSE Train: 0.0103, RMSE Val: 0.0128\n",
      "Epoch 63/200, Loss: 0.0003, RMSE Train: 0.0168, RMSE Val: 0.0128\n",
      "Epoch 64/200, Loss: 0.0001, RMSE Train: 0.0115, RMSE Val: 0.0128\n",
      "Epoch 65/200, Loss: 0.0001, RMSE Train: 0.0101, RMSE Val: 0.0128\n",
      "Epoch 66/200, Loss: 0.0001, RMSE Train: 0.0120, RMSE Val: 0.0128\n",
      "Epoch 67/200, Loss: 0.0001, RMSE Train: 0.0091, RMSE Val: 0.0127\n",
      "Epoch 68/200, Loss: 0.0002, RMSE Train: 0.0158, RMSE Val: 0.0128\n",
      "Epoch 69/200, Loss: 0.0001, RMSE Train: 0.0108, RMSE Val: 0.0128\n",
      "Epoch 70/200, Loss: 0.0001, RMSE Train: 0.0105, RMSE Val: 0.0128\n",
      "Epoch 71/200, Loss: 0.0001, RMSE Train: 0.0080, RMSE Val: 0.0128\n",
      "Epoch 72/200, Loss: 0.0001, RMSE Train: 0.0107, RMSE Val: 0.0127\n",
      "Epoch 73/200, Loss: 0.0001, RMSE Train: 0.0122, RMSE Val: 0.0127\n",
      "Epoch 74/200, Loss: 0.0002, RMSE Train: 0.0134, RMSE Val: 0.0127\n",
      "Epoch 75/200, Loss: 0.0001, RMSE Train: 0.0108, RMSE Val: 0.0127\n",
      "Epoch 76/200, Loss: 0.0003, RMSE Train: 0.0170, RMSE Val: 0.0126\n",
      "Epoch 77/200, Loss: 0.0001, RMSE Train: 0.0098, RMSE Val: 0.0126\n",
      "Epoch 78/200, Loss: 0.0003, RMSE Train: 0.0160, RMSE Val: 0.0126\n",
      "Epoch 79/200, Loss: 0.0002, RMSE Train: 0.0136, RMSE Val: 0.0127\n",
      "Epoch 80/200, Loss: 0.0003, RMSE Train: 0.0165, RMSE Val: 0.0126\n",
      "Epoch 81/200, Loss: 0.0001, RMSE Train: 0.0107, RMSE Val: 0.0126\n",
      "Epoch 82/200, Loss: 0.0002, RMSE Train: 0.0134, RMSE Val: 0.0127\n",
      "Epoch 83/200, Loss: 0.0003, RMSE Train: 0.0159, RMSE Val: 0.0126\n",
      "Epoch 84/200, Loss: 0.0002, RMSE Train: 0.0137, RMSE Val: 0.0126\n",
      "Epoch 85/200, Loss: 0.0002, RMSE Train: 0.0143, RMSE Val: 0.0127\n",
      "Epoch 86/200, Loss: 0.0001, RMSE Train: 0.0118, RMSE Val: 0.0126\n",
      "Epoch 87/200, Loss: 0.0004, RMSE Train: 0.0192, RMSE Val: 0.0126\n",
      "Epoch 88/200, Loss: 0.0003, RMSE Train: 0.0169, RMSE Val: 0.0126\n",
      "Epoch 89/200, Loss: 0.0001, RMSE Train: 0.0114, RMSE Val: 0.0125\n",
      "Epoch 90/200, Loss: 0.0001, RMSE Train: 0.0095, RMSE Val: 0.0126\n",
      "Epoch 91/200, Loss: 0.0003, RMSE Train: 0.0185, RMSE Val: 0.0125\n",
      "Epoch 92/200, Loss: 0.0002, RMSE Train: 0.0155, RMSE Val: 0.0125\n",
      "Epoch 93/200, Loss: 0.0005, RMSE Train: 0.0217, RMSE Val: 0.0125\n",
      "Epoch 94/200, Loss: 0.0001, RMSE Train: 0.0116, RMSE Val: 0.0125\n",
      "Epoch 95/200, Loss: 0.0001, RMSE Train: 0.0104, RMSE Val: 0.0125\n",
      "Epoch 96/200, Loss: 0.0001, RMSE Train: 0.0117, RMSE Val: 0.0124\n",
      "Epoch 97/200, Loss: 0.0002, RMSE Train: 0.0130, RMSE Val: 0.0124\n",
      "Epoch 98/200, Loss: 0.0002, RMSE Train: 0.0140, RMSE Val: 0.0124\n",
      "Epoch 99/200, Loss: 0.0002, RMSE Train: 0.0132, RMSE Val: 0.0125\n",
      "Epoch 100/200, Loss: 0.0001, RMSE Train: 0.0121, RMSE Val: 0.0125\n",
      "Epoch 101/200, Loss: 0.0001, RMSE Train: 0.0120, RMSE Val: 0.0124\n",
      "Epoch 102/200, Loss: 0.0002, RMSE Train: 0.0153, RMSE Val: 0.0124\n",
      "Epoch 103/200, Loss: 0.0003, RMSE Train: 0.0176, RMSE Val: 0.0125\n",
      "Epoch 104/200, Loss: 0.0001, RMSE Train: 0.0110, RMSE Val: 0.0124\n",
      "Epoch 105/200, Loss: 0.0002, RMSE Train: 0.0143, RMSE Val: 0.0124\n",
      "Epoch 106/200, Loss: 0.0002, RMSE Train: 0.0131, RMSE Val: 0.0125\n",
      "Epoch 107/200, Loss: 0.0001, RMSE Train: 0.0104, RMSE Val: 0.0125\n",
      "Epoch 108/200, Loss: 0.0002, RMSE Train: 0.0142, RMSE Val: 0.0124\n",
      "Epoch 109/200, Loss: 0.0028, RMSE Train: 0.0530, RMSE Val: 0.0125\n",
      "Epoch 110/200, Loss: 0.0002, RMSE Train: 0.0129, RMSE Val: 0.0125\n",
      "Epoch 111/200, Loss: 0.0001, RMSE Train: 0.0078, RMSE Val: 0.0124\n",
      "Epoch 112/200, Loss: 0.0001, RMSE Train: 0.0099, RMSE Val: 0.0124\n",
      "Epoch 113/200, Loss: 0.0002, RMSE Train: 0.0152, RMSE Val: 0.0124\n",
      "Epoch 114/200, Loss: 0.0001, RMSE Train: 0.0097, RMSE Val: 0.0124\n",
      "Epoch 115/200, Loss: 0.0001, RMSE Train: 0.0102, RMSE Val: 0.0125\n",
      "Epoch 116/200, Loss: 0.0001, RMSE Train: 0.0109, RMSE Val: 0.0124\n",
      "Epoch 117/200, Loss: 0.0002, RMSE Train: 0.0139, RMSE Val: 0.0124\n",
      "Epoch 118/200, Loss: 0.0001, RMSE Train: 0.0096, RMSE Val: 0.0124\n",
      "Epoch 119/200, Loss: 0.0001, RMSE Train: 0.0096, RMSE Val: 0.0124\n",
      "Epoch 120/200, Loss: 0.0002, RMSE Train: 0.0154, RMSE Val: 0.0123\n",
      "Epoch 121/200, Loss: 0.0002, RMSE Train: 0.0134, RMSE Val: 0.0124\n",
      "Epoch 122/200, Loss: 0.0001, RMSE Train: 0.0108, RMSE Val: 0.0124\n",
      "Epoch 123/200, Loss: 0.0001, RMSE Train: 0.0100, RMSE Val: 0.0124\n",
      "Epoch 124/200, Loss: 0.0001, RMSE Train: 0.0087, RMSE Val: 0.0124\n",
      "Epoch 125/200, Loss: 0.0001, RMSE Train: 0.0095, RMSE Val: 0.0124\n",
      "Epoch 126/200, Loss: 0.0001, RMSE Train: 0.0098, RMSE Val: 0.0124\n",
      "Epoch 127/200, Loss: 0.0002, RMSE Train: 0.0146, RMSE Val: 0.0123\n",
      "Epoch 128/200, Loss: 0.0001, RMSE Train: 0.0100, RMSE Val: 0.0124\n",
      "Epoch 129/200, Loss: 0.0002, RMSE Train: 0.0136, RMSE Val: 0.0124\n",
      "Epoch 130/200, Loss: 0.0004, RMSE Train: 0.0196, RMSE Val: 0.0123\n",
      "Epoch 131/200, Loss: 0.0001, RMSE Train: 0.0104, RMSE Val: 0.0124\n",
      "Epoch 132/200, Loss: 0.0002, RMSE Train: 0.0128, RMSE Val: 0.0123\n",
      "Epoch 133/200, Loss: 0.0001, RMSE Train: 0.0121, RMSE Val: 0.0123\n",
      "Epoch 134/200, Loss: 0.0001, RMSE Train: 0.0078, RMSE Val: 0.0124\n",
      "Epoch 135/200, Loss: 0.0003, RMSE Train: 0.0167, RMSE Val: 0.0123\n",
      "Epoch 136/200, Loss: 0.0001, RMSE Train: 0.0083, RMSE Val: 0.0124\n",
      "Epoch 137/200, Loss: 0.0002, RMSE Train: 0.0125, RMSE Val: 0.0122\n",
      "Epoch 138/200, Loss: 0.0001, RMSE Train: 0.0092, RMSE Val: 0.0124\n",
      "Epoch 139/200, Loss: 0.0001, RMSE Train: 0.0120, RMSE Val: 0.0123\n",
      "Epoch 140/200, Loss: 0.0001, RMSE Train: 0.0112, RMSE Val: 0.0124\n",
      "Epoch 141/200, Loss: 0.0002, RMSE Train: 0.0140, RMSE Val: 0.0123\n",
      "Epoch 142/200, Loss: 0.0002, RMSE Train: 0.0126, RMSE Val: 0.0123\n",
      "Epoch 143/200, Loss: 0.0002, RMSE Train: 0.0124, RMSE Val: 0.0123\n",
      "Epoch 144/200, Loss: 0.0001, RMSE Train: 0.0101, RMSE Val: 0.0125\n",
      "Epoch 145/200, Loss: 0.0003, RMSE Train: 0.0164, RMSE Val: 0.0124\n",
      "Epoch 146/200, Loss: 0.0001, RMSE Train: 0.0104, RMSE Val: 0.0124\n",
      "Epoch 147/200, Loss: 0.0001, RMSE Train: 0.0081, RMSE Val: 0.0124\n",
      "Epoch 148/200, Loss: 0.0002, RMSE Train: 0.0130, RMSE Val: 0.0124\n",
      "Epoch 149/200, Loss: 0.0002, RMSE Train: 0.0157, RMSE Val: 0.0122\n",
      "Epoch 150/200, Loss: 0.0001, RMSE Train: 0.0109, RMSE Val: 0.0123\n",
      "Epoch 151/200, Loss: 0.0003, RMSE Train: 0.0173, RMSE Val: 0.0123\n",
      "Epoch 152/200, Loss: 0.0001, RMSE Train: 0.0118, RMSE Val: 0.0124\n",
      "Epoch 153/200, Loss: 0.0002, RMSE Train: 0.0144, RMSE Val: 0.0123\n",
      "Epoch 154/200, Loss: 0.0001, RMSE Train: 0.0098, RMSE Val: 0.0123\n",
      "Epoch 155/200, Loss: 0.0002, RMSE Train: 0.0134, RMSE Val: 0.0123\n",
      "Epoch 156/200, Loss: 0.0001, RMSE Train: 0.0107, RMSE Val: 0.0123\n",
      "Epoch 157/200, Loss: 0.0002, RMSE Train: 0.0127, RMSE Val: 0.0123\n",
      "Epoch 158/200, Loss: 0.0002, RMSE Train: 0.0131, RMSE Val: 0.0123\n",
      "Epoch 159/200, Loss: 0.0002, RMSE Train: 0.0134, RMSE Val: 0.0123\n",
      "Epoch 160/200, Loss: 0.0002, RMSE Train: 0.0158, RMSE Val: 0.0123\n",
      "Epoch 161/200, Loss: 0.0003, RMSE Train: 0.0166, RMSE Val: 0.0122\n",
      "Epoch 162/200, Loss: 0.0001, RMSE Train: 0.0099, RMSE Val: 0.0123\n",
      "Epoch 163/200, Loss: 0.0001, RMSE Train: 0.0099, RMSE Val: 0.0123\n",
      "Epoch 164/200, Loss: 0.0001, RMSE Train: 0.0081, RMSE Val: 0.0123\n",
      "Epoch 165/200, Loss: 0.0002, RMSE Train: 0.0129, RMSE Val: 0.0123\n",
      "Epoch 166/200, Loss: 0.0001, RMSE Train: 0.0103, RMSE Val: 0.0123\n",
      "Epoch 167/200, Loss: 0.0006, RMSE Train: 0.0235, RMSE Val: 0.0123\n",
      "Epoch 168/200, Loss: 0.0001, RMSE Train: 0.0086, RMSE Val: 0.0122\n",
      "Epoch 169/200, Loss: 0.0001, RMSE Train: 0.0107, RMSE Val: 0.0122\n",
      "Epoch 170/200, Loss: 0.0001, RMSE Train: 0.0111, RMSE Val: 0.0122\n",
      "Epoch 171/200, Loss: 0.0002, RMSE Train: 0.0133, RMSE Val: 0.0123\n",
      "Epoch 172/200, Loss: 0.0003, RMSE Train: 0.0165, RMSE Val: 0.0122\n",
      "Epoch 173/200, Loss: 0.0001, RMSE Train: 0.0078, RMSE Val: 0.0123\n",
      "Epoch 174/200, Loss: 0.0001, RMSE Train: 0.0105, RMSE Val: 0.0123\n",
      "Epoch 175/200, Loss: 0.0002, RMSE Train: 0.0128, RMSE Val: 0.0122\n",
      "Epoch 176/200, Loss: 0.0001, RMSE Train: 0.0109, RMSE Val: 0.0123\n",
      "Epoch 177/200, Loss: 0.0001, RMSE Train: 0.0096, RMSE Val: 0.0122\n",
      "Epoch 178/200, Loss: 0.0004, RMSE Train: 0.0188, RMSE Val: 0.0123\n",
      "Epoch 179/200, Loss: 0.0002, RMSE Train: 0.0131, RMSE Val: 0.0123\n"
     ]
    },
    {
     "ename": "KeyboardInterrupt",
     "evalue": "",
     "output_type": "error",
     "traceback": [
      "\u001b[31m---------------------------------------------------------------------------\u001b[39m",
      "\u001b[31mKeyboardInterrupt\u001b[39m                         Traceback (most recent call last)",
      "\u001b[36mCell\u001b[39m\u001b[36m \u001b[39m\u001b[32mIn[78]\u001b[39m\u001b[32m, line 20\u001b[39m\n\u001b[32m     18\u001b[39m     predictions = model(batch_x)\n\u001b[32m     19\u001b[39m     loss = loss_function(predictions, batch_y.unsqueeze(\u001b[32m1\u001b[39m))\n\u001b[32m---> \u001b[39m\u001b[32m20\u001b[39m     \u001b[43mloss\u001b[49m\u001b[43m.\u001b[49m\u001b[43mbackward\u001b[49m\u001b[43m(\u001b[49m\u001b[43m)\u001b[49m\n\u001b[32m     21\u001b[39m     optimizer.step()\n\u001b[32m     23\u001b[39m \u001b[38;5;66;03m# Validation\u001b[39;00m\n",
      "\u001b[36mFile \u001b[39m\u001b[32m~\\AppData\\Roaming\\Python\\Python313\\site-packages\\torch\\_tensor.py:648\u001b[39m, in \u001b[36mTensor.backward\u001b[39m\u001b[34m(self, gradient, retain_graph, create_graph, inputs)\u001b[39m\n\u001b[32m    638\u001b[39m \u001b[38;5;28;01mif\u001b[39;00m has_torch_function_unary(\u001b[38;5;28mself\u001b[39m):\n\u001b[32m    639\u001b[39m     \u001b[38;5;28;01mreturn\u001b[39;00m handle_torch_function(\n\u001b[32m    640\u001b[39m         Tensor.backward,\n\u001b[32m    641\u001b[39m         (\u001b[38;5;28mself\u001b[39m,),\n\u001b[32m   (...)\u001b[39m\u001b[32m    646\u001b[39m         inputs=inputs,\n\u001b[32m    647\u001b[39m     )\n\u001b[32m--> \u001b[39m\u001b[32m648\u001b[39m \u001b[43mtorch\u001b[49m\u001b[43m.\u001b[49m\u001b[43mautograd\u001b[49m\u001b[43m.\u001b[49m\u001b[43mbackward\u001b[49m\u001b[43m(\u001b[49m\n\u001b[32m    649\u001b[39m \u001b[43m    \u001b[49m\u001b[38;5;28;43mself\u001b[39;49m\u001b[43m,\u001b[49m\u001b[43m \u001b[49m\u001b[43mgradient\u001b[49m\u001b[43m,\u001b[49m\u001b[43m \u001b[49m\u001b[43mretain_graph\u001b[49m\u001b[43m,\u001b[49m\u001b[43m \u001b[49m\u001b[43mcreate_graph\u001b[49m\u001b[43m,\u001b[49m\u001b[43m \u001b[49m\u001b[43minputs\u001b[49m\u001b[43m=\u001b[49m\u001b[43minputs\u001b[49m\n\u001b[32m    650\u001b[39m \u001b[43m\u001b[49m\u001b[43m)\u001b[49m\n",
      "\u001b[36mFile \u001b[39m\u001b[32m~\\AppData\\Roaming\\Python\\Python313\\site-packages\\torch\\autograd\\__init__.py:353\u001b[39m, in \u001b[36mbackward\u001b[39m\u001b[34m(tensors, grad_tensors, retain_graph, create_graph, grad_variables, inputs)\u001b[39m\n\u001b[32m    348\u001b[39m     retain_graph = create_graph\n\u001b[32m    350\u001b[39m \u001b[38;5;66;03m# The reason we repeat the same comment below is that\u001b[39;00m\n\u001b[32m    351\u001b[39m \u001b[38;5;66;03m# some Python versions print out the first line of a multi-line function\u001b[39;00m\n\u001b[32m    352\u001b[39m \u001b[38;5;66;03m# calls in the traceback and some print out the last line\u001b[39;00m\n\u001b[32m--> \u001b[39m\u001b[32m353\u001b[39m \u001b[43m_engine_run_backward\u001b[49m\u001b[43m(\u001b[49m\n\u001b[32m    354\u001b[39m \u001b[43m    \u001b[49m\u001b[43mtensors\u001b[49m\u001b[43m,\u001b[49m\n\u001b[32m    355\u001b[39m \u001b[43m    \u001b[49m\u001b[43mgrad_tensors_\u001b[49m\u001b[43m,\u001b[49m\n\u001b[32m    356\u001b[39m \u001b[43m    \u001b[49m\u001b[43mretain_graph\u001b[49m\u001b[43m,\u001b[49m\n\u001b[32m    357\u001b[39m \u001b[43m    \u001b[49m\u001b[43mcreate_graph\u001b[49m\u001b[43m,\u001b[49m\n\u001b[32m    358\u001b[39m \u001b[43m    \u001b[49m\u001b[43minputs\u001b[49m\u001b[43m,\u001b[49m\n\u001b[32m    359\u001b[39m \u001b[43m    \u001b[49m\u001b[43mallow_unreachable\u001b[49m\u001b[43m=\u001b[49m\u001b[38;5;28;43;01mTrue\u001b[39;49;00m\u001b[43m,\u001b[49m\n\u001b[32m    360\u001b[39m \u001b[43m    \u001b[49m\u001b[43maccumulate_grad\u001b[49m\u001b[43m=\u001b[49m\u001b[38;5;28;43;01mTrue\u001b[39;49;00m\u001b[43m,\u001b[49m\n\u001b[32m    361\u001b[39m \u001b[43m\u001b[49m\u001b[43m)\u001b[49m\n",
      "\u001b[36mFile \u001b[39m\u001b[32m~\\AppData\\Roaming\\Python\\Python313\\site-packages\\torch\\autograd\\graph.py:824\u001b[39m, in \u001b[36m_engine_run_backward\u001b[39m\u001b[34m(t_outputs, *args, **kwargs)\u001b[39m\n\u001b[32m    822\u001b[39m     unregister_hooks = _register_logging_hooks_on_whole_graph(t_outputs)\n\u001b[32m    823\u001b[39m \u001b[38;5;28;01mtry\u001b[39;00m:\n\u001b[32m--> \u001b[39m\u001b[32m824\u001b[39m     \u001b[38;5;28;01mreturn\u001b[39;00m \u001b[43mVariable\u001b[49m\u001b[43m.\u001b[49m\u001b[43m_execution_engine\u001b[49m\u001b[43m.\u001b[49m\u001b[43mrun_backward\u001b[49m\u001b[43m(\u001b[49m\u001b[43m  \u001b[49m\u001b[38;5;66;43;03m# Calls into the C++ engine to run the backward pass\u001b[39;49;00m\n\u001b[32m    825\u001b[39m \u001b[43m        \u001b[49m\u001b[43mt_outputs\u001b[49m\u001b[43m,\u001b[49m\u001b[43m \u001b[49m\u001b[43m*\u001b[49m\u001b[43margs\u001b[49m\u001b[43m,\u001b[49m\u001b[43m \u001b[49m\u001b[43m*\u001b[49m\u001b[43m*\u001b[49m\u001b[43mkwargs\u001b[49m\n\u001b[32m    826\u001b[39m \u001b[43m    \u001b[49m\u001b[43m)\u001b[49m  \u001b[38;5;66;03m# Calls into the C++ engine to run the backward pass\u001b[39;00m\n\u001b[32m    827\u001b[39m \u001b[38;5;28;01mfinally\u001b[39;00m:\n\u001b[32m    828\u001b[39m     \u001b[38;5;28;01mif\u001b[39;00m attach_logging_hooks:\n",
      "\u001b[31mKeyboardInterrupt\u001b[39m: "
     ]
    }
   ],
   "source": [
    "epochs = 200\n",
    "batch_size = 64\n",
    "val_batch_size = 64  \n",
    "\n",
    "train_rmses = []\n",
    "val_rmses = []\n",
    "\n",
    "\n",
    "for epoch in range(epochs):\n",
    "    model.train()\n",
    "    permutation = torch.randperm(X_train_tensor.size(0))\n",
    "\n",
    "    for i in range(0, X_train_tensor.size(0), batch_size):\n",
    "        indices = permutation[i:i + batch_size]\n",
    "        batch_x, batch_y = X_train_tensor[indices], y_train_tensor[indices]\n",
    "\n",
    "        optimizer.zero_grad()\n",
    "        predictions = model(batch_x)\n",
    "        loss = loss_function(predictions, batch_y.unsqueeze(1))\n",
    "        loss.backward()\n",
    "        optimizer.step()\n",
    "\n",
    "    # Validation\n",
    "    model.eval()\n",
    "    val_loss = 0.0\n",
    "    with torch.no_grad():\n",
    "        for i in range(0, X_val_tensor.size(0), val_batch_size):\n",
    "            val_indices = torch.arange(i, min(i + val_batch_size, X_val_tensor.size(0)))\n",
    "            batch_val_x, batch_val_y = X_val_tensor[val_indices], y_val_tensor[val_indices]\n",
    "\n",
    "            val_predictions = model(batch_val_x)\n",
    "            val_loss += loss_function(val_predictions, batch_val_y.unsqueeze(1)).item()\n",
    "\n",
    "    avg_val_loss = val_loss / (X_val_tensor.size(0) // val_batch_size)\n",
    "\n",
    "\n",
    "    rmse_train = loss.item() ** 0.5\n",
    "    rmse_val = avg_val_loss ** 0.5\n",
    "    current_lr = optimizer.param_groups[0]['lr']\n",
    "\n",
    "    train_rmses.append(rmse_train)\n",
    "    val_rmses.append(rmse_val)\n",
    "\n",
    "\n",
    "    print(f\"Epoch {epoch+1}/{epochs}, Loss: {loss.item():.4f}, RMSE Train: {rmse_train:.4f}, RMSE Val: {rmse_val:.4f}\")\n"
   ]
  },
  {
   "cell_type": "code",
   "execution_count": null,
   "id": "52adf5cd",
   "metadata": {},
   "outputs": [
    {
     "data": {
      "image/png": "[encoded data removed]",
      "text/plain": [
       "<Figure size 1500x400 with 1 Axes>"
      ]
     },
     "metadata": {},
     "output_type": "display_data"
    }
   ],
   "source": [
    "import matplotlib.pyplot as plt\n",
    "\n",
    "epochs_range = range(1, epochs + 1)\n",
    "\n",
    "plt.figure(figsize=(15, 4))\n",
    "\n",
    "\n",
    "plt.plot(epochs_range, train_rmses, label='Train RMSE')\n",
    "plt.plot(epochs_range, val_rmses, label='Val RMSE')\n",
    "plt.title('RMSE Over Epochs')\n",
    "plt.xlabel('Epoch')\n",
    "plt.ylabel('RMSE')\n",
    "plt.legend()\n",
    "\n",
    "\n",
    "\n",
    "plt.tight_layout()\n",
    "plt.show()\n"
   ]
  },
  {
   "cell_type": "markdown",
   "id": "bb2f8ba1",
   "metadata": {},
   "source": [
    "### Visualize predictions"
   ]
  },
  {
   "cell_type": "code",
   "execution_count": 79,
   "id": "3b5a1d15",
   "metadata": {},
   "outputs": [],
   "source": [
    "test_returns = get_portofolio_returns(generate_random_portfolio(tickers, 1, 10))"
   ]
  },
  {
   "cell_type": "code",
   "execution_count": 80,
   "id": "093b582f",
   "metadata": {},
   "outputs": [
    {
     "data": {
      "application/vnd.microsoft.datawrangler.viewer.v0+json": {
       "columns": [
        {
         "name": "Date",
         "rawType": "datetime64[ns]",
         "type": "datetime"
        },
        {
         "name": "0",
         "rawType": "float64",
         "type": "float"
        }
       ],
       "ref": "c21623d2-7dba-4d21-b8eb-73f3a7aad8f0",
       "rows": [
        [
         "2014-01-03 00:00:00",
         "-0.0007472907816255157"
        ],
        [
         "2014-01-06 00:00:00",
         "-0.0019322402028833128"
        ],
        [
         "2014-01-07 00:00:00",
         "0.002605382321756042"
        ],
        [
         "2014-01-08 00:00:00",
         "0.0029070360199820915"
        ],
        [
         "2014-01-09 00:00:00",
         "-0.000814570466067808"
        ]
       ],
       "shape": {
        "columns": 1,
        "rows": 5
       }
      },
      "text/plain": [
       "Date\n",
       "2014-01-03   -0.000747\n",
       "2014-01-06   -0.001932\n",
       "2014-01-07    0.002605\n",
       "2014-01-08    0.002907\n",
       "2014-01-09   -0.000815\n",
       "dtype: float64"
      ]
     },
     "execution_count": 80,
     "metadata": {},
     "output_type": "execute_result"
    }
   ],
   "source": [
    "test_returns.head()"
   ]
  },
  {
   "cell_type": "code",
   "execution_count": 81,
   "id": "e1ab9bfc",
   "metadata": {},
   "outputs": [],
   "source": [
    "import numpy as np\n",
    "\n",
    "# Create sequences from the returns data\n",
    "def create_sequences(data, lookback):\n",
    "    sequences = []\n",
    "    labels = []\n",
    "    for i in range(lookback, len(data)):\n",
    "        sequences.append(data[i-lookback:i])  # Last 'lookback' points as input\n",
    "        labels.append(data[i])  # The current point as the target\n",
    "    return np.array(sequences), np.array(labels)\n",
    "\n",
    "LOOKBACK = 30  # Define the lookback period\n",
    "\n",
    "# Assuming 'returns_df' is your DataFrame with returns and date index\n",
    "returns = test_returns.values  # Extract the returns as a NumPy array\n",
    "X_new, y_new = create_sequences(returns, LOOKBACK)  # Create sequences and labels\n",
    "\n",
    "# Convert to PyTorch tensors\n",
    "X_new_tensor = torch.tensor(X_new, dtype=torch.float32).unsqueeze(-1).to(device)\n",
    "y_new_tensor = torch.tensor(y_new, dtype=torch.float32).to(device)\n"
   ]
  },
  {
   "cell_type": "code",
   "execution_count": 82,
   "id": "15a954e3",
   "metadata": {},
   "outputs": [
    {
     "data": {
      "text/plain": [
       "(211228,)"
      ]
     },
     "execution_count": 82,
     "metadata": {},
     "output_type": "execute_result"
    }
   ],
   "source": [
    "y_train.shape"
   ]
  },
  {
   "cell_type": "code",
   "execution_count": 83,
   "id": "4ddc35f5",
   "metadata": {},
   "outputs": [
    {
     "name": "stdout",
     "output_type": "stream",
     "text": [
      "11.8\n"
     ]
    }
   ],
   "source": [
    "print(torch.version.cuda)"
   ]
  },
  {
   "cell_type": "code",
   "execution_count": 84,
   "id": "678aafab",
   "metadata": {},
   "outputs": [],
   "source": [
    "# Set the model to evaluation mode\n",
    "model.eval()\n",
    "\n",
    "# Make predictions with the model\n",
    "with torch.no_grad():\n",
    "    predictions = model(X_new_tensor).squeeze().cpu().numpy()\n",
    "    actuals = y_new_tensor.cpu().numpy()\n"
   ]
  },
  {
   "cell_type": "code",
   "execution_count": 85,
   "id": "ab8bba8c",
   "metadata": {},
   "outputs": [
    {
     "data": {
      "image/png": "[encoded data removed]",
      "text/plain": [
       "<Figure size 1000x600 with 1 Axes>"
      ]
     },
     "metadata": {},
     "output_type": "display_data"
    }
   ],
   "source": [
    "import matplotlib.pyplot as plt\n",
    "\n",
    "dates = test_returns.index[LOOKBACK:].values\n",
    "\n",
    "plt.figure(figsize=(10, 6))\n",
    "plt.plot(dates, actuals, label='Actual Returns', linewidth=2, color='#1f77b4')  # Blue\n",
    "plt.plot(dates, predictions, label='Predicted Returns', linewidth=2, color='#ff7f0e', alpha=0.6)  # Orange, transparent\n",
    "plt.title('Predicted vs Actual Returns')\n",
    "plt.xlabel('Date')\n",
    "plt.ylabel('Return')\n",
    "plt.xticks(rotation=45)\n",
    "plt.legend()\n",
    "plt.grid(True)\n",
    "plt.tight_layout()\n",
    "plt.show()\n"
   ]
  },
  {
   "cell_type": "markdown",
   "id": "2c0a7896",
   "metadata": {},
   "source": [
    "We can notice that our modeldid manage to catch the big spikes in 2020, but it otherwise gives outputs that are really close to the mean"
   ]
  },
  {
   "cell_type": "markdown",
   "id": "0cf8f0a2",
   "metadata": {},
   "source": [
    "### Models"
   ]
  },
  {
   "cell_type": "markdown",
   "id": "f3587189",
   "metadata": {},
   "source": [
    "def __init__(self, input_size=1, hidden_layer_size=50, output_size=1):\n",
    "        super(LSTMModel, self).__init__()\n",
    "\n",
    "        self.lstm = nn.LSTM(input_size, hidden_layer_size, batch_first=True)\n",
    "        self.dropout = nn.Dropout(0.2)\n",
    "\n",
    "        # Added intermediate dense layer with 3 nodes\n",
    "        self.hidden = nn.Linear(hidden_layer_size, 3)\n",
    "        self.relu = nn.ReLU()\n",
    "\n",
    "        self.fc = nn.Linear(3, output_size)"
   ]
  },
  {
   "cell_type": "markdown",
   "id": "8a2afc52",
   "metadata": {},
   "source": [
    "lookback_period=20  RMSE Val: 0.0174  \n",
    "lookback_period=30  RMSE Val: 0.0160  \n",
    "lookback_period=50  RMSE Val: 0.0172"
   ]
  },
  {
   "cell_type": "markdown",
   "id": "0404e290",
   "metadata": {},
   "source": [
    "---"
   ]
  },
  {
   "cell_type": "markdown",
   "id": "f4975052",
   "metadata": {},
   "source": [
    "import torch\n",
    "import torch.nn as nn\n",
    "\n",
    "class LSTMModel(nn.Module):\n",
    "\n",
    "    LOOKBACK = 30\n",
    "\n",
    "    def __init__(self, input_size=1, hidden_layer_size=100, intermediate_size=20, output_size=1):\n",
    "        super(LSTMModel, self).__init__()\n",
    "\n",
    "        self.lstm = nn.LSTM(input_size, hidden_layer_size, batch_first=True)\n",
    "        self.dropout = nn.Dropout(0.2)\n",
    "\n",
    "        # First dense layer after LSTM\n",
    "        self.fc1 = nn.Linear(hidden_layer_size, intermediate_size)\n",
    "        self.relu = nn.LeakyReLU()\n",
    "\n",
    "        # Second dense layer for final output\n",
    "        self.fc2 = nn.Linear(intermediate_size, output_size)\n",
    "\n",
    "    def forward(self, x):\n",
    "        lstm_out, _ = self.lstm(x)\n",
    "        lstm_out = self.dropout(lstm_out)\n",
    "        last_time_step = lstm_out[:, -1, :]\n",
    "\n",
    "        hidden_out = self.relu(self.fc1(last_time_step))\n",
    "        output = self.fc2(hidden_out)\n",
    "\n",
    "        return output\n"
   ]
  },
  {
   "cell_type": "markdown",
   "id": "c566a2cf",
   "metadata": {},
   "source": [
    "RMSE Val: 0.0148"
   ]
  },
  {
   "cell_type": "markdown",
   "id": "2e71b157",
   "metadata": {},
   "source": [
    "---"
   ]
  },
  {
   "cell_type": "markdown",
   "id": "97ff4ca4",
   "metadata": {},
   "source": [
    "\n",
    "class LSTMModel(nn.Module):\n",
    "\n",
    "    LOOKBACK = 30\n",
    "\n",
    "    def __init__(\n",
    "        self, input_size=1, hidden_layer_size=50, intermediate_size=10, output_size=1\n",
    "    ):\n",
    "        super(LSTMModel, self).__init__()\n",
    "\n",
    "        self.lstm = nn.LSTM(input_size, hidden_layer_size, batch_first=True)\n",
    "        self.dropout = nn.Dropout(0.2)\n",
    "\n",
    "        self.fc1 = nn.Linear(hidden_layer_size, intermediate_size)\n",
    "        self.relu = nn.LeakyReLU()\n",
    "\n",
    "        self.fc2 = nn.Linear(intermediate_size, output_size)\n",
    "\n",
    "    def forward(self, x):\n",
    "        lstm_out, _ = self.lstm(x)\n",
    "        lstm_out = self.dropout(lstm_out)\n",
    "        last_time_step = lstm_out[:, -1, :]\n",
    "\n",
    "        hidden_out = self.relu(self.fc1(last_time_step))\n",
    "        output = self.fc2(hidden_out)\n",
    "\n",
    "        return output\n"
   ]
  },
  {
   "cell_type": "markdown",
   "id": "ddc0e0de",
   "metadata": {},
   "source": [
    "RMSE Val: 0.0123 - 100 epochs"
   ]
  },
  {
   "cell_type": "code",
   "execution_count": 88,
   "id": "150c182b",
   "metadata": {},
   "outputs": [],
   "source": [
    "save_model = False\n",
    "\n",
    "if save_model:\n",
    "    torch.save(model.state_dict(), 'model/lstm_model2.pth')\n",
    "    print(\"Model saved to 'model/lstm_model2.pth'\")"
   ]
  },
  {
   "cell_type": "code",
   "execution_count": null,
   "id": "c9bc7108",
   "metadata": {},
   "outputs": [],
   "source": []
  }
 ],
 "metadata": {
  "kernelspec": {
   "display_name": "Python 3",
   "language": "python",
   "name": "python3"
  },
  "language_info": {
   "codemirror_mode": {
    "name": "ipython",
    "version": 3
   },
   "file_extension": ".py",
   "mimetype": "text/x-python",
   "name": "python",
   "nbconvert_exporter": "python",
   "pygments_lexer": "ipython3",
   "version": "3.13.2"
  }
 },
 "nbformat": 4,
 "nbformat_minor": 5
}
